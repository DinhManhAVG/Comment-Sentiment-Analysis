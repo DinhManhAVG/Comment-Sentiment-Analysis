{
 "cells": [
  {
   "cell_type": "code",
   "execution_count": 2,
   "metadata": {},
   "outputs": [
    {
     "data": {
      "text/plain": [
       "('./vietnamese-correction-v2\\\\tokenizer_config.json',\n",
       " './vietnamese-correction-v2\\\\special_tokens_map.json',\n",
       " './vietnamese-correction-v2\\\\sentencepiece.bpe.model',\n",
       " './vietnamese-correction-v2\\\\dict.txt',\n",
       " './vietnamese-correction-v2\\\\added_tokens.json')"
      ]
     },
     "execution_count": 2,
     "metadata": {},
     "output_type": "execute_result"
    }
   ],
   "source": [
    "from transformers import AutoModelForSeq2SeqLM, AutoTokenizer\n",
    "\n",
    "# Tải mô hình và tokenizer từ Hugging Face\n",
    "model_name = \"bmd1905/vietnamese-correction-v2\"\n",
    "model = AutoModelForSeq2SeqLM.from_pretrained(model_name)\n",
    "tokenizer = AutoTokenizer.from_pretrained(model_name)\n",
    "\n",
    "# Lưu mô hình vào thư mục cục bộ\n",
    "model.save_pretrained(\"./vietnamese-correction-v2\")\n",
    "tokenizer.save_pretrained(\"./vietnamese-correction-v2\")\n"
   ]
  },
  {
   "cell_type": "code",
   "execution_count": 3,
   "metadata": {},
   "outputs": [
    {
     "name": "stderr",
     "output_type": "stream",
     "text": [
      "Device set to use cpu\n"
     ]
    },
    {
     "name": "stdout",
     "output_type": "stream",
     "text": [
      "Mình mơi mua 1 ngày nhưng thấy...\n"
     ]
    }
   ],
   "source": [
    "from transformers import pipeline\n",
    "\n",
    "# Sử dụng mô hình từ thư mục cục bộ\n",
    "corrector = pipeline(\"text2text-generation\", model=\"./vietnamese-correction-v2\")\n",
    "\n",
    "# Sử dụng mô hình để sửa lỗi\n",
    "text = \"Mình mơi mua 1 ngày nhưng tháy\"\n",
    "corrected_text = corrector(text, max_length=2000)\n",
    "\n",
    "print(corrected_text[0]['generated_text'])\n"
   ]
  }
 ],
 "metadata": {
  "kernelspec": {
   "display_name": ".venv",
   "language": "python",
   "name": "python3"
  },
  "language_info": {
   "codemirror_mode": {
    "name": "ipython",
    "version": 3
   },
   "file_extension": ".py",
   "mimetype": "text/x-python",
   "name": "python",
   "nbconvert_exporter": "python",
   "pygments_lexer": "ipython3",
   "version": "3.10.6"
  }
 },
 "nbformat": 4,
 "nbformat_minor": 2
}
