{
 "cells": [
  {
   "cell_type": "code",
   "execution_count": null,
   "metadata": {},
   "outputs": [],
   "source": [
    "!pip install transformers"
   ]
  },
  {
   "cell_type": "code",
   "execution_count": 2,
   "metadata": {},
   "outputs": [
    {
     "name": "stdout",
     "output_type": "stream",
     "text": [
      "Collecting sentencepiece\n",
      "  Downloading sentencepiece-0.2.0-cp310-cp310-win_amd64.whl.metadata (8.3 kB)\n",
      "Downloading sentencepiece-0.2.0-cp310-cp310-win_amd64.whl (991 kB)\n",
      "   ---------------------------------------- 0.0/991.5 kB ? eta -:--:--\n",
      "   --------------------- ------------------ 524.3/991.5 kB 5.6 MB/s eta 0:00:01\n",
      "   ---------------------------------------- 991.5/991.5 kB 5.2 MB/s eta 0:00:00\n",
      "Installing collected packages: sentencepiece\n",
      "Successfully installed sentencepiece-0.2.0\n"
     ]
    }
   ],
   "source": [
    "!pip install sentencepiece"
   ]
  },
  {
   "cell_type": "code",
   "execution_count": 1,
   "metadata": {},
   "outputs": [
    {
     "name": "stderr",
     "output_type": "stream",
     "text": [
      "d:\\Tools\\Miniconda3\\envs\\py310\\lib\\site-packages\\tqdm\\auto.py:21: TqdmWarning: IProgress not found. Please update jupyter and ipywidgets. See https://ipywidgets.readthedocs.io/en/stable/user_install.html\n",
      "  from .autonotebook import tqdm as notebook_tqdm\n"
     ]
    },
    {
     "data": {
      "text/plain": [
       "('./vietnamese-correction-v2\\\\tokenizer_config.json',\n",
       " './vietnamese-correction-v2\\\\special_tokens_map.json',\n",
       " './vietnamese-correction-v2\\\\sentencepiece.bpe.model',\n",
       " './vietnamese-correction-v2\\\\dict.txt',\n",
       " './vietnamese-correction-v2\\\\added_tokens.json')"
      ]
     },
     "execution_count": 1,
     "metadata": {},
     "output_type": "execute_result"
    }
   ],
   "source": [
    "from transformers import AutoModelForSeq2SeqLM, AutoTokenizer\n",
    "\n",
    "# Tải mô hình và tokenizer từ Hugging Face\n",
    "model_name = \"bmd1905/vietnamese-correction-v2\"\n",
    "model = AutoModelForSeq2SeqLM.from_pretrained(model_name)\n",
    "tokenizer = AutoTokenizer.from_pretrained(model_name)\n",
    "\n",
    "# Lưu mô hình vào thư mục cục bộ\n",
    "model.save_pretrained(\"./vietnamese-correction-v2\")\n",
    "tokenizer.save_pretrained(\"./vietnamese-correction-v2\")"
   ]
  },
  {
   "cell_type": "markdown",
   "metadata": {},
   "source": [
    "### Test khi chạy GPU"
   ]
  },
  {
   "cell_type": "code",
   "execution_count": 2,
   "metadata": {},
   "outputs": [
    {
     "name": "stderr",
     "output_type": "stream",
     "text": [
      "Device set to use cuda:0\n"
     ]
    }
   ],
   "source": [
    "from transformers import pipeline\n",
    "\n",
    "# Sử dụng mô hình từ thư mục cục bộ\n",
    "corrector = pipeline(\"text2text-generation\", model=\"./vietnamese-correction-v2\")"
   ]
  },
  {
   "cell_type": "code",
   "execution_count": 8,
   "metadata": {},
   "outputs": [
    {
     "name": "stdout",
     "output_type": "stream",
     "text": [
      "Original text: nhân vien lam viec chág quá\n",
      "Corrected text: Nhân viên làm việc chán quá.\n"
     ]
    }
   ],
   "source": [
    "text = \"nhân vien lam viec chág quá\"\n",
    "corrected_text = corrector(text, max_length=3000)\n",
    "\n",
    "print(\"Original text:\", text)\n",
    "print(\"Corrected text:\", corrected_text[0]['generated_text'])"
   ]
  },
  {
   "cell_type": "code",
   "execution_count": null,
   "metadata": {},
   "outputs": [
    {
     "name": "stdout",
     "output_type": "stream",
     "text": [
      "Máy sao cũng được ghét nhất cái zalo, vui nó báo hiện tên cuộc gọi, buồn thì nó im ru, hên ít sài zalo chứ sài nhiều chắc vức luôn cái máy quá.\n"
     ]
    },
    {
     "name": "stderr",
     "output_type": "stream",
     "text": [
      "You seem to be using the pipelines sequentially on GPU. In order to maximize efficiency please use a dataset\n"
     ]
    },
    {
     "name": "stdout",
     "output_type": "stream",
     "text": [
      "Máy sao cũng được ghét nhất cái zalo, vui nó báo hiện tên cuộc gọi, buồn thì nó im ru, hên ít sài zalo chứ sài nhiều chắc vức luôn cái máy quá.\n",
      "Máy sao cũng được ghét nhất cái zalo, vui nó báo hiện tên cuộc gọi, buồn thì nó im ru, hên ít sài zalo chứ sài nhiều chắc vức luôn cái máy quá.\n",
      "Máy sao cũng được ghét nhất cái zalo, vui nó báo hiện tên cuộc gọi, buồn thì nó im ru, hên ít sài zalo chứ sài nhiều chắc vức luôn cái máy quá.\n",
      "Máy sao cũng được ghét nhất cái zalo, vui nó báo hiện tên cuộc gọi, buồn thì nó im ru, hên ít sài zalo chứ sài nhiều chắc vức luôn cái máy quá.\n",
      "Máy sao cũng được ghét nhất cái zalo, vui nó báo hiện tên cuộc gọi, buồn thì nó im ru, hên ít sài zalo chứ sài nhiều chắc vức luôn cái máy quá.\n",
      "Máy sao cũng được ghét nhất cái zalo, vui nó báo hiện tên cuộc gọi, buồn thì nó im ru, hên ít sài zalo chứ sài nhiều chắc vức luôn cái máy quá.\n",
      "Máy sao cũng được ghét nhất cái zalo, vui nó báo hiện tên cuộc gọi, buồn thì nó im ru, hên ít sài zalo chứ sài nhiều chắc vức luôn cái máy quá.\n",
      "826 ms ± 35.7 ms per loop (mean ± std. dev. of 7 runs, 1 loop each)\n"
     ]
    }
   ],
   "source": [
    "%%timeit\n",
    "# Sử dụng mô hình để sửa lỗi\n",
    "text = \"máy sao cũng được ghét nhất cái zalo vui nó báo hiện tn cuộc gọi buồn thì nó im ru hên ít sài zalo chứ sài nhiều chắc vức luôn cái máy quá\"\n",
    "corrected_text = corrector(text, max_length=3000)\n",
    "\n",
    "print(corrected_text[0]['generated_text'])"
   ]
  },
  {
   "cell_type": "markdown",
   "metadata": {},
   "source": [
    "### Test khi chạy CPU"
   ]
  },
  {
   "cell_type": "code",
   "execution_count": 3,
   "metadata": {},
   "outputs": [
    {
     "name": "stderr",
     "output_type": "stream",
     "text": [
      "Device set to use cpu\n"
     ]
    }
   ],
   "source": [
    "from transformers import pipeline\n",
    "\n",
    "# Sử dụng mô hình từ thư mục cục bộ\n",
    "corrector = pipeline(\"text2text-generation\", model=\"./vietnamese-correction-v2\")"
   ]
  },
  {
   "cell_type": "code",
   "execution_count": 2,
   "metadata": {},
   "outputs": [
    {
     "name": "stdout",
     "output_type": "stream",
     "text": [
      "Máy sao cũng được ghét nhất cái zalo, vui nó báo hiện tên cuộc gọi, buồn thì nó im ru, hên ít sài zalo chứ sài nhiều chắc vức luôn cái máy quá.\n",
      "Máy sao cũng được ghét nhất cái zalo, vui nó báo hiện tên cuộc gọi, buồn thì nó im ru, hên ít sài zalo chứ sài nhiều chắc vức luôn cái máy quá.\n",
      "Máy sao cũng được ghét nhất cái zalo, vui nó báo hiện tên cuộc gọi, buồn thì nó im ru, hên ít sài zalo chứ sài nhiều chắc vức luôn cái máy quá.\n",
      "Máy sao cũng được ghét nhất cái zalo, vui nó báo hiện tên cuộc gọi, buồn thì nó im ru, hên ít sài zalo chứ sài nhiều chắc vức luôn cái máy quá.\n",
      "Máy sao cũng được ghét nhất cái zalo, vui nó báo hiện tên cuộc gọi, buồn thì nó im ru, hên ít sài zalo chứ sài nhiều chắc vức luôn cái máy quá.\n",
      "Máy sao cũng được ghét nhất cái zalo, vui nó báo hiện tên cuộc gọi, buồn thì nó im ru, hên ít sài zalo chứ sài nhiều chắc vức luôn cái máy quá.\n",
      "Máy sao cũng được ghét nhất cái zalo, vui nó báo hiện tên cuộc gọi, buồn thì nó im ru, hên ít sài zalo chứ sài nhiều chắc vức luôn cái máy quá.\n",
      "Máy sao cũng được ghét nhất cái zalo, vui nó báo hiện tên cuộc gọi, buồn thì nó im ru, hên ít sài zalo chứ sài nhiều chắc vức luôn cái máy quá.\n",
      "2.08 s ± 222 ms per loop (mean ± std. dev. of 7 runs, 1 loop each)\n"
     ]
    }
   ],
   "source": [
    "%%timeit\n",
    "# Sử dụng mô hình để sửa lỗi\n",
    "text = \"máy sao cũng được ghét nhất cái zalo vui nó báo hiện tn cuộc gọi buồn thì nó im ru hên ít sài zalo chứ sài nhiều chắc vức luôn cái máy quá\"\n",
    "corrected_text = corrector(text, max_length=3000)\n",
    "\n",
    "print(corrected_text[0]['generated_text'])"
   ]
  }
 ],
 "metadata": {
  "kernelspec": {
   "display_name": "py310",
   "language": "python",
   "name": "python3"
  },
  "language_info": {
   "codemirror_mode": {
    "name": "ipython",
    "version": 3
   },
   "file_extension": ".py",
   "mimetype": "text/x-python",
   "name": "python",
   "nbconvert_exporter": "python",
   "pygments_lexer": "ipython3",
   "version": "3.10.16"
  }
 },
 "nbformat": 4,
 "nbformat_minor": 2
}
