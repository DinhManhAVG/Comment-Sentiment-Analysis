{
 "cells": [
  {
   "cell_type": "code",
   "execution_count": null,
   "metadata": {},
   "outputs": [],
   "source": [
    "!pip install transformers"
   ]
  },
  {
   "cell_type": "code",
   "execution_count": 2,
   "metadata": {},
   "outputs": [
    {
     "name": "stdout",
     "output_type": "stream",
     "text": [
      "Collecting sentencepiece\n",
      "  Downloading sentencepiece-0.2.0-cp310-cp310-win_amd64.whl.metadata (8.3 kB)\n",
      "Downloading sentencepiece-0.2.0-cp310-cp310-win_amd64.whl (991 kB)\n",
      "   ---------------------------------------- 0.0/991.5 kB ? eta -:--:--\n",
      "   --------------------- ------------------ 524.3/991.5 kB 5.6 MB/s eta 0:00:01\n",
      "   ---------------------------------------- 991.5/991.5 kB 5.2 MB/s eta 0:00:00\n",
      "Installing collected packages: sentencepiece\n",
      "Successfully installed sentencepiece-0.2.0\n"
     ]
    }
   ],
   "source": [
    "!pip install sentencepiece"
   ]
  },
  {
   "cell_type": "code",
   "execution_count": null,
   "metadata": {},
   "outputs": [
    {
     "data": {
      "application/vnd.jupyter.widget-view+json": {
       "model_id": "a0443a09987643b99bac8f0eb705a730",
       "version_major": 2,
       "version_minor": 0
      },
      "text/plain": [
       "config.json:   0%|          | 0.00/961 [00:00<?, ?B/s]"
      ]
     },
     "metadata": {},
     "output_type": "display_data"
    },
    {
     "name": "stderr",
     "output_type": "stream",
     "text": [
      "d:\\School\\4thYear\\2ndSemester\\NLP\\Comment-Sentiment-Analysis\\.venv\\lib\\site-packages\\huggingface_hub\\file_download.py:142: UserWarning: `huggingface_hub` cache-system uses symlinks by default to efficiently store duplicated files but your machine does not support them in C:\\Users\\Lenovo\\.cache\\huggingface\\hub\\models--bmd1905--vietnamese-correction-v2. Caching files will still work but in a degraded version that might require more space on your disk. This warning can be disabled by setting the `HF_HUB_DISABLE_SYMLINKS_WARNING` environment variable. For more details, see https://huggingface.co/docs/huggingface_hub/how-to-cache#limitations.\n",
      "To support symlinks on Windows, you either need to activate Developer Mode or to run Python as an administrator. In order to activate developer mode, see this article: https://docs.microsoft.com/en-us/windows/apps/get-started/enable-your-device-for-development\n",
      "  warnings.warn(message)\n"
     ]
    },
    {
     "data": {
      "application/vnd.jupyter.widget-view+json": {
       "model_id": "543b6df5a9a64d71b23f94ac7af93a8d",
       "version_major": 2,
       "version_minor": 0
      },
      "text/plain": [
       "model.safetensors:   0%|          | 0.00/1.58G [00:00<?, ?B/s]"
      ]
     },
     "metadata": {},
     "output_type": "display_data"
    },
    {
     "data": {
      "application/vnd.jupyter.widget-view+json": {
       "model_id": "40657954b79c436a8439e06280622421",
       "version_major": 2,
       "version_minor": 0
      },
      "text/plain": [
       "tokenizer_config.json:   0%|          | 0.00/1.17k [00:00<?, ?B/s]"
      ]
     },
     "metadata": {},
     "output_type": "display_data"
    },
    {
     "data": {
      "application/vnd.jupyter.widget-view+json": {
       "model_id": "cd93de0757a344f0a8208138141c6e44",
       "version_major": 2,
       "version_minor": 0
      },
      "text/plain": [
       "sentencepiece.bpe.model:   0%|          | 0.00/5.07M [00:00<?, ?B/s]"
      ]
     },
     "metadata": {},
     "output_type": "display_data"
    },
    {
     "data": {
      "application/vnd.jupyter.widget-view+json": {
       "model_id": "828903da0f40401db12090bec2cc340f",
       "version_major": 2,
       "version_minor": 0
      },
      "text/plain": [
       "dict.txt:   0%|          | 0.00/360k [00:00<?, ?B/s]"
      ]
     },
     "metadata": {},
     "output_type": "display_data"
    },
    {
     "data": {
      "application/vnd.jupyter.widget-view+json": {
       "model_id": "981975731c2341148f27d206947a6da2",
       "version_major": 2,
       "version_minor": 0
      },
      "text/plain": [
       "special_tokens_map.json:   0%|          | 0.00/279 [00:00<?, ?B/s]"
      ]
     },
     "metadata": {},
     "output_type": "display_data"
    },
    {
     "data": {
      "text/plain": [
       "('./vietnamese-correction-v2\\\\tokenizer_config.json',\n",
       " './vietnamese-correction-v2\\\\special_tokens_map.json',\n",
       " './vietnamese-correction-v2\\\\sentencepiece.bpe.model',\n",
       " './vietnamese-correction-v2\\\\dict.txt',\n",
       " './vietnamese-correction-v2\\\\added_tokens.json')"
      ]
     },
     "execution_count": 1,
     "metadata": {},
     "output_type": "execute_result"
    }
   ],
   "source": [
    "from transformers import AutoModelForSeq2SeqLM, AutoTokenizer\n",
    "\n",
    "# Tải mô hình và tokenizer từ Hugging Face\n",
    "model_name = \"bmd1905/vietnamese-correction-v2\"\n",
    "model = AutoModelForSeq2SeqLM.from_pretrained(model_name)\n",
    "tokenizer = AutoTokenizer.from_pretrained(model_name)\n",
    "\n",
    "# Lưu mô hình vào thư mục cục bộ\n",
    "model.save_pretrained(\"./vietnamese-correction-v2\")\n",
    "tokenizer.save_pretrained(\"./vietnamese-correction-v2\")"
   ]
  },
  {
   "cell_type": "markdown",
   "metadata": {},
   "source": [
    "### Test khi chạy GPU"
   ]
  },
  {
   "cell_type": "code",
   "execution_count": 1,
   "metadata": {},
   "outputs": [
    {
     "name": "stderr",
     "output_type": "stream",
     "text": [
      "d:\\Tools\\Miniconda3\\envs\\py310\\lib\\site-packages\\tqdm\\auto.py:21: TqdmWarning: IProgress not found. Please update jupyter and ipywidgets. See https://ipywidgets.readthedocs.io/en/stable/user_install.html\n",
      "  from .autonotebook import tqdm as notebook_tqdm\n",
      "Device set to use cuda:0\n"
     ]
    }
   ],
   "source": [
    "from transformers import pipeline\n",
    "\n",
    "# Sử dụng mô hình từ thư mục cục bộ\n",
    "corrector = pipeline(\"text2text-generation\", model=\"./vietnamese-correction-v2\")"
   ]
  },
  {
   "cell_type": "code",
   "execution_count": 3,
   "metadata": {},
   "outputs": [
    {
     "name": "stdout",
     "output_type": "stream",
     "text": [
      "Máy sao cũng được ghét nhất cái zalo, vui nó báo hiện tên cuộc gọi, buồn thì nó im ru, hên ít sài zalo chứ sài nhiều chắc vức luôn cái máy quá.\n"
     ]
    },
    {
     "name": "stderr",
     "output_type": "stream",
     "text": [
      "You seem to be using the pipelines sequentially on GPU. In order to maximize efficiency please use a dataset\n"
     ]
    },
    {
     "name": "stdout",
     "output_type": "stream",
     "text": [
      "Máy sao cũng được ghét nhất cái zalo, vui nó báo hiện tên cuộc gọi, buồn thì nó im ru, hên ít sài zalo chứ sài nhiều chắc vức luôn cái máy quá.\n",
      "Máy sao cũng được ghét nhất cái zalo, vui nó báo hiện tên cuộc gọi, buồn thì nó im ru, hên ít sài zalo chứ sài nhiều chắc vức luôn cái máy quá.\n",
      "Máy sao cũng được ghét nhất cái zalo, vui nó báo hiện tên cuộc gọi, buồn thì nó im ru, hên ít sài zalo chứ sài nhiều chắc vức luôn cái máy quá.\n",
      "Máy sao cũng được ghét nhất cái zalo, vui nó báo hiện tên cuộc gọi, buồn thì nó im ru, hên ít sài zalo chứ sài nhiều chắc vức luôn cái máy quá.\n",
      "Máy sao cũng được ghét nhất cái zalo, vui nó báo hiện tên cuộc gọi, buồn thì nó im ru, hên ít sài zalo chứ sài nhiều chắc vức luôn cái máy quá.\n",
      "Máy sao cũng được ghét nhất cái zalo, vui nó báo hiện tên cuộc gọi, buồn thì nó im ru, hên ít sài zalo chứ sài nhiều chắc vức luôn cái máy quá.\n",
      "Máy sao cũng được ghét nhất cái zalo, vui nó báo hiện tên cuộc gọi, buồn thì nó im ru, hên ít sài zalo chứ sài nhiều chắc vức luôn cái máy quá.\n",
      "826 ms ± 35.7 ms per loop (mean ± std. dev. of 7 runs, 1 loop each)\n"
     ]
    }
   ],
   "source": [
    "%%timeit\n",
    "# Sử dụng mô hình để sửa lỗi\n",
    "text = \"máy sao cũng được ghét nhất cái zalo vui nó báo hiện tn cuộc gọi buồn thì nó im ru hên ít sài zalo chứ sài nhiều chắc vức luôn cái máy quá\"\n",
    "corrected_text = corrector(text, max_length=3000)\n",
    "\n",
    "print(corrected_text[0]['generated_text'])"
   ]
  },
  {
   "cell_type": "markdown",
   "metadata": {},
   "source": [
    "### Test khi chạy CPU"
   ]
  },
  {
   "cell_type": "code",
   "execution_count": 3,
   "metadata": {},
   "outputs": [
    {
     "name": "stderr",
     "output_type": "stream",
     "text": [
      "Device set to use cpu\n"
     ]
    }
   ],
   "source": [
    "from transformers import pipeline\n",
    "\n",
    "# Sử dụng mô hình từ thư mục cục bộ\n",
    "corrector = pipeline(\"text2text-generation\", model=\"./vietnamese-correction-v2\")"
   ]
  },
  {
   "cell_type": "code",
   "execution_count": 2,
   "metadata": {},
   "outputs": [
    {
     "name": "stdout",
     "output_type": "stream",
     "text": [
      "Máy sao cũng được ghét nhất cái zalo, vui nó báo hiện tên cuộc gọi, buồn thì nó im ru, hên ít sài zalo chứ sài nhiều chắc vức luôn cái máy quá.\n",
      "Máy sao cũng được ghét nhất cái zalo, vui nó báo hiện tên cuộc gọi, buồn thì nó im ru, hên ít sài zalo chứ sài nhiều chắc vức luôn cái máy quá.\n",
      "Máy sao cũng được ghét nhất cái zalo, vui nó báo hiện tên cuộc gọi, buồn thì nó im ru, hên ít sài zalo chứ sài nhiều chắc vức luôn cái máy quá.\n",
      "Máy sao cũng được ghét nhất cái zalo, vui nó báo hiện tên cuộc gọi, buồn thì nó im ru, hên ít sài zalo chứ sài nhiều chắc vức luôn cái máy quá.\n",
      "Máy sao cũng được ghét nhất cái zalo, vui nó báo hiện tên cuộc gọi, buồn thì nó im ru, hên ít sài zalo chứ sài nhiều chắc vức luôn cái máy quá.\n",
      "Máy sao cũng được ghét nhất cái zalo, vui nó báo hiện tên cuộc gọi, buồn thì nó im ru, hên ít sài zalo chứ sài nhiều chắc vức luôn cái máy quá.\n",
      "Máy sao cũng được ghét nhất cái zalo, vui nó báo hiện tên cuộc gọi, buồn thì nó im ru, hên ít sài zalo chứ sài nhiều chắc vức luôn cái máy quá.\n",
      "Máy sao cũng được ghét nhất cái zalo, vui nó báo hiện tên cuộc gọi, buồn thì nó im ru, hên ít sài zalo chứ sài nhiều chắc vức luôn cái máy quá.\n",
      "2.08 s ± 222 ms per loop (mean ± std. dev. of 7 runs, 1 loop each)\n"
     ]
    }
   ],
   "source": [
    "%%timeit\n",
    "# Sử dụng mô hình để sửa lỗi\n",
    "text = \"máy sao cũng được ghét nhất cái zalo vui nó báo hiện tn cuộc gọi buồn thì nó im ru hên ít sài zalo chứ sài nhiều chắc vức luôn cái máy quá\"\n",
    "corrected_text = corrector(text, max_length=3000)\n",
    "\n",
    "print(corrected_text[0]['generated_text'])"
   ]
  }
 ],
 "metadata": {
  "kernelspec": {
   "display_name": "py310",
   "language": "python",
   "name": "python3"
  },
  "language_info": {
   "codemirror_mode": {
    "name": "ipython",
    "version": 3
   },
   "file_extension": ".py",
   "mimetype": "text/x-python",
   "name": "python",
   "nbconvert_exporter": "python",
   "pygments_lexer": "ipython3",
   "version": "3.10.16"
  }
 },
 "nbformat": 4,
 "nbformat_minor": 2
}
