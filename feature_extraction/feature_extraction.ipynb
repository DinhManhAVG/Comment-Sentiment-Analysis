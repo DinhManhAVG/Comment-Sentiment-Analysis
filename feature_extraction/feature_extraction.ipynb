{
 "cells": [
  {
   "cell_type": "code",
   "execution_count": null,
   "metadata": {},
   "outputs": [],
   "source": [
    "import pandas as pd\n",
    "from sklearn.feature_extraction.text import CountVectorizer\n",
    "import numpy as np\n",
    "import nltk\n",
    "from nltk import bigrams\n",
    "import itertools"
   ]
  },
  {
   "cell_type": "code",
   "execution_count": 2,
   "metadata": {},
   "outputs": [
    {
     "data": {
      "text/html": [
       "<div>\n",
       "<style scoped>\n",
       "    .dataframe tbody tr th:only-of-type {\n",
       "        vertical-align: middle;\n",
       "    }\n",
       "\n",
       "    .dataframe tbody tr th {\n",
       "        vertical-align: top;\n",
       "    }\n",
       "\n",
       "    .dataframe thead th {\n",
       "        text-align: right;\n",
       "    }\n",
       "</style>\n",
       "<table border=\"1\" class=\"dataframe\">\n",
       "  <thead>\n",
       "    <tr style=\"text-align: right;\">\n",
       "      <th></th>\n",
       "      <th>product_id</th>\n",
       "      <th>comment</th>\n",
       "      <th>rating</th>\n",
       "      <th>source_file</th>\n",
       "      <th>word_count</th>\n",
       "    </tr>\n",
       "  </thead>\n",
       "  <tbody>\n",
       "    <tr>\n",
       "      <th>0</th>\n",
       "      <td>honor-x8b</td>\n",
       "      <td>đừng mua không có linh kiện</td>\n",
       "      <td>1</td>\n",
       "      <td>ratings\\honor-x8b.csv</td>\n",
       "      <td>6</td>\n",
       "    </tr>\n",
       "    <tr>\n",
       "      <th>1</th>\n",
       "      <td>honor-x8b</td>\n",
       "      <td>máy sao cũng được ghét nhất cái zalo vui nó bá...</td>\n",
       "      <td>3</td>\n",
       "      <td>ratings\\honor-x8b.csv</td>\n",
       "      <td>29</td>\n",
       "    </tr>\n",
       "    <tr>\n",
       "      <th>2</th>\n",
       "      <td>honor-x8b</td>\n",
       "      <td>chiếc điện thoại mỏng nhất tôi từng dùng cũng ...</td>\n",
       "      <td>5</td>\n",
       "      <td>ratings\\honor-x8b.csv</td>\n",
       "      <td>23</td>\n",
       "    </tr>\n",
       "    <tr>\n",
       "      <th>3</th>\n",
       "      <td>honor-x8b</td>\n",
       "      <td>sao hôm tôi mua lại không được tặng tai nghe n...</td>\n",
       "      <td>4</td>\n",
       "      <td>ratings\\honor-x8b.csv</td>\n",
       "      <td>24</td>\n",
       "    </tr>\n",
       "    <tr>\n",
       "      <th>4</th>\n",
       "      <td>honor-x8b</td>\n",
       "      <td>em mua được tuần trả lại mất bao nhiêu ạ</td>\n",
       "      <td>3</td>\n",
       "      <td>ratings\\honor-x8b.csv</td>\n",
       "      <td>10</td>\n",
       "    </tr>\n",
       "  </tbody>\n",
       "</table>\n",
       "</div>"
      ],
      "text/plain": [
       "  product_id                                            comment  rating  \\\n",
       "0  honor-x8b                        đừng mua không có linh kiện       1   \n",
       "1  honor-x8b  máy sao cũng được ghét nhất cái zalo vui nó bá...       3   \n",
       "2  honor-x8b  chiếc điện thoại mỏng nhất tôi từng dùng cũng ...       5   \n",
       "3  honor-x8b  sao hôm tôi mua lại không được tặng tai nghe n...       4   \n",
       "4  honor-x8b           em mua được tuần trả lại mất bao nhiêu ạ       3   \n",
       "\n",
       "             source_file  word_count  \n",
       "0  ratings\\honor-x8b.csv           6  \n",
       "1  ratings\\honor-x8b.csv          29  \n",
       "2  ratings\\honor-x8b.csv          23  \n",
       "3  ratings\\honor-x8b.csv          24  \n",
       "4  ratings\\honor-x8b.csv          10  "
      ]
     },
     "execution_count": 2,
     "metadata": {},
     "output_type": "execute_result"
    }
   ],
   "source": [
    "# Read your CSV file\n",
    "df = pd.read_csv('../data/phone_ratings_cleaned.csv')\n",
    "df.head()"
   ]
  },
  {
   "cell_type": "markdown",
   "metadata": {
    "id": "Ie6ij5aL4VN4"
   },
   "source": [
    "# 1. One Hot Encoding"
   ]
  },
  {
   "cell_type": "code",
   "execution_count": 3,
   "metadata": {},
   "outputs": [],
   "source": [
    "comments = df['comment'].astype(str).tolist()"
   ]
  },
  {
   "cell_type": "code",
   "execution_count": 5,
   "metadata": {},
   "outputs": [],
   "source": [
    "comment_one_hot_encoding = comments"
   ]
  },
  {
   "cell_type": "code",
   "execution_count": 6,
   "metadata": {
    "executionInfo": {
     "elapsed": 2027,
     "status": "ok",
     "timestamp": 1741685265060,
     "user": {
      "displayName": "Nguyen Van Hieu",
      "userId": "11027844980519717401"
     },
     "user_tz": -420
    },
    "id": "ju_JKx5z4Uoa"
   },
   "outputs": [],
   "source": [
    "\n",
    "vectorizer = CountVectorizer(binary=True)\n",
    "X = vectorizer.fit_transform(comment_one_hot_encoding)"
   ]
  },
  {
   "cell_type": "code",
   "execution_count": 7,
   "metadata": {
    "colab": {
     "base_uri": "https://localhost:8080/"
    },
    "executionInfo": {
     "elapsed": 18,
     "status": "ok",
     "timestamp": 1741685267761,
     "user": {
      "displayName": "Nguyen Van Hieu",
      "userId": "11027844980519717401"
     },
     "user_tz": -420
    },
    "id": "_9EwOT4rEn3d",
    "outputId": "c0ac6e43-b825-49d4-ac64-bfd9f2342d7f"
   },
   "outputs": [
    {
     "data": {
      "text/plain": [
       "array([[0, 0, 0, ..., 0, 0, 0],\n",
       "       [0, 0, 0, ..., 0, 0, 0],\n",
       "       [0, 0, 0, ..., 0, 0, 0],\n",
       "       ...,\n",
       "       [0, 0, 0, ..., 0, 0, 0],\n",
       "       [0, 0, 0, ..., 0, 0, 0],\n",
       "       [0, 0, 0, ..., 0, 0, 0]], shape=(2313, 3316))"
      ]
     },
     "execution_count": 7,
     "metadata": {},
     "output_type": "execute_result"
    }
   ],
   "source": [
    "X.toarray()"
   ]
  },
  {
   "cell_type": "code",
   "execution_count": 8,
   "metadata": {},
   "outputs": [
    {
     "data": {
      "text/plain": [
       "array(['0g01', '1000lan', '100gb', ..., 'ứng', 'ứngchán', 'ứngkhởi'],\n",
       "      shape=(3316,), dtype=object)"
      ]
     },
     "execution_count": 8,
     "metadata": {},
     "output_type": "execute_result"
    }
   ],
   "source": [
    "vectorizer.get_feature_names_out()"
   ]
  },
  {
   "cell_type": "code",
   "execution_count": null,
   "metadata": {
    "colab": {
     "base_uri": "https://localhost:8080/",
     "height": 143
    },
    "executionInfo": {
     "elapsed": 368,
     "status": "ok",
     "timestamp": 1741685275663,
     "user": {
      "displayName": "Nguyen Van Hieu",
      "userId": "11027844980519717401"
     },
     "user_tz": -420
    },
    "id": "sW3xkVRYEY6k",
    "outputId": "6d76d973-2d66-4275-90cd-c7a2ca04272c"
   },
   "outputs": [],
   "source": [
    "df = pd.DataFrame(X.toarray(), columns=vectorizer.get_feature_names_out(), index=comment_one_hot_encoding)\n",
    "df"
   ]
  },
  {
   "cell_type": "markdown",
   "metadata": {
    "id": "cbXOVhMMDtcg"
   },
   "source": [
    "# 2. Count Vectorizing"
   ]
  },
  {
   "cell_type": "code",
   "execution_count": 11,
   "metadata": {
    "id": "zfN7aIACDjqE"
   },
   "outputs": [],
   "source": [
    "comments_count_vectorizer = comments\n",
    "vectorizer = CountVectorizer()\n",
    "X = vectorizer.fit_transform(comments_count_vectorizer)"
   ]
  },
  {
   "cell_type": "code",
   "execution_count": 12,
   "metadata": {
    "colab": {
     "base_uri": "https://localhost:8080/"
    },
    "executionInfo": {
     "elapsed": 301,
     "status": "ok",
     "timestamp": 1709602184006,
     "user": {
      "displayName": "Nguyen Van Hieu",
      "userId": "11027844980519717401"
     },
     "user_tz": -420
    },
    "id": "2DnykDjtE_Z8",
    "outputId": "aba683bb-3092-45fa-abdc-7097909eda2f"
   },
   "outputs": [
    {
     "data": {
      "text/plain": [
       "array([[0, 0, 0, ..., 0, 0, 0],\n",
       "       [0, 0, 0, ..., 0, 0, 0],\n",
       "       [0, 0, 0, ..., 0, 0, 0],\n",
       "       ...,\n",
       "       [0, 0, 0, ..., 0, 0, 0],\n",
       "       [0, 0, 0, ..., 0, 0, 0],\n",
       "       [0, 0, 0, ..., 0, 0, 0]], shape=(2313, 3316))"
      ]
     },
     "execution_count": 12,
     "metadata": {},
     "output_type": "execute_result"
    }
   ],
   "source": [
    "X.toarray()"
   ]
  },
  {
   "cell_type": "code",
   "execution_count": null,
   "metadata": {
    "colab": {
     "base_uri": "https://localhost:8080/",
     "height": 195
    },
    "executionInfo": {
     "elapsed": 327,
     "status": "ok",
     "timestamp": 1709602187516,
     "user": {
      "displayName": "Nguyen Van Hieu",
      "userId": "11027844980519717401"
     },
     "user_tz": -420
    },
    "id": "89mCBjqdE91k",
    "outputId": "e00ca66b-bc84-43d8-c9d5-8310d1ee3070"
   },
   "outputs": [],
   "source": [
    "df = pd.DataFrame(X.toarray(), columns=vectorizer.get_feature_names_out(), index=comments_count_vectorizer)\n",
    "df"
   ]
  },
  {
   "cell_type": "markdown",
   "metadata": {
    "id": "_4-5ZsNg4b77"
   },
   "source": [
    "# 3.N-grams"
   ]
  },
  {
   "cell_type": "code",
   "execution_count": 12,
   "metadata": {
    "executionInfo": {
     "elapsed": 12,
     "status": "ok",
     "timestamp": 1741688916706,
     "user": {
      "displayName": "Nguyen Van Hieu",
      "userId": "11027844980519717401"
     },
     "user_tz": -420
    },
    "id": "4APlv4Hv4Z_K"
   },
   "outputs": [],
   "source": [
    "comments_n_grams = comments\n",
    "vectorizer = CountVectorizer(ngram_range=(2, 2))\n",
    "X = vectorizer.fit_transform(comments_n_grams)"
   ]
  },
  {
   "cell_type": "code",
   "execution_count": 13,
   "metadata": {
    "colab": {
     "base_uri": "https://localhost:8080/"
    },
    "executionInfo": {
     "elapsed": 15,
     "status": "ok",
     "timestamp": 1741688924026,
     "user": {
      "displayName": "Nguyen Van Hieu",
      "userId": "11027844980519717401"
     },
     "user_tz": -420
    },
    "id": "D9dRr5WIGFUI",
    "outputId": "6df7f12e-1cdb-4f4e-869e-b504708eeb3d"
   },
   "outputs": [
    {
     "data": {
      "text/plain": [
       "array([[0, 0, 0, ..., 0, 0, 0],\n",
       "       [0, 0, 0, ..., 0, 0, 0],\n",
       "       [0, 0, 0, ..., 0, 0, 0],\n",
       "       ...,\n",
       "       [0, 0, 0, ..., 0, 0, 0],\n",
       "       [0, 0, 0, ..., 0, 0, 0],\n",
       "       [0, 0, 0, ..., 0, 0, 0]], shape=(2313, 24141))"
      ]
     },
     "execution_count": 13,
     "metadata": {},
     "output_type": "execute_result"
    }
   ],
   "source": [
    "X.toarray()"
   ]
  },
  {
   "cell_type": "code",
   "execution_count": null,
   "metadata": {
    "colab": {
     "base_uri": "https://localhost:8080/",
     "height": 195
    },
    "executionInfo": {
     "elapsed": 94,
     "status": "ok",
     "timestamp": 1741688926707,
     "user": {
      "displayName": "Nguyen Van Hieu",
      "userId": "11027844980519717401"
     },
     "user_tz": -420
    },
    "id": "IAhzqChNGCE4",
    "outputId": "3f294e1b-8221-4d11-99e9-ea3f69177636"
   },
   "outputs": [],
   "source": [
    "df = pd.DataFrame(X.toarray(), columns=vectorizer.get_feature_names_out(), index=comments_n_grams)\n",
    "df"
   ]
  },
  {
   "cell_type": "markdown",
   "metadata": {
    "id": "v64-Rgkb4eYs"
   },
   "source": [
    "# 4.Co-occurrence Matrix"
   ]
  },
  {
   "cell_type": "code",
   "execution_count": 15,
   "metadata": {
    "id": "4Ezx8KN44fcq"
   },
   "outputs": [],
   "source": [
    "def co_occurrence_matrix(corpus):\n",
    "    vocab = set(corpus)\n",
    "    vocab = list(vocab)\n",
    "    vocab_to_index = { word:i for i, word in enumerate(vocab) }\n",
    "    # Create bigrams from all words in corpus\n",
    "    bi_grams = list(bigrams(corpus))\n",
    "    # Frequency distribution of bigrams ((word1, word2), num_occurrences)\n",
    "    bigram_freq = nltk.FreqDist(bi_grams).most_common(len(bi_grams))\n",
    "    # Initialise co-occurrence matrix\n",
    "    # co_occurrence_matrix[current][previous]\n",
    "    co_occurrence_matrix = np.zeros((len(vocab), len(vocab)))\n",
    "\n",
    "    # Loop through the bigrams taking the current and previous word,\n",
    "    # and the number of occurrences of the bigram.\n",
    "    for bigram in bigram_freq:\n",
    "        current = bigram[0][1]\n",
    "        previous = bigram[0][0]\n",
    "        count = bigram[1]\n",
    "        pos_current = vocab_to_index[current]\n",
    "        pos_previous = vocab_to_index[previous]\n",
    "        co_occurrence_matrix[pos_current][pos_previous] = count\n",
    "    co_occurrence_matrix = np.matrix(co_occurrence_matrix)\n",
    "    # return the matrix and the index\n",
    "    return co_occurrence_matrix,vocab_to_index"
   ]
  },
  {
   "cell_type": "code",
   "execution_count": null,
   "metadata": {},
   "outputs": [],
   "source": [
    "comments_occurence_matrix = comments\n"
   ]
  },
  {
   "cell_type": "code",
   "execution_count": null,
   "metadata": {
    "colab": {
     "base_uri": "https://localhost:8080/"
    },
    "executionInfo": {
     "elapsed": 3,
     "status": "ok",
     "timestamp": 1709602215094,
     "user": {
      "displayName": "Nguyen Van Hieu",
      "userId": "11027844980519717401"
     },
     "user_tz": -420
    },
    "id": "xAyU063QIYih",
    "outputId": "f48fcbf8-7461-4646-a175-32947fd500a4"
   },
   "outputs": [
    {
     "data": {
      "text/plain": [
       "matrix([[0., 0., 0., 0., 1.],\n",
       "        [0., 0., 0., 2., 0.],\n",
       "        [0., 1., 0., 0., 0.],\n",
       "        [2., 0., 0., 0., 0.],\n",
       "        [0., 1., 0., 0., 0.]])"
      ]
     },
     "execution_count": 14,
     "metadata": {},
     "output_type": "execute_result"
    }
   ],
   "source": [
    "sentences = [['Mary', 'is','not', 'fat'],\n",
    "             ['Mary','is', 'not', 'thin']]\n",
    "merged = list(itertools.chain.from_iterable(sentences))\n",
    "matrix, vocab_to_index = co_occurrence_matrix(merged)\n",
    "matrix"
   ]
  },
  {
   "cell_type": "code",
   "execution_count": null,
   "metadata": {
    "colab": {
     "base_uri": "https://localhost:8080/"
    },
    "executionInfo": {
     "elapsed": 306,
     "status": "ok",
     "timestamp": 1709602218499,
     "user": {
      "displayName": "Nguyen Van Hieu",
      "userId": "11027844980519717401"
     },
     "user_tz": -420
    },
    "id": "5EM88PyAQ4Z9",
    "outputId": "68dae7d8-9732-4994-cefa-a52ed5eaed79"
   },
   "outputs": [
    {
     "name": "stdout",
     "output_type": "stream",
     "text": [
      "      Mary  not  thin   is  fat\n",
      "Mary   0.0  0.0   0.0  0.0  1.0\n",
      "not    0.0  0.0   0.0  2.0  0.0\n",
      "thin   0.0  1.0   0.0  0.0  0.0\n",
      "is     2.0  0.0   0.0  0.0  0.0\n",
      "fat    0.0  1.0   0.0  0.0  0.0\n"
     ]
    }
   ],
   "source": [
    "CoMatrixFinal = pd.DataFrame(matrix, index=vocab_to_index, columns=vocab_to_index)\n",
    "print(CoMatrixFinal)"
   ]
  },
  {
   "cell_type": "code",
   "execution_count": null,
   "metadata": {
    "colab": {
     "base_uri": "https://localhost:8080/"
    },
    "executionInfo": {
     "elapsed": 312,
     "status": "ok",
     "timestamp": 1709602223094,
     "user": {
      "displayName": "Nguyen Van Hieu",
      "userId": "11027844980519717401"
     },
     "user_tz": -420
    },
    "id": "Ew_HqJELN_6t",
    "outputId": "11d22d5b-ec63-4905-eaec-5ef346a7f355"
   },
   "outputs": [
    {
     "name": "stdout",
     "output_type": "stream",
     "text": [
      "Co-occurrence matrix:\n",
      "[[0. 0. 0. 0. 1.]\n",
      " [0. 0. 0. 2. 0.]\n",
      " [0. 1. 0. 0. 0.]\n",
      " [2. 0. 0. 0. 0.]\n",
      " [0. 1. 0. 0. 0.]]\n",
      "\n",
      "Vocabulary index:\n",
      "{'Mary': 0, 'not': 1, 'thin': 2, 'is': 3, 'fat': 4}\n"
     ]
    }
   ],
   "source": [
    "sentences = ['Mary', 'is','not', 'fat', 'Mary','is', 'not', 'thin']\n",
    "corpus_example = [\"this\", \"is\", \"a\", \"simple\", \"example\", \"sentence\", \"for\", \"testing\", \"co-occurrence\", \"matrix\"]\n",
    "co_matrix, vocab_index = co_occurrence_matrix(sentences)\n",
    "print(\"Co-occurrence matrix:\")\n",
    "print(co_matrix)\n",
    "\n",
    "print(\"\\nVocabulary index:\")\n",
    "print(vocab_index)"
   ]
  },
  {
   "cell_type": "markdown",
   "metadata": {
    "id": "gcsfu6ms4isI"
   },
   "source": [
    "#5 Hash Vectorizing"
   ]
  },
  {
   "cell_type": "code",
   "execution_count": null,
   "metadata": {
    "colab": {
     "base_uri": "https://localhost:8080/"
    },
    "executionInfo": {
     "elapsed": 4,
     "status": "ok",
     "timestamp": 1709602227527,
     "user": {
      "displayName": "Nguyen Van Hieu",
      "userId": "11027844980519717401"
     },
     "user_tz": -420
    },
    "id": "SJ7nl4nI4jV0",
    "outputId": "eace2386-fb56-427c-d0e7-3c5fe8cd7089"
   },
   "outputs": [
    {
     "name": "stdout",
     "output_type": "stream",
     "text": [
      "[[ 0.         -0.57735027  0.57735027 -0.57735027  0.        ]\n",
      " [ 0.70710678  0.          0.         -0.70710678  0.        ]\n",
      " [-0.35355339  0.35355339  0.70710678 -0.35355339 -0.35355339]\n",
      " [ 0.         -0.57735027  0.57735027 -0.57735027  0.        ]\n",
      " [ 0.         -0.70710678  0.          0.70710678  0.        ]]\n"
     ]
    }
   ],
   "source": [
    "from sklearn.feature_extraction.text import HashingVectorizer\n",
    "corpus = [\n",
    "    'This is the first document.',\n",
    "    'This document is the second document.',\n",
    "    'And this is the third one.',\n",
    "    'Is this the first document?',\n",
    "    ' I love you'\n",
    "]\n",
    "vectorizer = HashingVectorizer(n_features=5)\n",
    "X = vectorizer.fit_transform(corpus)\n",
    "\n",
    "print(X.toarray())"
   ]
  },
  {
   "cell_type": "markdown",
   "metadata": {
    "id": "x9TupH-x4lJk"
   },
   "source": [
    "# TF-IDF"
   ]
  },
  {
   "cell_type": "code",
   "execution_count": null,
   "metadata": {
    "id": "1_nuo_K64nV2"
   },
   "outputs": [],
   "source": [
    "from sklearn.feature_extraction.text import TfidfVectorizer\n",
    "corpus = [\n",
    "    'This is the first document.',\n",
    "    'This document is the second document.',\n",
    "    'And this is the third one.',\n",
    "    'Is this the first document?',\n",
    "]\n",
    "vectorizer = TfidfVectorizer()\n",
    "X = vectorizer.fit_transform(corpus)\n"
   ]
  },
  {
   "cell_type": "code",
   "execution_count": null,
   "metadata": {
    "colab": {
     "base_uri": "https://localhost:8080/",
     "height": 368
    },
    "executionInfo": {
     "elapsed": 373,
     "status": "ok",
     "timestamp": 1709602256727,
     "user": {
      "displayName": "Nguyen Van Hieu",
      "userId": "11027844980519717401"
     },
     "user_tz": -420
    },
    "id": "BkaELE7Kq7ua",
    "outputId": "e715e704-f638-4cff-984d-c1c2909c6160"
   },
   "outputs": [
    {
     "data": {
      "application/vnd.google.colaboratory.intrinsic+json": {
       "summary": "{\n  \"name\": \"df\",\n  \"rows\": 4,\n  \"fields\": [\n    {\n      \"column\": \"and\",\n      \"properties\": {\n        \"dtype\": \"number\",\n        \"std\": 0.2559242563535845,\n        \"min\": 0.0,\n        \"max\": 0.511848512707169,\n        \"num_unique_values\": 2,\n        \"samples\": [\n          0.511848512707169,\n          0.0\n        ],\n        \"semantic_type\": \"\",\n        \"description\": \"\"\n      }\n    },\n    {\n      \"column\": \"document\",\n      \"properties\": {\n        \"dtype\": \"number\",\n        \"std\": 0.28999078289313623,\n        \"min\": 0.0,\n        \"max\": 0.6876235979836938,\n        \"num_unique_values\": 3,\n        \"samples\": [\n          0.46979138557992045,\n          0.6876235979836938\n        ],\n        \"semantic_type\": \"\",\n        \"description\": \"\"\n      }\n    },\n    {\n      \"column\": \"first\",\n      \"properties\": {\n        \"dtype\": \"number\",\n        \"std\": 0.33502817651113276,\n        \"min\": 0.0,\n        \"max\": 0.5802858236844359,\n        \"num_unique_values\": 2,\n        \"samples\": [\n          0.0,\n          0.5802858236844359\n        ],\n        \"semantic_type\": \"\",\n        \"description\": \"\"\n      }\n    },\n    {\n      \"column\": \"is\",\n      \"properties\": {\n        \"dtype\": \"number\",\n        \"std\": 0.06375832197023155,\n        \"min\": 0.267103787642168,\n        \"max\": 0.38408524091481483,\n        \"num_unique_values\": 3,\n        \"samples\": [\n          0.38408524091481483,\n          0.281088674033753\n        ],\n        \"semantic_type\": \"\",\n        \"description\": \"\"\n      }\n    },\n    {\n      \"column\": \"one\",\n      \"properties\": {\n        \"dtype\": \"number\",\n        \"std\": 0.2559242563535845,\n        \"min\": 0.0,\n        \"max\": 0.511848512707169,\n        \"num_unique_values\": 2,\n        \"samples\": [\n          0.511848512707169,\n          0.0\n        ],\n        \"semantic_type\": \"\",\n        \"description\": \"\"\n      }\n    },\n    {\n      \"column\": \"second\",\n      \"properties\": {\n        \"dtype\": \"number\",\n        \"std\": 0.26932381044283815,\n        \"min\": 0.0,\n        \"max\": 0.5386476208856763,\n        \"num_unique_values\": 2,\n        \"samples\": [\n          0.5386476208856763,\n          0.0\n        ],\n        \"semantic_type\": \"\",\n        \"description\": \"\"\n      }\n    },\n    {\n      \"column\": \"the\",\n      \"properties\": {\n        \"dtype\": \"number\",\n        \"std\": 0.06375832197023155,\n        \"min\": 0.267103787642168,\n        \"max\": 0.38408524091481483,\n        \"num_unique_values\": 3,\n        \"samples\": [\n          0.38408524091481483,\n          0.281088674033753\n        ],\n        \"semantic_type\": \"\",\n        \"description\": \"\"\n      }\n    },\n    {\n      \"column\": \"third\",\n      \"properties\": {\n        \"dtype\": \"number\",\n        \"std\": 0.2559242563535845,\n        \"min\": 0.0,\n        \"max\": 0.511848512707169,\n        \"num_unique_values\": 2,\n        \"samples\": [\n          0.511848512707169,\n          0.0\n        ],\n        \"semantic_type\": \"\",\n        \"description\": \"\"\n      }\n    },\n    {\n      \"column\": \"this\",\n      \"properties\": {\n        \"dtype\": \"number\",\n        \"std\": 0.06375832197023155,\n        \"min\": 0.267103787642168,\n        \"max\": 0.38408524091481483,\n        \"num_unique_values\": 3,\n        \"samples\": [\n          0.38408524091481483,\n          0.281088674033753\n        ],\n        \"semantic_type\": \"\",\n        \"description\": \"\"\n      }\n    }\n  ]\n}",
       "type": "dataframe",
       "variable_name": "df"
      },
      "text/html": [
       "\n",
       "  <div id=\"df-0e23a110-bd5b-49e5-9f10-1604f9b69e65\" class=\"colab-df-container\">\n",
       "    <div>\n",
       "<style scoped>\n",
       "    .dataframe tbody tr th:only-of-type {\n",
       "        vertical-align: middle;\n",
       "    }\n",
       "\n",
       "    .dataframe tbody tr th {\n",
       "        vertical-align: top;\n",
       "    }\n",
       "\n",
       "    .dataframe thead th {\n",
       "        text-align: right;\n",
       "    }\n",
       "</style>\n",
       "<table border=\"1\" class=\"dataframe\">\n",
       "  <thead>\n",
       "    <tr style=\"text-align: right;\">\n",
       "      <th></th>\n",
       "      <th>and</th>\n",
       "      <th>document</th>\n",
       "      <th>first</th>\n",
       "      <th>is</th>\n",
       "      <th>one</th>\n",
       "      <th>second</th>\n",
       "      <th>the</th>\n",
       "      <th>third</th>\n",
       "      <th>this</th>\n",
       "    </tr>\n",
       "  </thead>\n",
       "  <tbody>\n",
       "    <tr>\n",
       "      <th>This is the first document.</th>\n",
       "      <td>0.000000</td>\n",
       "      <td>0.469791</td>\n",
       "      <td>0.580286</td>\n",
       "      <td>0.384085</td>\n",
       "      <td>0.000000</td>\n",
       "      <td>0.000000</td>\n",
       "      <td>0.384085</td>\n",
       "      <td>0.000000</td>\n",
       "      <td>0.384085</td>\n",
       "    </tr>\n",
       "    <tr>\n",
       "      <th>This document is the second document.</th>\n",
       "      <td>0.000000</td>\n",
       "      <td>0.687624</td>\n",
       "      <td>0.000000</td>\n",
       "      <td>0.281089</td>\n",
       "      <td>0.000000</td>\n",
       "      <td>0.538648</td>\n",
       "      <td>0.281089</td>\n",
       "      <td>0.000000</td>\n",
       "      <td>0.281089</td>\n",
       "    </tr>\n",
       "    <tr>\n",
       "      <th>And this is the third one.</th>\n",
       "      <td>0.511849</td>\n",
       "      <td>0.000000</td>\n",
       "      <td>0.000000</td>\n",
       "      <td>0.267104</td>\n",
       "      <td>0.511849</td>\n",
       "      <td>0.000000</td>\n",
       "      <td>0.267104</td>\n",
       "      <td>0.511849</td>\n",
       "      <td>0.267104</td>\n",
       "    </tr>\n",
       "    <tr>\n",
       "      <th>Is this the first document?</th>\n",
       "      <td>0.000000</td>\n",
       "      <td>0.469791</td>\n",
       "      <td>0.580286</td>\n",
       "      <td>0.384085</td>\n",
       "      <td>0.000000</td>\n",
       "      <td>0.000000</td>\n",
       "      <td>0.384085</td>\n",
       "      <td>0.000000</td>\n",
       "      <td>0.384085</td>\n",
       "    </tr>\n",
       "  </tbody>\n",
       "</table>\n",
       "</div>\n",
       "    <div class=\"colab-df-buttons\">\n",
       "\n",
       "  <div class=\"colab-df-container\">\n",
       "    <button class=\"colab-df-convert\" onclick=\"convertToInteractive('df-0e23a110-bd5b-49e5-9f10-1604f9b69e65')\"\n",
       "            title=\"Convert this dataframe to an interactive table.\"\n",
       "            style=\"display:none;\">\n",
       "\n",
       "  <svg xmlns=\"http://www.w3.org/2000/svg\" height=\"24px\" viewBox=\"0 -960 960 960\">\n",
       "    <path d=\"M120-120v-720h720v720H120Zm60-500h600v-160H180v160Zm220 220h160v-160H400v160Zm0 220h160v-160H400v160ZM180-400h160v-160H180v160Zm440 0h160v-160H620v160ZM180-180h160v-160H180v160Zm440 0h160v-160H620v160Z\"/>\n",
       "  </svg>\n",
       "    </button>\n",
       "\n",
       "  <style>\n",
       "    .colab-df-container {\n",
       "      display:flex;\n",
       "      gap: 12px;\n",
       "    }\n",
       "\n",
       "    .colab-df-convert {\n",
       "      background-color: #E8F0FE;\n",
       "      border: none;\n",
       "      border-radius: 50%;\n",
       "      cursor: pointer;\n",
       "      display: none;\n",
       "      fill: #1967D2;\n",
       "      height: 32px;\n",
       "      padding: 0 0 0 0;\n",
       "      width: 32px;\n",
       "    }\n",
       "\n",
       "    .colab-df-convert:hover {\n",
       "      background-color: #E2EBFA;\n",
       "      box-shadow: 0px 1px 2px rgba(60, 64, 67, 0.3), 0px 1px 3px 1px rgba(60, 64, 67, 0.15);\n",
       "      fill: #174EA6;\n",
       "    }\n",
       "\n",
       "    .colab-df-buttons div {\n",
       "      margin-bottom: 4px;\n",
       "    }\n",
       "\n",
       "    [theme=dark] .colab-df-convert {\n",
       "      background-color: #3B4455;\n",
       "      fill: #D2E3FC;\n",
       "    }\n",
       "\n",
       "    [theme=dark] .colab-df-convert:hover {\n",
       "      background-color: #434B5C;\n",
       "      box-shadow: 0px 1px 3px 1px rgba(0, 0, 0, 0.15);\n",
       "      filter: drop-shadow(0px 1px 2px rgba(0, 0, 0, 0.3));\n",
       "      fill: #FFFFFF;\n",
       "    }\n",
       "  </style>\n",
       "\n",
       "    <script>\n",
       "      const buttonEl =\n",
       "        document.querySelector('#df-0e23a110-bd5b-49e5-9f10-1604f9b69e65 button.colab-df-convert');\n",
       "      buttonEl.style.display =\n",
       "        google.colab.kernel.accessAllowed ? 'block' : 'none';\n",
       "\n",
       "      async function convertToInteractive(key) {\n",
       "        const element = document.querySelector('#df-0e23a110-bd5b-49e5-9f10-1604f9b69e65');\n",
       "        const dataTable =\n",
       "          await google.colab.kernel.invokeFunction('convertToInteractive',\n",
       "                                                    [key], {});\n",
       "        if (!dataTable) return;\n",
       "\n",
       "        const docLinkHtml = 'Like what you see? Visit the ' +\n",
       "          '<a target=\"_blank\" href=https://colab.research.google.com/notebooks/data_table.ipynb>data table notebook</a>'\n",
       "          + ' to learn more about interactive tables.';\n",
       "        element.innerHTML = '';\n",
       "        dataTable['output_type'] = 'display_data';\n",
       "        await google.colab.output.renderOutput(dataTable, element);\n",
       "        const docLink = document.createElement('div');\n",
       "        docLink.innerHTML = docLinkHtml;\n",
       "        element.appendChild(docLink);\n",
       "      }\n",
       "    </script>\n",
       "  </div>\n",
       "\n",
       "\n",
       "<div id=\"df-77b3868e-a59a-45c2-b1b6-44eac1c58d75\">\n",
       "  <button class=\"colab-df-quickchart\" onclick=\"quickchart('df-77b3868e-a59a-45c2-b1b6-44eac1c58d75')\"\n",
       "            title=\"Suggest charts\"\n",
       "            style=\"display:none;\">\n",
       "\n",
       "<svg xmlns=\"http://www.w3.org/2000/svg\" height=\"24px\"viewBox=\"0 0 24 24\"\n",
       "     width=\"24px\">\n",
       "    <g>\n",
       "        <path d=\"M19 3H5c-1.1 0-2 .9-2 2v14c0 1.1.9 2 2 2h14c1.1 0 2-.9 2-2V5c0-1.1-.9-2-2-2zM9 17H7v-7h2v7zm4 0h-2V7h2v10zm4 0h-2v-4h2v4z\"/>\n",
       "    </g>\n",
       "</svg>\n",
       "  </button>\n",
       "\n",
       "<style>\n",
       "  .colab-df-quickchart {\n",
       "      --bg-color: #E8F0FE;\n",
       "      --fill-color: #1967D2;\n",
       "      --hover-bg-color: #E2EBFA;\n",
       "      --hover-fill-color: #174EA6;\n",
       "      --disabled-fill-color: #AAA;\n",
       "      --disabled-bg-color: #DDD;\n",
       "  }\n",
       "\n",
       "  [theme=dark] .colab-df-quickchart {\n",
       "      --bg-color: #3B4455;\n",
       "      --fill-color: #D2E3FC;\n",
       "      --hover-bg-color: #434B5C;\n",
       "      --hover-fill-color: #FFFFFF;\n",
       "      --disabled-bg-color: #3B4455;\n",
       "      --disabled-fill-color: #666;\n",
       "  }\n",
       "\n",
       "  .colab-df-quickchart {\n",
       "    background-color: var(--bg-color);\n",
       "    border: none;\n",
       "    border-radius: 50%;\n",
       "    cursor: pointer;\n",
       "    display: none;\n",
       "    fill: var(--fill-color);\n",
       "    height: 32px;\n",
       "    padding: 0;\n",
       "    width: 32px;\n",
       "  }\n",
       "\n",
       "  .colab-df-quickchart:hover {\n",
       "    background-color: var(--hover-bg-color);\n",
       "    box-shadow: 0 1px 2px rgba(60, 64, 67, 0.3), 0 1px 3px 1px rgba(60, 64, 67, 0.15);\n",
       "    fill: var(--button-hover-fill-color);\n",
       "  }\n",
       "\n",
       "  .colab-df-quickchart-complete:disabled,\n",
       "  .colab-df-quickchart-complete:disabled:hover {\n",
       "    background-color: var(--disabled-bg-color);\n",
       "    fill: var(--disabled-fill-color);\n",
       "    box-shadow: none;\n",
       "  }\n",
       "\n",
       "  .colab-df-spinner {\n",
       "    border: 2px solid var(--fill-color);\n",
       "    border-color: transparent;\n",
       "    border-bottom-color: var(--fill-color);\n",
       "    animation:\n",
       "      spin 1s steps(1) infinite;\n",
       "  }\n",
       "\n",
       "  @keyframes spin {\n",
       "    0% {\n",
       "      border-color: transparent;\n",
       "      border-bottom-color: var(--fill-color);\n",
       "      border-left-color: var(--fill-color);\n",
       "    }\n",
       "    20% {\n",
       "      border-color: transparent;\n",
       "      border-left-color: var(--fill-color);\n",
       "      border-top-color: var(--fill-color);\n",
       "    }\n",
       "    30% {\n",
       "      border-color: transparent;\n",
       "      border-left-color: var(--fill-color);\n",
       "      border-top-color: var(--fill-color);\n",
       "      border-right-color: var(--fill-color);\n",
       "    }\n",
       "    40% {\n",
       "      border-color: transparent;\n",
       "      border-right-color: var(--fill-color);\n",
       "      border-top-color: var(--fill-color);\n",
       "    }\n",
       "    60% {\n",
       "      border-color: transparent;\n",
       "      border-right-color: var(--fill-color);\n",
       "    }\n",
       "    80% {\n",
       "      border-color: transparent;\n",
       "      border-right-color: var(--fill-color);\n",
       "      border-bottom-color: var(--fill-color);\n",
       "    }\n",
       "    90% {\n",
       "      border-color: transparent;\n",
       "      border-bottom-color: var(--fill-color);\n",
       "    }\n",
       "  }\n",
       "</style>\n",
       "\n",
       "  <script>\n",
       "    async function quickchart(key) {\n",
       "      const quickchartButtonEl =\n",
       "        document.querySelector('#' + key + ' button');\n",
       "      quickchartButtonEl.disabled = true;  // To prevent multiple clicks.\n",
       "      quickchartButtonEl.classList.add('colab-df-spinner');\n",
       "      try {\n",
       "        const charts = await google.colab.kernel.invokeFunction(\n",
       "            'suggestCharts', [key], {});\n",
       "      } catch (error) {\n",
       "        console.error('Error during call to suggestCharts:', error);\n",
       "      }\n",
       "      quickchartButtonEl.classList.remove('colab-df-spinner');\n",
       "      quickchartButtonEl.classList.add('colab-df-quickchart-complete');\n",
       "    }\n",
       "    (() => {\n",
       "      let quickchartButtonEl =\n",
       "        document.querySelector('#df-77b3868e-a59a-45c2-b1b6-44eac1c58d75 button');\n",
       "      quickchartButtonEl.style.display =\n",
       "        google.colab.kernel.accessAllowed ? 'block' : 'none';\n",
       "    })();\n",
       "  </script>\n",
       "</div>\n",
       "\n",
       "  <div id=\"id_d587100a-98e1-4594-bbb0-83b2737e8c56\">\n",
       "    <style>\n",
       "      .colab-df-generate {\n",
       "        background-color: #E8F0FE;\n",
       "        border: none;\n",
       "        border-radius: 50%;\n",
       "        cursor: pointer;\n",
       "        display: none;\n",
       "        fill: #1967D2;\n",
       "        height: 32px;\n",
       "        padding: 0 0 0 0;\n",
       "        width: 32px;\n",
       "      }\n",
       "\n",
       "      .colab-df-generate:hover {\n",
       "        background-color: #E2EBFA;\n",
       "        box-shadow: 0px 1px 2px rgba(60, 64, 67, 0.3), 0px 1px 3px 1px rgba(60, 64, 67, 0.15);\n",
       "        fill: #174EA6;\n",
       "      }\n",
       "\n",
       "      [theme=dark] .colab-df-generate {\n",
       "        background-color: #3B4455;\n",
       "        fill: #D2E3FC;\n",
       "      }\n",
       "\n",
       "      [theme=dark] .colab-df-generate:hover {\n",
       "        background-color: #434B5C;\n",
       "        box-shadow: 0px 1px 3px 1px rgba(0, 0, 0, 0.15);\n",
       "        filter: drop-shadow(0px 1px 2px rgba(0, 0, 0, 0.3));\n",
       "        fill: #FFFFFF;\n",
       "      }\n",
       "    </style>\n",
       "    <button class=\"colab-df-generate\" onclick=\"generateWithVariable('df')\"\n",
       "            title=\"Generate code using this dataframe.\"\n",
       "            style=\"display:none;\">\n",
       "\n",
       "  <svg xmlns=\"http://www.w3.org/2000/svg\" height=\"24px\"viewBox=\"0 0 24 24\"\n",
       "       width=\"24px\">\n",
       "    <path d=\"M7,19H8.4L18.45,9,17,7.55,7,17.6ZM5,21V16.75L18.45,3.32a2,2,0,0,1,2.83,0l1.4,1.43a1.91,1.91,0,0,1,.58,1.4,1.91,1.91,0,0,1-.58,1.4L9.25,21ZM18.45,9,17,7.55Zm-12,3A5.31,5.31,0,0,0,4.9,8.1,5.31,5.31,0,0,0,1,6.5,5.31,5.31,0,0,0,4.9,4.9,5.31,5.31,0,0,0,6.5,1,5.31,5.31,0,0,0,8.1,4.9,5.31,5.31,0,0,0,12,6.5,5.46,5.46,0,0,0,6.5,12Z\"/>\n",
       "  </svg>\n",
       "    </button>\n",
       "    <script>\n",
       "      (() => {\n",
       "      const buttonEl =\n",
       "        document.querySelector('#id_d587100a-98e1-4594-bbb0-83b2737e8c56 button.colab-df-generate');\n",
       "      buttonEl.style.display =\n",
       "        google.colab.kernel.accessAllowed ? 'block' : 'none';\n",
       "\n",
       "      buttonEl.onclick = () => {\n",
       "        google.colab.notebook.generateWithVariable('df');\n",
       "      }\n",
       "      })();\n",
       "    </script>\n",
       "  </div>\n",
       "\n",
       "    </div>\n",
       "  </div>\n"
      ],
      "text/plain": [
       "                                            and  document     first        is  \\\n",
       "This is the first document.            0.000000  0.469791  0.580286  0.384085   \n",
       "This document is the second document.  0.000000  0.687624  0.000000  0.281089   \n",
       "And this is the third one.             0.511849  0.000000  0.000000  0.267104   \n",
       "Is this the first document?            0.000000  0.469791  0.580286  0.384085   \n",
       "\n",
       "                                            one    second       the     third  \\\n",
       "This is the first document.            0.000000  0.000000  0.384085  0.000000   \n",
       "This document is the second document.  0.000000  0.538648  0.281089  0.000000   \n",
       "And this is the third one.             0.511849  0.000000  0.267104  0.511849   \n",
       "Is this the first document?            0.000000  0.000000  0.384085  0.000000   \n",
       "\n",
       "                                           this  \n",
       "This is the first document.            0.384085  \n",
       "This document is the second document.  0.281089  \n",
       "And this is the third one.             0.267104  \n",
       "Is this the first document?            0.384085  "
      ]
     },
     "execution_count": 19,
     "metadata": {},
     "output_type": "execute_result"
    }
   ],
   "source": [
    "df = pd.DataFrame(X.toarray(), columns=vectorizer.get_feature_names_out(), index=corpus)\n",
    "df"
   ]
  },
  {
   "cell_type": "markdown",
   "metadata": {
    "id": "UyRMLK7t4pKT"
   },
   "source": [
    "# Word2Vec"
   ]
  },
  {
   "cell_type": "markdown",
   "metadata": {
    "id": "Px3d-b_ABfWU"
   },
   "source": [
    "# Skip-Gram"
   ]
  },
  {
   "cell_type": "code",
   "execution_count": null,
   "metadata": {
    "id": "Y7i95a4h_rSw"
   },
   "outputs": [],
   "source": [
    "import gensim\n",
    "from gensim.models import Word2Vec\n",
    "from sklearn.decomposition import PCA\n",
    "from matplotlib import pyplot"
   ]
  },
  {
   "cell_type": "code",
   "execution_count": null,
   "metadata": {
    "id": "qXva_GDe_zUb"
   },
   "outputs": [],
   "source": [
    "sentences = [['I', 'love', 'nlp'],\n",
    "              ['I', 'will', 'learn', 'nlp', 'in', '2','months'],\n",
    "              ['nlp', 'is', 'future'],\n",
    "              [ 'nlp', 'saves', 'time', 'and', 'solves', 'lot', 'of', 'industry', 'problems'],\n",
    "              ['nlp', 'uses', 'machine', 'learning']]\n",
    "# training the model\n",
    "# sg = 1, skipgarm, sg = 0, cbow\n",
    "skipgram = Word2Vec(sentences,vector_size=50, window= 3, min_count=1, sg= 1)"
   ]
  },
  {
   "cell_type": "code",
   "execution_count": null,
   "metadata": {
    "colab": {
     "base_uri": "https://localhost:8080/"
    },
    "executionInfo": {
     "elapsed": 328,
     "status": "ok",
     "timestamp": 1709602306949,
     "user": {
      "displayName": "Nguyen Van Hieu",
      "userId": "11027844980519717401"
     },
     "user_tz": -420
    },
    "id": "NypsYgszANMK",
    "outputId": "c7bc40b6-f2d9-4b7d-ef53-aa4d900fa394"
   },
   "outputs": [
    {
     "name": "stdout",
     "output_type": "stream",
     "text": [
      "Word2Vec<vocab=21, vector_size=50, alpha=0.025>\n"
     ]
    }
   ],
   "source": [
    "print(skipgram)"
   ]
  },
  {
   "cell_type": "code",
   "execution_count": null,
   "metadata": {
    "colab": {
     "base_uri": "https://localhost:8080/"
    },
    "executionInfo": {
     "elapsed": 3,
     "status": "ok",
     "timestamp": 1709602309976,
     "user": {
      "displayName": "Nguyen Van Hieu",
      "userId": "11027844980519717401"
     },
     "user_tz": -420
    },
    "id": "EQ21ed6_AYFQ",
    "outputId": "f879a6e8-7034-4cf8-b8cd-5fd140c4882d"
   },
   "outputs": [
    {
     "data": {
      "text/plain": [
       "array([-1.0724545e-03,  4.7286271e-04,  1.0206699e-02,  1.8018546e-02,\n",
       "       -1.8605899e-02, -1.4233618e-02,  1.2917745e-02,  1.7945977e-02,\n",
       "       -1.0030856e-02, -7.5267432e-03,  1.4761009e-02, -3.0669428e-03,\n",
       "       -9.0732267e-03,  1.3108104e-02, -9.7203208e-03, -3.6320353e-03,\n",
       "        5.7531595e-03,  1.9837476e-03, -1.6570430e-02, -1.8897636e-02,\n",
       "        1.4623532e-02,  1.0140524e-02,  1.3515387e-02,  1.5257311e-03,\n",
       "        1.2701781e-02, -6.8107317e-03, -1.8928028e-03,  1.1537147e-02,\n",
       "       -1.5043275e-02, -7.8722071e-03, -1.5023164e-02, -1.8600845e-03,\n",
       "        1.9076237e-02, -1.4638334e-02, -4.6675373e-03, -3.8754821e-03,\n",
       "        1.6154874e-02, -1.1861792e-02,  9.0324880e-05, -9.5074680e-03,\n",
       "       -1.9207101e-02,  1.0014586e-02, -1.7519170e-02, -8.7836506e-03,\n",
       "       -7.0199967e-05, -5.9236289e-04, -1.5322480e-02,  1.9229487e-02,\n",
       "        9.9641159e-03,  1.8466286e-02], dtype=float32)"
      ]
     },
     "execution_count": 24,
     "metadata": {},
     "output_type": "execute_result"
    }
   ],
   "source": [
    "# access vector for one word\n",
    "skipgram.wv['nlp']"
   ]
  },
  {
   "cell_type": "code",
   "execution_count": null,
   "metadata": {
    "colab": {
     "base_uri": "https://localhost:8080/",
     "height": 430
    },
    "executionInfo": {
     "elapsed": 1033,
     "status": "ok",
     "timestamp": 1709481224338,
     "user": {
      "displayName": "Nguyen Van Hieu",
      "userId": "11027844980519717401"
     },
     "user_tz": -420
    },
    "id": "b54TLBXNArvS",
    "outputId": "02e93a7f-1249-4a91-ec04-f157a6234aaa"
   },
   "outputs": [
    {
     "data": {
      "image/png": "[encoded data removed]",
      "text/plain": [
       "<Figure size 640x480 with 1 Axes>"
      ]
     },
     "metadata": {},
     "output_type": "display_data"
    }
   ],
   "source": [
    "# save model\n",
    "skipgram.save('skipgram.bin')\n",
    "# load model\n",
    "skipgram = Word2Vec.load('skipgram.bin')\n",
    "# T -SNE plot í one of the way to evaluate word embedding\n",
    "X = skipgram.wv[skipgram.wv.index_to_key]\n",
    "pca = PCA(n_components=2)\n",
    "result = pca.fit_transform(X)\n",
    "pyplot.scatter(result[:,0], result[:,1])\n",
    "words = list(skipgram.wv.index_to_key)\n",
    "for i, word in enumerate(words):\n",
    "  pyplot.annotate(word, xy=(result[i, 0], result[i, 1]))\n",
    "pyplot.show()"
   ]
  },
  {
   "cell_type": "markdown",
   "metadata": {
    "id": "3hZ6EAzLCMAh"
   },
   "source": [
    "# Continuos Bag of Word ( CBOW )"
   ]
  },
  {
   "cell_type": "code",
   "execution_count": null,
   "metadata": {
    "id": "oxM-jJYSCPR1"
   },
   "outputs": [],
   "source": [
    "import gensim\n",
    "from gensim.models import Word2Vec\n",
    "from sklearn.decomposition import PCA\n",
    "from matplotlib import pyplot"
   ]
  },
  {
   "cell_type": "code",
   "execution_count": null,
   "metadata": {
    "colab": {
     "base_uri": "https://localhost:8080/"
    },
    "executionInfo": {
     "elapsed": 3,
     "status": "ok",
     "timestamp": 1709602318678,
     "user": {
      "displayName": "Nguyen Van Hieu",
      "userId": "11027844980519717401"
     },
     "user_tz": -420
    },
    "id": "pEwmufx2CYaq",
    "outputId": "1b83f091-a817-4b5b-b91f-0e5b691bf491"
   },
   "outputs": [
    {
     "name": "stdout",
     "output_type": "stream",
     "text": [
      "Word2Vec<vocab=21, vector_size=50, alpha=0.025>\n"
     ]
    }
   ],
   "source": [
    "sentences = [['I', 'love', 'nlp'],\n",
    "              ['I', 'will', 'learn', 'nlp', 'in', '2','months'],\n",
    "              ['nlp', 'is', 'future'],\n",
    "              [ 'nlp', 'saves', 'time', 'and', 'solves', 'lot', 'of', 'industry', 'problems'],\n",
    "              ['nlp', 'uses', 'machine', 'learning']]\n",
    "# training the model\n",
    "cbow = Word2Vec(sentences,vector_size=50, window= 3, min_count=1, sg= 0)\n",
    "print(cbow)"
   ]
  },
  {
   "cell_type": "code",
   "execution_count": null,
   "metadata": {
    "colab": {
     "base_uri": "https://localhost:8080/"
    },
    "executionInfo": {
     "elapsed": 304,
     "status": "ok",
     "timestamp": 1709602323422,
     "user": {
      "displayName": "Nguyen Van Hieu",
      "userId": "11027844980519717401"
     },
     "user_tz": -420
    },
    "id": "850PDVAGEAk7",
    "outputId": "ae02af27-e7f5-4d1d-ed9b-f90522afec12"
   },
   "outputs": [
    {
     "data": {
      "text/plain": [
       "array([-1.0724545e-03,  4.7286271e-04,  1.0206699e-02,  1.8018546e-02,\n",
       "       -1.8605899e-02, -1.4233618e-02,  1.2917745e-02,  1.7945977e-02,\n",
       "       -1.0030856e-02, -7.5267432e-03,  1.4761009e-02, -3.0669428e-03,\n",
       "       -9.0732267e-03,  1.3108104e-02, -9.7203208e-03, -3.6320353e-03,\n",
       "        5.7531595e-03,  1.9837476e-03, -1.6570430e-02, -1.8897636e-02,\n",
       "        1.4623532e-02,  1.0140524e-02,  1.3515387e-02,  1.5257311e-03,\n",
       "        1.2701781e-02, -6.8107317e-03, -1.8928028e-03,  1.1537147e-02,\n",
       "       -1.5043275e-02, -7.8722071e-03, -1.5023164e-02, -1.8600845e-03,\n",
       "        1.9076237e-02, -1.4638334e-02, -4.6675373e-03, -3.8754821e-03,\n",
       "        1.6154874e-02, -1.1861792e-02,  9.0324880e-05, -9.5074680e-03,\n",
       "       -1.9207101e-02,  1.0014586e-02, -1.7519170e-02, -8.7836506e-03,\n",
       "       -7.0199967e-05, -5.9236289e-04, -1.5322480e-02,  1.9229487e-02,\n",
       "        9.9641159e-03,  1.8466286e-02], dtype=float32)"
      ]
     },
     "execution_count": 27,
     "metadata": {},
     "output_type": "execute_result"
    }
   ],
   "source": [
    "cbow.wv['nlp']"
   ]
  },
  {
   "cell_type": "code",
   "execution_count": null,
   "metadata": {
    "colab": {
     "base_uri": "https://localhost:8080/",
     "height": 430
    },
    "executionInfo": {
     "elapsed": 437,
     "status": "ok",
     "timestamp": 1709482486420,
     "user": {
      "displayName": "Nguyen Van Hieu",
      "userId": "11027844980519717401"
     },
     "user_tz": -420
    },
    "id": "RlIabULuFosv",
    "outputId": "478f287e-f9ff-491d-b8cf-52d7bd0ae12b"
   },
   "outputs": [
    {
     "data": {
      "image/png": "[encoded data removed]",
      "text/plain": [
       "<Figure size 640x480 with 1 Axes>"
      ]
     },
     "metadata": {},
     "output_type": "display_data"
    }
   ],
   "source": [
    "# save model\n",
    "cbow.save('cbow.bin')\n",
    "# load model\n",
    "cbow = Word2Vec.load('cbow.bin')\n",
    "# T-SNE plot - to evaluate word embedding\n",
    "X = cbow.wv[cbow.wv.index_to_key]\n",
    "pca = PCA(n_components=2)\n",
    "result = pca.fit_transform(X)\n",
    "pyplot.scatter(result[:,0], result[:,1])\n",
    "words = list(cbow.wv.index_to_key)\n",
    "for i, word in enumerate(words):\n",
    "  pyplot.annotate(word, xy=(result[i, 0], result[i, 1]))\n",
    "pyplot.show()"
   ]
  },
  {
   "cell_type": "code",
   "execution_count": null,
   "metadata": {
    "id": "H0yUrS79TECG"
   },
   "outputs": [],
   "source": []
  },
  {
   "cell_type": "markdown",
   "metadata": {
    "id": "f8aho0duPjdO"
   },
   "source": [
    "# Use Google's pre-trained model"
   ]
  },
  {
   "cell_type": "code",
   "execution_count": null,
   "metadata": {
    "colab": {
     "base_uri": "https://localhost:8080/"
    },
    "executionInfo": {
     "elapsed": 6,
     "status": "ok",
     "timestamp": 1709519824744,
     "user": {
      "displayName": "Nguyen Van Hieu",
      "userId": "11027844980519717401"
     },
     "user_tz": -420
    },
    "id": "apTYR_jd1GLi",
    "outputId": "c1bf603f-37e3-4e29-a15e-d44059f7dafd"
   },
   "outputs": [
    {
     "name": "stdout",
     "output_type": "stream",
     "text": [
      "/content/drive/.shortcut-targets-by-id/1l_qHY45j2wnx1UYbcozNnJ49EgK0a2-p/2022_NLP/2024_NLP/Bai 3 - code\n"
     ]
    }
   ],
   "source": [
    "%cd /content/drive/MyDrive/Lecture_CNTT_2020/2022_NLP/2024_NLP/Bai 3 - code"
   ]
  },
  {
   "cell_type": "code",
   "execution_count": null,
   "metadata": {
    "id": "f4rQ_lMaPsRO"
   },
   "outputs": [],
   "source": [
    "import gensim\n",
    "from gensim.models import KeyedVectors\n",
    "\n",
    "google_path = \"/content/drive/MyDrive/Lecture_CNTT_2020/2022_NLP/2024_NLP/Bai 3 - code/GoogleNews-vectors-negative300.bin\"\n",
    "\n",
    "# Load the Word2Vec model\n",
    "model = KeyedVectors.load_word2vec_format(google_path, binary=True)"
   ]
  },
  {
   "cell_type": "code",
   "execution_count": null,
   "metadata": {
    "colab": {
     "base_uri": "https://localhost:8080/"
    },
    "executionInfo": {
     "elapsed": 546,
     "status": "ok",
     "timestamp": 1709520026555,
     "user": {
      "displayName": "Nguyen Van Hieu",
      "userId": "11027844980519717401"
     },
     "user_tz": -420
    },
    "id": "nahi1sEa1QNU",
    "outputId": "7c451f50-4980-4075-db89-9a2811d5c6a9"
   },
   "outputs": [
    {
     "data": {
      "text/plain": [
       "1.0"
      ]
     },
     "execution_count": 18,
     "metadata": {},
     "output_type": "execute_result"
    }
   ],
   "source": [
    "model.similarity(\"this\",\"this\")"
   ]
  },
  {
   "cell_type": "code",
   "execution_count": null,
   "metadata": {
    "id": "DqbGwXuZPe6S"
   },
   "outputs": [],
   "source": []
  },
  {
   "cell_type": "markdown",
   "metadata": {
    "id": "n_z5MMlSPffn"
   },
   "source": [
    "# Implementing fastText\n",
    "- Framework của Facebook\n",
    "- Hiểu về ngữ cảnh"
   ]
  },
  {
   "cell_type": "code",
   "execution_count": null,
   "metadata": {
    "id": "KZ7i-_CDP-96"
   },
   "outputs": [],
   "source": [
    "from gensim.models import FastText\n",
    "from sklearn.decomposition import PCA\n",
    "from matplotlib import pyplot\n",
    "\n",
    "# List of sentences for training\n",
    "sentences = [['I', 'love', 'nlp'],\n",
    "              ['I', 'will', 'learn', 'nlp', 'in', '2', 'months'],\n",
    "              ['nlp', 'is', 'future'],\n",
    "              ['nlp', 'saves', 'time', 'and', 'solves', 'lot', 'of', 'industry', 'problems'],\n",
    "              ['nlp', 'uses', 'machine', 'learning']]\n",
    "\n",
    "# Training the FastText model\n",
    "fast = FastText(sentences, window=1, min_count=1, workers=5, min_n=1, max_n=2)\n"
   ]
  },
  {
   "cell_type": "code",
   "execution_count": null,
   "metadata": {
    "colab": {
     "base_uri": "https://localhost:8080/"
    },
    "executionInfo": {
     "elapsed": 401,
     "status": "ok",
     "timestamp": 1709603094463,
     "user": {
      "displayName": "Nguyen Van Hieu",
      "userId": "11027844980519717401"
     },
     "user_tz": -420
    },
    "id": "IyzG4ErER3hR",
    "outputId": "d5e6e342-d0a7-402f-da06-2e4e29e71dcd"
   },
   "outputs": [
    {
     "name": "stdout",
     "output_type": "stream",
     "text": [
      "[-3.5651671e-03  9.3698065e-04 -2.0309705e-03  1.3372294e-03\n",
      "  1.0669909e-03 -1.3030644e-03  4.5768594e-04 -3.4850935e-04\n",
      "  3.0172872e-04 -3.3416669e-04  2.3032913e-03 -2.1352421e-03\n",
      " -3.5649028e-03 -2.0423550e-03  1.6025617e-04  3.4330557e-03\n",
      "  1.6206586e-04 -1.7705902e-03  2.4007181e-04 -2.9109141e-03\n",
      "  4.3194192e-03 -2.1401787e-04  9.1965008e-04 -1.9673463e-03\n",
      "  4.2877963e-04  1.9754227e-03 -5.5509841e-04 -7.4600609e-04\n",
      " -1.6250368e-04  4.6096946e-04 -4.1272063e-03 -3.7344757e-03\n",
      "  7.8168191e-04  6.3480536e-04 -2.7865777e-03  1.0397271e-03\n",
      "  7.2312576e-04  4.0080363e-04 -1.0363614e-03  6.7208544e-04\n",
      "  5.9388904e-04  1.4350816e-03 -9.1749663e-04  1.1620179e-03\n",
      " -4.6320874e-03 -7.4696593e-04 -1.8302952e-03 -1.8878000e-04\n",
      "  5.4830208e-04 -1.0331636e-03 -9.7611046e-04 -6.6045811e-04\n",
      " -1.0406146e-03  4.3693674e-03  3.6964498e-03 -2.3840894e-03\n",
      "  1.0004241e-03  1.6795534e-04 -4.5526810e-03  8.8466250e-04\n",
      "  2.2786174e-03 -1.2467529e-04 -2.6847786e-04  2.6513743e-03\n",
      " -1.5358579e-03 -4.6134781e-04  1.1842061e-04  3.4597358e-03\n",
      "  3.7217830e-04  2.2008002e-03 -1.2545080e-03  1.3967918e-03\n",
      "  2.8876966e-05 -3.9235512e-03  3.2909494e-04 -6.1132538e-05\n",
      "  2.9919816e-03 -1.4361407e-03 -1.9196585e-03 -1.6801087e-03\n",
      " -1.4594588e-03 -2.0364631e-04  8.6144428e-04 -2.1820571e-03\n",
      " -1.7899858e-03  1.0026211e-03  2.6793042e-03  5.6621025e-04\n",
      " -6.3928036e-04  1.2664252e-03  2.1741202e-04  2.7880999e-03\n",
      "  3.4232331e-03  2.9016552e-03  2.5485216e-03  8.7576023e-05\n",
      " -2.5145016e-03 -2.6166893e-03  2.4390395e-04  5.0592521e-04]\n"
     ]
    }
   ],
   "source": [
    "print(fast.wv['nlp'])"
   ]
  },
  {
   "cell_type": "code",
   "execution_count": null,
   "metadata": {
    "colab": {
     "base_uri": "https://localhost:8080/"
    },
    "executionInfo": {
     "elapsed": 691,
     "status": "ok",
     "timestamp": 1709603220612,
     "user": {
      "displayName": "Nguyen Van Hieu",
      "userId": "11027844980519717401"
     },
     "user_tz": -420
    },
    "id": "0viheNZGSltA",
    "outputId": "6b2ece8c-eaa9-495d-cece-40a7098cb576"
   },
   "outputs": [
    {
     "name": "stdout",
     "output_type": "stream",
     "text": [
      "[ 1.1898893e-03  2.0222412e-04  4.9637095e-04 -4.5247972e-03\n",
      "  5.0031475e-04 -5.7669147e-04  2.3215138e-03  1.8122755e-03\n",
      "  3.1329440e-03 -3.2382843e-03 -2.0735867e-03  4.5096886e-04\n",
      " -5.0894413e-03 -1.4132868e-03  6.0798792e-04  1.1505797e-04\n",
      " -1.3437817e-03 -1.5600119e-05  7.7817625e-05 -2.0015505e-03\n",
      "  2.1665702e-03 -1.5271192e-03 -1.7611531e-03  2.4511227e-03\n",
      " -1.2328672e-04 -1.0748897e-03  5.1015976e-04 -4.9623149e-03\n",
      " -4.5506412e-04 -1.6293684e-03  1.8716032e-03  3.3969739e-03\n",
      " -2.5192171e-04 -4.2594344e-04  2.3148426e-04  4.7881954e-04\n",
      "  4.5890527e-04  4.0582393e-04  5.1077578e-04  7.6365075e-04\n",
      " -1.9895604e-03  2.9070941e-03  2.0714884e-03  1.9922527e-03\n",
      " -4.5773468e-06 -1.3224452e-03 -2.7858079e-04 -1.9102786e-03\n",
      " -1.1565250e-03 -8.5913646e-04 -4.4928811e-04  7.0329756e-05\n",
      "  3.4386993e-03  2.0342034e-03  3.1499807e-03  1.9645072e-03\n",
      " -3.4178481e-03  3.8640487e-03 -8.0382149e-04  3.1117785e-03\n",
      "  3.1312630e-03 -3.3222052e-04  4.4351565e-03  2.8062176e-03\n",
      " -2.8257309e-03  3.1068341e-03  1.8123492e-03  2.0124956e-03\n",
      "  1.9562340e-03  1.5480698e-03  1.7216522e-03  1.3403046e-03\n",
      " -2.3511650e-04 -2.8193819e-03 -5.3543989e-03  1.1316349e-03\n",
      "  3.7108148e-03 -1.2770501e-03  6.7748001e-04  6.6712448e-05\n",
      "  7.6453201e-05 -1.9688252e-03  2.1400368e-03 -2.9679323e-03\n",
      " -9.2023454e-04  2.8236764e-03 -1.1859829e-04 -3.2586264e-04\n",
      "  2.2570633e-03 -2.3031288e-03 -1.8970580e-03 -4.2464249e-04\n",
      "  2.9454308e-03 -2.9307406e-04 -1.2892867e-03  2.0654564e-04\n",
      "  1.2099939e-04  2.4146705e-03 -1.1197190e-03  2.4583755e-04]\n"
     ]
    }
   ],
   "source": [
    "print(fast.wv['deep'])"
   ]
  },
  {
   "cell_type": "code",
   "execution_count": null,
   "metadata": {
    "id": "CE5kbWCWTFq7"
   },
   "outputs": [],
   "source": [
    "# save model\n",
    "fast.save('fast.bin')\n",
    "# load model\n",
    "fast = Word2Vec.load('fast.bin')"
   ]
  },
  {
   "cell_type": "code",
   "execution_count": null,
   "metadata": {
    "colab": {
     "background_save": true,
     "base_uri": "https://localhost:8080/",
     "height": 340
    },
    "executionInfo": {
     "elapsed": 357,
     "status": "error",
     "timestamp": 1709607382839,
     "user": {
      "displayName": "Nguyen Van Hieu",
      "userId": "11027844980519717401"
     },
     "user_tz": -420
    },
    "id": "20S9SO-0TPTg",
    "outputId": "caa6e311-5210-40c6-ae37-50cb233adf37"
   },
   "outputs": [
    {
     "data": {
      "image/png": "[encoded data removed]",
      "text/plain": [
       "<Figure size 640x480 with 1 Axes>"
      ]
     },
     "metadata": {},
     "output_type": "display_data"
    }
   ],
   "source": [
    "# T-SNE plot - to evaluate word embedding\n",
    "X = np.array([fast.get_embedding(word) for word in fast.wv.key_to_index])\n",
    "pca = PCA(n_components=2)\n",
    "result = pca.fit_transform(X)\n",
    "pyplot.scatter(result[:,0], result[:,1])\n",
    "words = list(fast.wv.key_to_index)\n",
    "for i, word in enumerate(words):\n",
    "  pyplot.annotate(word, xy=(result[i, 0], result[i, 1]))\n",
    "pyplot.show()\n",
    "X = fast.wv[fast.wv.index_to_key]\n",
    "pca = PCA(n_components=2)\n",
    "result = pca.fit_transform(X)\n",
    "pyplot.scatter(result[:,0], result[:,1])\n",
    "words = list(fast.wv.index_to_key)\n",
    "for i, word in enumerate(words):\n",
    "  pyplot.annotate(word, xy=(result[i, 0], result[i, 1]))\n",
    "pyplot.show()"
   ]
  },
  {
   "cell_type": "code",
   "execution_count": null,
   "metadata": {
    "id": "8nq8dIlt0dyA"
   },
   "outputs": [],
   "source": [
    "from gensim.models import Word2Vec\n",
    "from gensim.utils import simple_preprocess\n",
    "import pandas as pd\n",
    "file_path =\"/content/drive/MyDrive/Lecture_CNTT_2020/2022_NLP/2024_NLP/Bai 3 - code/hotel_name_preprocessing.csv\"\n",
    "df = pd.read_csv(file_path)\n",
    "df['raw_name'] = df['raw_name'].apply(simple_preprocess)\n",
    "model = Word2Vec(df['raw_name'], vector_size=100, window=5, min_count=5, workers=4)"
   ]
  },
  {
   "cell_type": "code",
   "execution_count": null,
   "metadata": {
    "colab": {
     "base_uri": "https://localhost:8080/",
     "height": 419
    },
    "executionInfo": {
     "elapsed": 380,
     "status": "ok",
     "timestamp": 1709483661334,
     "user": {
      "displayName": "Nguyen Van Hieu",
      "userId": "11027844980519717401"
     },
     "user_tz": -420
    },
    "id": "MoZB_4AkKoTQ",
    "outputId": "c44c8c4a-4a77-41a4-8822-41f04c4d5eaf"
   },
   "outputs": [
    {
     "data": {
      "application/vnd.google.colaboratory.intrinsic+json": {
       "summary": "{\n  \"name\": \"df\",\n  \"rows\": 221,\n  \"fields\": [\n    {\n      \"column\": \"raw_name\",\n      \"properties\": {\n        \"dtype\": \"object\",\n        \"semantic_type\": \"\",\n        \"description\": \"\"\n      }\n    },\n    {\n      \"column\": \"preprocessed_name\",\n      \"properties\": {\n        \"dtype\": \"string\",\n        \"num_unique_values\": 217,\n        \"samples\": [\n          \"Located heart Ueno Akihabara Cozy sterile Share room lots restaurants nearby convenient shopping free WiFi\",\n          \"New Twin room Tokyo Skytree Asakusa 501\",\n          \"Cozy Homely Studio In Yangon E Free Parking\"\n        ],\n        \"semantic_type\": \"\",\n        \"description\": \"\"\n      }\n    }\n  ]\n}",
       "type": "dataframe",
       "variable_name": "df"
      },
      "text/html": [
       "\n",
       "  <div id=\"df-b4e4eeb9-0ef9-4ab6-92b1-1c36c66f37fc\" class=\"colab-df-container\">\n",
       "    <div>\n",
       "<style scoped>\n",
       "    .dataframe tbody tr th:only-of-type {\n",
       "        vertical-align: middle;\n",
       "    }\n",
       "\n",
       "    .dataframe tbody tr th {\n",
       "        vertical-align: top;\n",
       "    }\n",
       "\n",
       "    .dataframe thead th {\n",
       "        text-align: right;\n",
       "    }\n",
       "</style>\n",
       "<table border=\"1\" class=\"dataframe\">\n",
       "  <thead>\n",
       "    <tr style=\"text-align: right;\">\n",
       "      <th></th>\n",
       "      <th>raw_name</th>\n",
       "      <th>preprocessed_name</th>\n",
       "    </tr>\n",
       "  </thead>\n",
       "  <tbody>\n",
       "    <tr>\n",
       "      <th>0</th>\n",
       "      <td>[ayad, studio, setia, kenangan, ii, kiulap]</td>\n",
       "      <td>AYAD 6 Studio Setia Kenangan II Kiulap</td>\n",
       "    </tr>\n",
       "    <tr>\n",
       "      <th>1</th>\n",
       "      <td>[cozyhomeku, lambak, with, private, pool]</td>\n",
       "      <td>CozyHomeku Lambak Private Pool</td>\n",
       "    </tr>\n",
       "    <tr>\n",
       "      <th>2</th>\n",
       "      <td>[private, hillside, home, villa]</td>\n",
       "      <td>Private Hillside Home Villa</td>\n",
       "    </tr>\n",
       "    <tr>\n",
       "      <th>3</th>\n",
       "      <td>[vetiver, hills, whole, villa]</td>\n",
       "      <td>Vetiver Hills Whole Villa</td>\n",
       "    </tr>\n",
       "    <tr>\n",
       "      <th>4</th>\n",
       "      <td>[ground, floor, bed, br, in, bsb, smarttv]</td>\n",
       "      <td>Ground Floor 1 BedBR BSB w SmartTV</td>\n",
       "    </tr>\n",
       "    <tr>\n",
       "      <th>...</th>\n",
       "      <td>...</td>\n",
       "      <td>...</td>\n",
       "    </tr>\n",
       "    <tr>\n",
       "      <th>216</th>\n",
       "      <td>[lively, shinjuku, shin, okubo, min, from, sta]</td>\n",
       "      <td>S2A Lively ShinjukuShinOkubo 5 min Sta</td>\n",
       "    </tr>\n",
       "    <tr>\n",
       "      <th>217</th>\n",
       "      <td>[studioư, tameikesannou, roppongi, akasaka, area]</td>\n",
       "      <td>Studioư Tameikesannou Roppongi Akasaka area</td>\n",
       "    </tr>\n",
       "    <tr>\n",
       "      <th>218</th>\n",
       "      <td>[new, twin, room, in, tokyo, skytree, asakusa]</td>\n",
       "      <td>New Twin room Tokyo Skytree Asakusa 501</td>\n",
       "    </tr>\n",
       "    <tr>\n",
       "      <th>219</th>\n",
       "      <td>[glou, higashi, shinjuku, room, with, loft]</td>\n",
       "      <td>GLOU Higashi Shinjuku Room Loft</td>\n",
       "    </tr>\n",
       "    <tr>\n",
       "      <th>220</th>\n",
       "      <td>[pets, central, asakusa, mins, sta, as]</td>\n",
       "      <td>Pets Central Asakusa 2mins StaAS07</td>\n",
       "    </tr>\n",
       "  </tbody>\n",
       "</table>\n",
       "<p>221 rows × 2 columns</p>\n",
       "</div>\n",
       "    <div class=\"colab-df-buttons\">\n",
       "\n",
       "  <div class=\"colab-df-container\">\n",
       "    <button class=\"colab-df-convert\" onclick=\"convertToInteractive('df-b4e4eeb9-0ef9-4ab6-92b1-1c36c66f37fc')\"\n",
       "            title=\"Convert this dataframe to an interactive table.\"\n",
       "            style=\"display:none;\">\n",
       "\n",
       "  <svg xmlns=\"http://www.w3.org/2000/svg\" height=\"24px\" viewBox=\"0 -960 960 960\">\n",
       "    <path d=\"M120-120v-720h720v720H120Zm60-500h600v-160H180v160Zm220 220h160v-160H400v160Zm0 220h160v-160H400v160ZM180-400h160v-160H180v160Zm440 0h160v-160H620v160ZM180-180h160v-160H180v160Zm440 0h160v-160H620v160Z\"/>\n",
       "  </svg>\n",
       "    </button>\n",
       "\n",
       "  <style>\n",
       "    .colab-df-container {\n",
       "      display:flex;\n",
       "      gap: 12px;\n",
       "    }\n",
       "\n",
       "    .colab-df-convert {\n",
       "      background-color: #E8F0FE;\n",
       "      border: none;\n",
       "      border-radius: 50%;\n",
       "      cursor: pointer;\n",
       "      display: none;\n",
       "      fill: #1967D2;\n",
       "      height: 32px;\n",
       "      padding: 0 0 0 0;\n",
       "      width: 32px;\n",
       "    }\n",
       "\n",
       "    .colab-df-convert:hover {\n",
       "      background-color: #E2EBFA;\n",
       "      box-shadow: 0px 1px 2px rgba(60, 64, 67, 0.3), 0px 1px 3px 1px rgba(60, 64, 67, 0.15);\n",
       "      fill: #174EA6;\n",
       "    }\n",
       "\n",
       "    .colab-df-buttons div {\n",
       "      margin-bottom: 4px;\n",
       "    }\n",
       "\n",
       "    [theme=dark] .colab-df-convert {\n",
       "      background-color: #3B4455;\n",
       "      fill: #D2E3FC;\n",
       "    }\n",
       "\n",
       "    [theme=dark] .colab-df-convert:hover {\n",
       "      background-color: #434B5C;\n",
       "      box-shadow: 0px 1px 3px 1px rgba(0, 0, 0, 0.15);\n",
       "      filter: drop-shadow(0px 1px 2px rgba(0, 0, 0, 0.3));\n",
       "      fill: #FFFFFF;\n",
       "    }\n",
       "  </style>\n",
       "\n",
       "    <script>\n",
       "      const buttonEl =\n",
       "        document.querySelector('#df-b4e4eeb9-0ef9-4ab6-92b1-1c36c66f37fc button.colab-df-convert');\n",
       "      buttonEl.style.display =\n",
       "        google.colab.kernel.accessAllowed ? 'block' : 'none';\n",
       "\n",
       "      async function convertToInteractive(key) {\n",
       "        const element = document.querySelector('#df-b4e4eeb9-0ef9-4ab6-92b1-1c36c66f37fc');\n",
       "        const dataTable =\n",
       "          await google.colab.kernel.invokeFunction('convertToInteractive',\n",
       "                                                    [key], {});\n",
       "        if (!dataTable) return;\n",
       "\n",
       "        const docLinkHtml = 'Like what you see? Visit the ' +\n",
       "          '<a target=\"_blank\" href=https://colab.research.google.com/notebooks/data_table.ipynb>data table notebook</a>'\n",
       "          + ' to learn more about interactive tables.';\n",
       "        element.innerHTML = '';\n",
       "        dataTable['output_type'] = 'display_data';\n",
       "        await google.colab.output.renderOutput(dataTable, element);\n",
       "        const docLink = document.createElement('div');\n",
       "        docLink.innerHTML = docLinkHtml;\n",
       "        element.appendChild(docLink);\n",
       "      }\n",
       "    </script>\n",
       "  </div>\n",
       "\n",
       "\n",
       "<div id=\"df-71ce8b69-334c-4cc4-85b3-3f091e86d168\">\n",
       "  <button class=\"colab-df-quickchart\" onclick=\"quickchart('df-71ce8b69-334c-4cc4-85b3-3f091e86d168')\"\n",
       "            title=\"Suggest charts\"\n",
       "            style=\"display:none;\">\n",
       "\n",
       "<svg xmlns=\"http://www.w3.org/2000/svg\" height=\"24px\"viewBox=\"0 0 24 24\"\n",
       "     width=\"24px\">\n",
       "    <g>\n",
       "        <path d=\"M19 3H5c-1.1 0-2 .9-2 2v14c0 1.1.9 2 2 2h14c1.1 0 2-.9 2-2V5c0-1.1-.9-2-2-2zM9 17H7v-7h2v7zm4 0h-2V7h2v10zm4 0h-2v-4h2v4z\"/>\n",
       "    </g>\n",
       "</svg>\n",
       "  </button>\n",
       "\n",
       "<style>\n",
       "  .colab-df-quickchart {\n",
       "      --bg-color: #E8F0FE;\n",
       "      --fill-color: #1967D2;\n",
       "      --hover-bg-color: #E2EBFA;\n",
       "      --hover-fill-color: #174EA6;\n",
       "      --disabled-fill-color: #AAA;\n",
       "      --disabled-bg-color: #DDD;\n",
       "  }\n",
       "\n",
       "  [theme=dark] .colab-df-quickchart {\n",
       "      --bg-color: #3B4455;\n",
       "      --fill-color: #D2E3FC;\n",
       "      --hover-bg-color: #434B5C;\n",
       "      --hover-fill-color: #FFFFFF;\n",
       "      --disabled-bg-color: #3B4455;\n",
       "      --disabled-fill-color: #666;\n",
       "  }\n",
       "\n",
       "  .colab-df-quickchart {\n",
       "    background-color: var(--bg-color);\n",
       "    border: none;\n",
       "    border-radius: 50%;\n",
       "    cursor: pointer;\n",
       "    display: none;\n",
       "    fill: var(--fill-color);\n",
       "    height: 32px;\n",
       "    padding: 0;\n",
       "    width: 32px;\n",
       "  }\n",
       "\n",
       "  .colab-df-quickchart:hover {\n",
       "    background-color: var(--hover-bg-color);\n",
       "    box-shadow: 0 1px 2px rgba(60, 64, 67, 0.3), 0 1px 3px 1px rgba(60, 64, 67, 0.15);\n",
       "    fill: var(--button-hover-fill-color);\n",
       "  }\n",
       "\n",
       "  .colab-df-quickchart-complete:disabled,\n",
       "  .colab-df-quickchart-complete:disabled:hover {\n",
       "    background-color: var(--disabled-bg-color);\n",
       "    fill: var(--disabled-fill-color);\n",
       "    box-shadow: none;\n",
       "  }\n",
       "\n",
       "  .colab-df-spinner {\n",
       "    border: 2px solid var(--fill-color);\n",
       "    border-color: transparent;\n",
       "    border-bottom-color: var(--fill-color);\n",
       "    animation:\n",
       "      spin 1s steps(1) infinite;\n",
       "  }\n",
       "\n",
       "  @keyframes spin {\n",
       "    0% {\n",
       "      border-color: transparent;\n",
       "      border-bottom-color: var(--fill-color);\n",
       "      border-left-color: var(--fill-color);\n",
       "    }\n",
       "    20% {\n",
       "      border-color: transparent;\n",
       "      border-left-color: var(--fill-color);\n",
       "      border-top-color: var(--fill-color);\n",
       "    }\n",
       "    30% {\n",
       "      border-color: transparent;\n",
       "      border-left-color: var(--fill-color);\n",
       "      border-top-color: var(--fill-color);\n",
       "      border-right-color: var(--fill-color);\n",
       "    }\n",
       "    40% {\n",
       "      border-color: transparent;\n",
       "      border-right-color: var(--fill-color);\n",
       "      border-top-color: var(--fill-color);\n",
       "    }\n",
       "    60% {\n",
       "      border-color: transparent;\n",
       "      border-right-color: var(--fill-color);\n",
       "    }\n",
       "    80% {\n",
       "      border-color: transparent;\n",
       "      border-right-color: var(--fill-color);\n",
       "      border-bottom-color: var(--fill-color);\n",
       "    }\n",
       "    90% {\n",
       "      border-color: transparent;\n",
       "      border-bottom-color: var(--fill-color);\n",
       "    }\n",
       "  }\n",
       "</style>\n",
       "\n",
       "  <script>\n",
       "    async function quickchart(key) {\n",
       "      const quickchartButtonEl =\n",
       "        document.querySelector('#' + key + ' button');\n",
       "      quickchartButtonEl.disabled = true;  // To prevent multiple clicks.\n",
       "      quickchartButtonEl.classList.add('colab-df-spinner');\n",
       "      try {\n",
       "        const charts = await google.colab.kernel.invokeFunction(\n",
       "            'suggestCharts', [key], {});\n",
       "      } catch (error) {\n",
       "        console.error('Error during call to suggestCharts:', error);\n",
       "      }\n",
       "      quickchartButtonEl.classList.remove('colab-df-spinner');\n",
       "      quickchartButtonEl.classList.add('colab-df-quickchart-complete');\n",
       "    }\n",
       "    (() => {\n",
       "      let quickchartButtonEl =\n",
       "        document.querySelector('#df-71ce8b69-334c-4cc4-85b3-3f091e86d168 button');\n",
       "      quickchartButtonEl.style.display =\n",
       "        google.colab.kernel.accessAllowed ? 'block' : 'none';\n",
       "    })();\n",
       "  </script>\n",
       "</div>\n",
       "\n",
       "  <div id=\"id_ae5d4f50-68a8-412c-b9f8-5efec5fb9440\">\n",
       "    <style>\n",
       "      .colab-df-generate {\n",
       "        background-color: #E8F0FE;\n",
       "        border: none;\n",
       "        border-radius: 50%;\n",
       "        cursor: pointer;\n",
       "        display: none;\n",
       "        fill: #1967D2;\n",
       "        height: 32px;\n",
       "        padding: 0 0 0 0;\n",
       "        width: 32px;\n",
       "      }\n",
       "\n",
       "      .colab-df-generate:hover {\n",
       "        background-color: #E2EBFA;\n",
       "        box-shadow: 0px 1px 2px rgba(60, 64, 67, 0.3), 0px 1px 3px 1px rgba(60, 64, 67, 0.15);\n",
       "        fill: #174EA6;\n",
       "      }\n",
       "\n",
       "      [theme=dark] .colab-df-generate {\n",
       "        background-color: #3B4455;\n",
       "        fill: #D2E3FC;\n",
       "      }\n",
       "\n",
       "      [theme=dark] .colab-df-generate:hover {\n",
       "        background-color: #434B5C;\n",
       "        box-shadow: 0px 1px 3px 1px rgba(0, 0, 0, 0.15);\n",
       "        filter: drop-shadow(0px 1px 2px rgba(0, 0, 0, 0.3));\n",
       "        fill: #FFFFFF;\n",
       "      }\n",
       "    </style>\n",
       "    <button class=\"colab-df-generate\" onclick=\"generateWithVariable('df')\"\n",
       "            title=\"Generate code using this dataframe.\"\n",
       "            style=\"display:none;\">\n",
       "\n",
       "  <svg xmlns=\"http://www.w3.org/2000/svg\" height=\"24px\"viewBox=\"0 0 24 24\"\n",
       "       width=\"24px\">\n",
       "    <path d=\"M7,19H8.4L18.45,9,17,7.55,7,17.6ZM5,21V16.75L18.45,3.32a2,2,0,0,1,2.83,0l1.4,1.43a1.91,1.91,0,0,1,.58,1.4,1.91,1.91,0,0,1-.58,1.4L9.25,21ZM18.45,9,17,7.55Zm-12,3A5.31,5.31,0,0,0,4.9,8.1,5.31,5.31,0,0,0,1,6.5,5.31,5.31,0,0,0,4.9,4.9,5.31,5.31,0,0,0,6.5,1,5.31,5.31,0,0,0,8.1,4.9,5.31,5.31,0,0,0,12,6.5,5.46,5.46,0,0,0,6.5,12Z\"/>\n",
       "  </svg>\n",
       "    </button>\n",
       "    <script>\n",
       "      (() => {\n",
       "      const buttonEl =\n",
       "        document.querySelector('#id_ae5d4f50-68a8-412c-b9f8-5efec5fb9440 button.colab-df-generate');\n",
       "      buttonEl.style.display =\n",
       "        google.colab.kernel.accessAllowed ? 'block' : 'none';\n",
       "\n",
       "      buttonEl.onclick = () => {\n",
       "        google.colab.notebook.generateWithVariable('df');\n",
       "      }\n",
       "      })();\n",
       "    </script>\n",
       "  </div>\n",
       "\n",
       "    </div>\n",
       "  </div>\n"
      ],
      "text/plain": [
       "                                              raw_name  \\\n",
       "0          [ayad, studio, setia, kenangan, ii, kiulap]   \n",
       "1            [cozyhomeku, lambak, with, private, pool]   \n",
       "2                     [private, hillside, home, villa]   \n",
       "3                       [vetiver, hills, whole, villa]   \n",
       "4           [ground, floor, bed, br, in, bsb, smarttv]   \n",
       "..                                                 ...   \n",
       "216    [lively, shinjuku, shin, okubo, min, from, sta]   \n",
       "217  [studioư, tameikesannou, roppongi, akasaka, area]   \n",
       "218     [new, twin, room, in, tokyo, skytree, asakusa]   \n",
       "219        [glou, higashi, shinjuku, room, with, loft]   \n",
       "220            [pets, central, asakusa, mins, sta, as]   \n",
       "\n",
       "                               preprocessed_name  \n",
       "0         AYAD 6 Studio Setia Kenangan II Kiulap  \n",
       "1                 CozyHomeku Lambak Private Pool  \n",
       "2                    Private Hillside Home Villa  \n",
       "3                      Vetiver Hills Whole Villa  \n",
       "4             Ground Floor 1 BedBR BSB w SmartTV  \n",
       "..                                           ...  \n",
       "216       S2A Lively ShinjukuShinOkubo 5 min Sta  \n",
       "217  Studioư Tameikesannou Roppongi Akasaka area  \n",
       "218      New Twin room Tokyo Skytree Asakusa 501  \n",
       "219              GLOU Higashi Shinjuku Room Loft  \n",
       "220           Pets Central Asakusa 2mins StaAS07  \n",
       "\n",
       "[221 rows x 2 columns]"
      ]
     },
     "execution_count": 37,
     "metadata": {},
     "output_type": "execute_result"
    }
   ],
   "source": [
    "df"
   ]
  },
  {
   "cell_type": "code",
   "execution_count": null,
   "metadata": {
    "colab": {
     "base_uri": "https://localhost:8080/"
    },
    "executionInfo": {
     "elapsed": 416,
     "status": "ok",
     "timestamp": 1709483739057,
     "user": {
      "displayName": "Nguyen Van Hieu",
      "userId": "11027844980519717401"
     },
     "user_tz": -420
    },
    "id": "d53KiXYQJvPa",
    "outputId": "74c000a9-680a-45dc-ebc3-528ab16d392f"
   },
   "outputs": [
    {
     "data": {
      "text/plain": [
       "-0.008484683"
      ]
     },
     "execution_count": 40,
     "metadata": {},
     "output_type": "execute_result"
    }
   ],
   "source": [
    "model.wv.similarity(\"home\",\"villa\")"
   ]
  },
  {
   "cell_type": "markdown",
   "metadata": {
    "id": "z8jZviXY0LZ0"
   },
   "source": [
    "# Noun Phrase Extracting"
   ]
  },
  {
   "cell_type": "code",
   "execution_count": null,
   "metadata": {
    "colab": {
     "base_uri": "https://localhost:8080/"
    },
    "id": "U5BHHCKNfAiP",
    "outputId": "888e3fb8-0654-4685-ae59-27bd8d7fb603"
   },
   "outputs": [
    {
     "name": "stdout",
     "output_type": "stream",
     "text": [
      "Looking in indexes: https://pypi.org/simple, https://us-python.pkg.dev/colab-wheels/public/simple/\n",
      "Requirement already satisfied: nltk in /usr/local/lib/python3.7/dist-packages (3.7)\n",
      "Requirement already satisfied: joblib in /usr/local/lib/python3.7/dist-packages (from nltk) (1.2.0)\n",
      "Requirement already satisfied: click in /usr/local/lib/python3.7/dist-packages (from nltk) (7.1.2)\n",
      "Requirement already satisfied: regex>=2021.8.3 in /usr/local/lib/python3.7/dist-packages (from nltk) (2022.6.2)\n",
      "Requirement already satisfied: tqdm in /usr/local/lib/python3.7/dist-packages (from nltk) (4.64.1)\n"
     ]
    }
   ],
   "source": [
    "!pip install nltk"
   ]
  },
  {
   "cell_type": "code",
   "execution_count": null,
   "metadata": {
    "id": "nCTMljdg0OQG"
   },
   "outputs": [],
   "source": [
    "import nltk\n",
    "from nltk.corpus import stopwords\n",
    "from nltk.tokenize import word_tokenize\n",
    "from nltk.stem import PorterStemmer\n",
    "from nltk.stem import WordNetLemmatizer"
   ]
  },
  {
   "cell_type": "code",
   "execution_count": null,
   "metadata": {
    "colab": {
     "base_uri": "https://localhost:8080/"
    },
    "id": "XOgwzpK2fFcv",
    "outputId": "fabbb516-94af-492d-c43a-e5d51e70c586"
   },
   "outputs": [
    {
     "name": "stderr",
     "output_type": "stream",
     "text": [
      "[nltk_data] Downloading package punkt to /root/nltk_data...\n",
      "[nltk_data]   Unzipping tokenizers/punkt.zip.\n"
     ]
    },
    {
     "data": {
      "text/plain": [
       "True"
      ]
     },
     "execution_count": 8,
     "metadata": {},
     "output_type": "execute_result"
    }
   ],
   "source": [
    "nltk.download('punkt')"
   ]
  },
  {
   "cell_type": "code",
   "execution_count": null,
   "metadata": {
    "colab": {
     "base_uri": "https://localhost:8080/"
    },
    "id": "sx6hwxIZfH0b",
    "outputId": "f35bd8d2-f9ae-4378-f24e-b68234db13d6"
   },
   "outputs": [
    {
     "name": "stderr",
     "output_type": "stream",
     "text": [
      "[nltk_data] Downloading package stopwords to /root/nltk_data...\n",
      "[nltk_data]   Unzipping corpora/stopwords.zip.\n"
     ]
    },
    {
     "data": {
      "text/plain": [
       "True"
      ]
     },
     "execution_count": 9,
     "metadata": {},
     "output_type": "execute_result"
    }
   ],
   "source": [
    "nltk.download('stopwords')"
   ]
  },
  {
   "cell_type": "code",
   "execution_count": null,
   "metadata": {
    "colab": {
     "base_uri": "https://localhost:8080/"
    },
    "id": "9-W2pRbMf-Uo",
    "outputId": "b5c67abc-b2b7-4b01-8b97-e976b6a467ce"
   },
   "outputs": [
    {
     "name": "stderr",
     "output_type": "stream",
     "text": [
      "[nltk_data] Downloading package brown to /root/nltk_data...\n",
      "[nltk_data]   Unzipping corpora/brown.zip.\n"
     ]
    },
    {
     "data": {
      "text/plain": [
       "True"
      ]
     },
     "execution_count": 10,
     "metadata": {},
     "output_type": "execute_result"
    }
   ],
   "source": [
    "nltk.download('brown')"
   ]
  },
  {
   "cell_type": "code",
   "execution_count": null,
   "metadata": {
    "id": "MnOWbDoifOiC"
   },
   "outputs": [],
   "source": [
    "from textblob import TextBlob"
   ]
  },
  {
   "cell_type": "code",
   "execution_count": null,
   "metadata": {
    "colab": {
     "base_uri": "https://localhost:8080/"
    },
    "id": "ZQjyRRmBfUNr",
    "outputId": "92499d94-3bdf-4342-dd56-122d08021eaf"
   },
   "outputs": [
    {
     "name": "stdout",
     "output_type": "stream",
     "text": [
      "john\n",
      "natural language processing\n"
     ]
    }
   ],
   "source": [
    "blob = TextBlob(\"John is learning natural language processing\")\n",
    "for np in blob.noun_phrases:\n",
    "  print(np)"
   ]
  },
  {
   "cell_type": "markdown",
   "metadata": {
    "id": "w4uWAs2p0OdQ"
   },
   "source": [
    "# Text Similarity"
   ]
  },
  {
   "cell_type": "code",
   "execution_count": null,
   "metadata": {
    "id": "J02thmyE0SPj"
   },
   "outputs": [],
   "source": [
    "documents = (\"I like NLP\",\n",
    "             \"I am exploring NLP\",\n",
    "             \"I am a beginner in NLP\",\n",
    "             \"I want to learn NLP\",\n",
    "             \"I like advanced NLP\")\n"
   ]
  },
  {
   "cell_type": "code",
   "execution_count": null,
   "metadata": {
    "id": "yak8NicBhJSd"
   },
   "outputs": [],
   "source": [
    "from sklearn.feature_extraction.text import TfidfVectorizer\n",
    "from sklearn.metrics.pairwise import cosine_similarity"
   ]
  },
  {
   "cell_type": "code",
   "execution_count": null,
   "metadata": {
    "colab": {
     "base_uri": "https://localhost:8080/"
    },
    "id": "ilLBnFyihjjH",
    "outputId": "a2369f20-cf13-4e7b-8fe4-796be12e6968"
   },
   "outputs": [
    {
     "data": {
      "text/plain": [
       "array([[1.        , 0.17682765, 0.14284054, 0.13489366, 0.68374784]])"
      ]
     },
     "execution_count": 15,
     "metadata": {},
     "output_type": "execute_result"
    }
   ],
   "source": [
    "tfidf_vectorizer = TfidfVectorizer()\n",
    "tfidf_matrix = tfidf_vectorizer.fit_transform(documents)\n",
    "cosine_similarity(tfidf_matrix[0:1], tfidf_matrix)"
   ]
  },
  {
   "cell_type": "markdown",
   "metadata": {
    "id": "sh1WPXpn0TZF"
   },
   "source": [
    "# Part of Speech Tagging (POS)"
   ]
  },
  {
   "cell_type": "code",
   "execution_count": null,
   "metadata": {
    "colab": {
     "base_uri": "https://localhost:8080/"
    },
    "id": "13oWCi2-bxA_",
    "outputId": "7e3e4a2c-21a7-4efe-ca4c-f58d5117ace6"
   },
   "outputs": [
    {
     "name": "stderr",
     "output_type": "stream",
     "text": [
      "[nltk_data] Downloading package averaged_perceptron_tagger to\n",
      "[nltk_data]     /root/nltk_data...\n",
      "[nltk_data]   Unzipping taggers/averaged_perceptron_tagger.zip.\n"
     ]
    },
    {
     "data": {
      "text/plain": [
       "True"
      ]
     },
     "execution_count": 17,
     "metadata": {},
     "output_type": "execute_result"
    }
   ],
   "source": [
    "nltk.download('averaged_perceptron_tagger')"
   ]
  },
  {
   "cell_type": "code",
   "execution_count": null,
   "metadata": {
    "colab": {
     "base_uri": "https://localhost:8080/"
    },
    "id": "Ev19naxO0a8E",
    "outputId": "04a21bcd-1036-413a-b466-ebdd6605ee2b"
   },
   "outputs": [
    {
     "data": {
      "text/plain": [
       "[('I', 'PRP'),\n",
       " ('love', 'VBP'),\n",
       " ('NLP', 'NNP'),\n",
       " ('I', 'PRP'),\n",
       " ('learn', 'VBP'),\n",
       " ('NLP', 'RB'),\n",
       " ('2', 'CD'),\n",
       " ('month', 'NN')]"
      ]
     },
     "execution_count": 19,
     "metadata": {},
     "output_type": "execute_result"
    }
   ],
   "source": [
    "text = \"I love NLP and I will learn NLP in 2 month\"\n",
    "from nltk.corpus import stopwords\n",
    "from nltk.tokenize import word_tokenize, sent_tokenize\n",
    "stop_words = set(stopwords.words('english'))\n",
    "tokens = sent_tokenize(text)\n",
    "for i in tokens:\n",
    "  words = nltk.word_tokenize(i)\n",
    "  words = [w for w in words if not w in stop_words]\n",
    "  tags = nltk.pos_tag(words)\n",
    "tags"
   ]
  },
  {
   "cell_type": "markdown",
   "metadata": {
    "id": "VHTELXaF0wJp"
   },
   "source": [
    "# Entity Extracting"
   ]
  },
  {
   "cell_type": "code",
   "execution_count": null,
   "metadata": {
    "colab": {
     "base_uri": "https://localhost:8080/"
    },
    "id": "CbWujVkIdz4K",
    "outputId": "6dd8bceb-d7bf-4668-bc23-d63bb23af1ac"
   },
   "outputs": [
    {
     "name": "stderr",
     "output_type": "stream",
     "text": [
      "[nltk_data] Downloading package maxent_ne_chunker to\n",
      "[nltk_data]     /root/nltk_data...\n",
      "[nltk_data]   Unzipping chunkers/maxent_ne_chunker.zip.\n"
     ]
    },
    {
     "data": {
      "text/plain": [
       "True"
      ]
     },
     "execution_count": 21,
     "metadata": {},
     "output_type": "execute_result"
    }
   ],
   "source": [
    "nltk.download('maxent_ne_chunker')"
   ]
  },
  {
   "cell_type": "code",
   "execution_count": null,
   "metadata": {
    "colab": {
     "base_uri": "https://localhost:8080/"
    },
    "id": "4kThUCa2d21_",
    "outputId": "3029774e-5ef6-4c79-cf5b-288f7720b412"
   },
   "outputs": [
    {
     "name": "stderr",
     "output_type": "stream",
     "text": [
      "[nltk_data] Downloading package words to /root/nltk_data...\n",
      "[nltk_data]   Unzipping corpora/words.zip.\n"
     ]
    },
    {
     "data": {
      "text/plain": [
       "True"
      ]
     },
     "execution_count": 23,
     "metadata": {},
     "output_type": "execute_result"
    }
   ],
   "source": [
    "nltk.download('words')"
   ]
  },
  {
   "cell_type": "code",
   "execution_count": null,
   "metadata": {
    "colab": {
     "base_uri": "https://localhost:8080/",
     "height": 391
    },
    "id": "7-Fb8GMS0yJH",
    "outputId": "6f651be9-c481-42c4-acf6-d2d27a63f0b5"
   },
   "outputs": [
    {
     "ename": "ModuleNotFoundError",
     "evalue": "ignored",
     "output_type": "error",
     "traceback": [
      "\u001b[0;31m---------------------------------------------------------------------------\u001b[0m",
      "\u001b[0;31mModuleNotFoundError\u001b[0m                       Traceback (most recent call last)",
      "\u001b[0;32m/usr/local/lib/python3.7/dist-packages/IPython/core/formatters.py\u001b[0m in \u001b[0;36m__call__\u001b[0;34m(self, obj)\u001b[0m\n\u001b[1;32m    343\u001b[0m             \u001b[0mmethod\u001b[0m \u001b[0;34m=\u001b[0m \u001b[0mget_real_method\u001b[0m\u001b[0;34m(\u001b[0m\u001b[0mobj\u001b[0m\u001b[0;34m,\u001b[0m \u001b[0mself\u001b[0m\u001b[0;34m.\u001b[0m\u001b[0mprint_method\u001b[0m\u001b[0;34m)\u001b[0m\u001b[0;34m\u001b[0m\u001b[0;34m\u001b[0m\u001b[0m\n\u001b[1;32m    344\u001b[0m             \u001b[0;32mif\u001b[0m \u001b[0mmethod\u001b[0m \u001b[0;32mis\u001b[0m \u001b[0;32mnot\u001b[0m \u001b[0;32mNone\u001b[0m\u001b[0;34m:\u001b[0m\u001b[0;34m\u001b[0m\u001b[0;34m\u001b[0m\u001b[0m\n\u001b[0;32m--> 345\u001b[0;31m                 \u001b[0;32mreturn\u001b[0m \u001b[0mmethod\u001b[0m\u001b[0;34m(\u001b[0m\u001b[0;34m)\u001b[0m\u001b[0;34m\u001b[0m\u001b[0;34m\u001b[0m\u001b[0m\n\u001b[0m\u001b[1;32m    346\u001b[0m             \u001b[0;32mreturn\u001b[0m \u001b[0;32mNone\u001b[0m\u001b[0;34m\u001b[0m\u001b[0;34m\u001b[0m\u001b[0m\n\u001b[1;32m    347\u001b[0m         \u001b[0;32melse\u001b[0m\u001b[0;34m:\u001b[0m\u001b[0;34m\u001b[0m\u001b[0;34m\u001b[0m\u001b[0m\n",
      "\u001b[0;32m/usr/local/lib/python3.7/dist-packages/nltk/tree/tree.py\u001b[0m in \u001b[0;36m_repr_svg_\u001b[0;34m(self)\u001b[0m\n\u001b[1;32m    781\u001b[0m \u001b[0;34m\u001b[0m\u001b[0m\n\u001b[1;32m    782\u001b[0m     \u001b[0;32mdef\u001b[0m \u001b[0m_repr_svg_\u001b[0m\u001b[0;34m(\u001b[0m\u001b[0mself\u001b[0m\u001b[0;34m)\u001b[0m\u001b[0;34m:\u001b[0m\u001b[0;34m\u001b[0m\u001b[0;34m\u001b[0m\u001b[0m\n\u001b[0;32m--> 783\u001b[0;31m         \u001b[0;32mfrom\u001b[0m \u001b[0msvgling\u001b[0m \u001b[0;32mimport\u001b[0m \u001b[0mdraw_tree\u001b[0m\u001b[0;34m\u001b[0m\u001b[0;34m\u001b[0m\u001b[0m\n\u001b[0m\u001b[1;32m    784\u001b[0m \u001b[0;34m\u001b[0m\u001b[0m\n\u001b[1;32m    785\u001b[0m         \u001b[0;32mreturn\u001b[0m \u001b[0mdraw_tree\u001b[0m\u001b[0;34m(\u001b[0m\u001b[0mself\u001b[0m\u001b[0;34m)\u001b[0m\u001b[0;34m.\u001b[0m\u001b[0m_repr_svg_\u001b[0m\u001b[0;34m(\u001b[0m\u001b[0;34m)\u001b[0m\u001b[0;34m\u001b[0m\u001b[0;34m\u001b[0m\u001b[0m\n",
      "\u001b[0;31mModuleNotFoundError\u001b[0m: No module named 'svgling'"
     ]
    },
    {
     "data": {
      "text/plain": [
       "Tree('S', [Tree('PERSON', [('John', 'NNP')]), ('is', 'VBZ'), ('studying', 'VBG'), ('at', 'IN'), Tree('ORGANIZATION', [('Stanford', 'NNP'), ('University', 'NNP')]), ('in', 'IN'), Tree('GPE', [('California', 'NNP')])])"
      ]
     },
     "execution_count": 24,
     "metadata": {},
     "output_type": "execute_result"
    }
   ],
   "source": [
    "sent = \"John is studying at Stanford University in California\"\n",
    "from nltk import ne_chunk\n",
    "from nltk import word_tokenize\n",
    "ne_chunk(nltk.pos_tag(word_tokenize(sent)), binary=False)\n"
   ]
  }
 ],
 "metadata": {
  "colab": {
   "collapsed_sections": [
    "z8jZviXY0LZ0",
    "w4uWAs2p0OdQ",
    "sh1WPXpn0TZF",
    "VHTELXaF0wJp"
   ],
   "provenance": []
  },
  "kernelspec": {
   "display_name": "myenv",
   "language": "python",
   "name": "python3"
  },
  "language_info": {
   "codemirror_mode": {
    "name": "ipython",
    "version": 3
   },
   "file_extension": ".py",
   "mimetype": "text/x-python",
   "name": "python",
   "nbconvert_exporter": "python",
   "pygments_lexer": "ipython3",
   "version": "3.10.6"
  }
 },
 "nbformat": 4,
 "nbformat_minor": 0
}
