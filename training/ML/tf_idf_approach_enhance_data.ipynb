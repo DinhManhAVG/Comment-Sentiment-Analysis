{
 "cells": [
  {
   "cell_type": "markdown",
   "id": "ae2d3966",
   "metadata": {},
   "source": [
    "## Thử nghiệm với TF_IDF\n",
    "- Notebook này sẽ dùng TF_IDF để convert văn bản thành vector và đưa vào các mô hình học máy cơ bản như Logistic Regression, SVM"
   ]
  },
  {
   "cell_type": "code",
   "execution_count": 1,
   "id": "2aaf0e1f",
   "metadata": {},
   "outputs": [],
   "source": [
    "import pandas as pd\n",
    "from sklearn.linear_model import LogisticRegression\n",
    "from sklearn.multioutput import MultiOutputClassifier\n",
    "from sklearn.model_selection import train_test_split\n",
    "from sklearn.pipeline import Pipeline\n",
    "from sklearn.metrics import classification_report\n",
    "from sklearn.metrics import multilabel_confusion_matrix, ConfusionMatrixDisplay\n",
    "from sklearn.feature_extraction.text import TfidfVectorizer\n",
    "import matplotlib.pyplot as plt\n",
    "import joblib"
   ]
  },
  {
   "cell_type": "markdown",
   "id": "edfb9ea2",
   "metadata": {},
   "source": [
    "### Constants\n"
   ]
  },
  {
   "cell_type": "code",
   "execution_count": 14,
   "id": "7c1f8dd6",
   "metadata": {},
   "outputs": [],
   "source": [
    "RANDOM_STATE = 42\n",
    "SPLIT_SIZE = 0.2"
   ]
  },
  {
   "cell_type": "code",
   "execution_count": 3,
   "id": "205d4a36",
   "metadata": {},
   "outputs": [],
   "source": [
    "def predict_new_comment(pipeline, comment_list):\n",
    "    \"\"\"\n",
    "    Dự đoán nhãn và xác suất cho một danh sách các comment.\n",
    "    In ra kết quả cho comment đầu tiên trong danh sách.\n",
    "    \"\"\"\n",
    "    if not isinstance(comment_list, list):\n",
    "        comment_list = [comment_list]\n",
    "\n",
    "    predicted = pipeline.predict(comment_list)\n",
    "    prob = pipeline.predict_proba(comment_list)\n",
    "\n",
    "    # Lấy kết quả cho comment đầu tiên (index 0)\n",
    "    first_comment = comment_list[0]\n",
    "    first_predicted = predicted[0]\n",
    "\n",
    "    print(f\"Comment: '{first_comment}'\")\n",
    "    print(f\"Predicted labels (positive, negative): {first_predicted}\")\n",
    "    print(\"Probabilities:\")\n",
    "\n",
    "    label_names = ['positive', 'negative']\n",
    "    for i, label in enumerate(label_names):\n",
    "        probability_class1 = prob[i][0][1]\n",
    "        print(f\"  P({label}=1): {probability_class1:.4f}\")"
   ]
  },
  {
   "cell_type": "code",
   "execution_count": 4,
   "id": "5d538b5e",
   "metadata": {},
   "outputs": [],
   "source": [
    "def draw_confusion_matrix(pipeline, X_test, y_test):\n",
    "    y_pred = pipeline.predict(X_test)\n",
    "    cm = multilabel_confusion_matrix(y_test, y_pred)\n",
    "    \n",
    "    # Tên nhãn cho các label\n",
    "    label_names = ['Positive', 'Negative']\n",
    "    \n",
    "    # Vẽ confusion matrix\n",
    "    fig, axes = plt.subplots(1, len(label_names), figsize=(15, 5))\n",
    "    \n",
    "    for i, ax in enumerate(axes):\n",
    "        # Vẽ confusion matrix cho từng nhãn\n",
    "        disp = ConfusionMatrixDisplay(confusion_matrix=cm[i], display_labels=[f'Not {label_names[i]}', label_names[i]])\n",
    "        disp.plot(ax=ax, cmap=plt.cm.Blues)\n",
    "        ax.set_title(f'Confusion Matrix for {label_names[i]}')\n",
    "    \n",
    "    plt.tight_layout()\n",
    "    plt.show()"
   ]
  },
  {
   "cell_type": "markdown",
   "id": "f8bb8875",
   "metadata": {},
   "source": [
    "### 1. Load data\n"
   ]
  },
  {
   "cell_type": "code",
   "execution_count": 5,
   "id": "27137451",
   "metadata": {},
   "outputs": [],
   "source": [
    "train_df = pd.read_csv(\"../../data/training_data/train_data.csv\")\n",
    "generated_df = pd.read_csv(\"../../data/training_data/generated_data.csv\")"
   ]
  },
  {
   "cell_type": "code",
   "execution_count": 6,
   "id": "83143083",
   "metadata": {},
   "outputs": [],
   "source": [
    "train_df = pd.concat([train_df, generated_df], ignore_index=True)"
   ]
  },
  {
   "cell_type": "code",
   "execution_count": 7,
   "id": "bb07f517",
   "metadata": {},
   "outputs": [
    {
     "data": {
      "text/plain": [
       "positive  negative\n",
       "0         0           1072\n",
       "          1           1071\n",
       "1         0           1017\n",
       "          1            678\n",
       "dtype: int64"
      ]
     },
     "execution_count": 7,
     "metadata": {},
     "output_type": "execute_result"
    }
   ],
   "source": [
    "train_df.groupby(['positive', 'negative']).size()"
   ]
  },
  {
   "cell_type": "code",
   "execution_count": 8,
   "id": "a5803a6b",
   "metadata": {},
   "outputs": [
    {
     "data": {
      "text/plain": [
       "(3838, 7)"
      ]
     },
     "execution_count": 8,
     "metadata": {},
     "output_type": "execute_result"
    }
   ],
   "source": [
    "train_df.shape"
   ]
  },
  {
   "cell_type": "code",
   "execution_count": 9,
   "id": "58f22899",
   "metadata": {},
   "outputs": [
    {
     "data": {
      "text/html": [
       "<div>\n",
       "<style scoped>\n",
       "    .dataframe tbody tr th:only-of-type {\n",
       "        vertical-align: middle;\n",
       "    }\n",
       "\n",
       "    .dataframe tbody tr th {\n",
       "        vertical-align: top;\n",
       "    }\n",
       "\n",
       "    .dataframe thead th {\n",
       "        text-align: right;\n",
       "    }\n",
       "</style>\n",
       "<table border=\"1\" class=\"dataframe\">\n",
       "  <thead>\n",
       "    <tr style=\"text-align: right;\">\n",
       "      <th></th>\n",
       "      <th>product_id</th>\n",
       "      <th>comment</th>\n",
       "      <th>comment_clean_stage1</th>\n",
       "      <th>comment_clean_stage2</th>\n",
       "      <th>rating</th>\n",
       "      <th>positive</th>\n",
       "      <th>negative</th>\n",
       "    </tr>\n",
       "  </thead>\n",
       "  <tbody>\n",
       "    <tr>\n",
       "      <th>0</th>\n",
       "      <td>honor-x8b</td>\n",
       "      <td>Đừng mua, ko có linh kiện.</td>\n",
       "      <td>đừng mua, không có linh kiện.</td>\n",
       "      <td>đừng mua không linh_kiện</td>\n",
       "      <td>1.0</td>\n",
       "      <td>0</td>\n",
       "      <td>1</td>\n",
       "    </tr>\n",
       "    <tr>\n",
       "      <th>1</th>\n",
       "      <td>honor-x8b</td>\n",
       "      <td>Mua online bên này báo ngoài ip ra thì hàng ko...</td>\n",
       "      <td>mua online bên này báo ngoài iphone ra thì hàn...</td>\n",
       "      <td>mua online bên báo iphone hàng không full box ...</td>\n",
       "      <td>2.0</td>\n",
       "      <td>0</td>\n",
       "      <td>1</td>\n",
       "    </tr>\n",
       "    <tr>\n",
       "      <th>2</th>\n",
       "      <td>honor-x8b</td>\n",
       "      <td>Mạng yếu hay mất sóng, đổi máy khác được không</td>\n",
       "      <td>mạng yếu hay mất sóng, đổi máy khác được không?</td>\n",
       "      <td>mạng yếu hay mất sóng đổi máy khác được không</td>\n",
       "      <td>1.0</td>\n",
       "      <td>0</td>\n",
       "      <td>1</td>\n",
       "    </tr>\n",
       "    <tr>\n",
       "      <th>3</th>\n",
       "      <td>iphone-12</td>\n",
       "      <td>Mua máy lướt được 2 hôm đã lỗi loa ngoài, lúc ...</td>\n",
       "      <td>mua máy lướt được hai hôm đã lỗi loa ngoài, lú...</td>\n",
       "      <td>mua máy lướt được hai hôm lỗi loa lúc bán nhân...</td>\n",
       "      <td>1.0</td>\n",
       "      <td>0</td>\n",
       "      <td>1</td>\n",
       "    </tr>\n",
       "    <tr>\n",
       "      <th>4</th>\n",
       "      <td>iphone-12</td>\n",
       "      <td>Mới mua mà dễ nóng quá. Khi sạc và nhất là bật...</td>\n",
       "      <td>mới mua mà dễ nóng quá. khi sạc và nhất là bật...</td>\n",
       "      <td>mới mua mà dễ nóng quá sạc nhất_là bật máy_ảnh...</td>\n",
       "      <td>2.0</td>\n",
       "      <td>0</td>\n",
       "      <td>1</td>\n",
       "    </tr>\n",
       "  </tbody>\n",
       "</table>\n",
       "</div>"
      ],
      "text/plain": [
       "  product_id                                            comment  \\\n",
       "0  honor-x8b                         Đừng mua, ko có linh kiện.   \n",
       "1  honor-x8b  Mua online bên này báo ngoài ip ra thì hàng ko...   \n",
       "2  honor-x8b     Mạng yếu hay mất sóng, đổi máy khác được không   \n",
       "3  iphone-12  Mua máy lướt được 2 hôm đã lỗi loa ngoài, lúc ...   \n",
       "4  iphone-12  Mới mua mà dễ nóng quá. Khi sạc và nhất là bật...   \n",
       "\n",
       "                                comment_clean_stage1  \\\n",
       "0                      đừng mua, không có linh kiện.   \n",
       "1  mua online bên này báo ngoài iphone ra thì hàn...   \n",
       "2    mạng yếu hay mất sóng, đổi máy khác được không?   \n",
       "3  mua máy lướt được hai hôm đã lỗi loa ngoài, lú...   \n",
       "4  mới mua mà dễ nóng quá. khi sạc và nhất là bật...   \n",
       "\n",
       "                                comment_clean_stage2  rating  positive  \\\n",
       "0                           đừng mua không linh_kiện     1.0         0   \n",
       "1  mua online bên báo iphone hàng không full box ...     2.0         0   \n",
       "2      mạng yếu hay mất sóng đổi máy khác được không     1.0         0   \n",
       "3  mua máy lướt được hai hôm lỗi loa lúc bán nhân...     1.0         0   \n",
       "4  mới mua mà dễ nóng quá sạc nhất_là bật máy_ảnh...     2.0         0   \n",
       "\n",
       "   negative  \n",
       "0         1  \n",
       "1         1  \n",
       "2         1  \n",
       "3         1  \n",
       "4         1  "
      ]
     },
     "execution_count": 9,
     "metadata": {},
     "output_type": "execute_result"
    }
   ],
   "source": [
    "train_df.head()"
   ]
  },
  {
   "cell_type": "code",
   "execution_count": 10,
   "id": "d0d71912",
   "metadata": {},
   "outputs": [],
   "source": [
    "# Xoá các hàng có comment_clean_stage2 là NaN\n",
    "train_df = train_df.dropna(subset=['comment_clean_stage2'])"
   ]
  },
  {
   "cell_type": "code",
   "execution_count": 11,
   "id": "327356fb",
   "metadata": {},
   "outputs": [
    {
     "data": {
      "text/plain": [
       "(3837, 7)"
      ]
     },
     "execution_count": 11,
     "metadata": {},
     "output_type": "execute_result"
    }
   ],
   "source": [
    "train_df.shape"
   ]
  },
  {
   "cell_type": "code",
   "execution_count": 12,
   "id": "be61d056",
   "metadata": {},
   "outputs": [],
   "source": [
    "X = train_df[\"comment_clean_stage2\"]\n",
    "y = train_df[[\"positive\", \"negative\"]]"
   ]
  },
  {
   "cell_type": "code",
   "execution_count": 15,
   "id": "38b574fd",
   "metadata": {},
   "outputs": [],
   "source": [
    "X_train, X_test, y_train, y_test = train_test_split(\n",
    "    X, y, test_size=SPLIT_SIZE, random_state=RANDOM_STATE\n",
    ")"
   ]
  },
  {
   "cell_type": "code",
   "execution_count": 16,
   "id": "d97ca20b",
   "metadata": {},
   "outputs": [],
   "source": [
    "tfidf = TfidfVectorizer(\n",
    "    ngram_range=(1, 2),  # xét cả unigram (từng từ đơn) và bigram (cặp từ liên tiếp)\n",
    "    max_df=0.95,  # bỏ qua các từ xuất hiện trong >95% văn bản (thường là từ quá phổ biến)\n",
    "    min_df=2,  # chỉ giữ các từ/cụm từ xuất hiện ở ít nhất 2 văn bản\n",
    ")"
   ]
  },
  {
   "cell_type": "code",
   "execution_count": 17,
   "id": "fe31ccea",
   "metadata": {},
   "outputs": [],
   "source": [
    "# Logistic Regression với MultiOutputClassifier\n",
    "logistic_classifier = MultiOutputClassifier(LogisticRegression(solver='liblinear', class_weight='balanced'))"
   ]
  },
  {
   "cell_type": "code",
   "execution_count": 18,
   "id": "6858f629",
   "metadata": {},
   "outputs": [],
   "source": [
    "pipeline_logistic = Pipeline([\n",
    "    ('tfidf', tfidf),\n",
    "    ('logistic_classifier', logistic_classifier)\n",
    "])"
   ]
  },
  {
   "cell_type": "code",
   "execution_count": 19,
   "id": "0f3537ba",
   "metadata": {},
   "outputs": [
    {
     "data": {
      "text/html": [
       "<style>#sk-container-id-1 {\n",
       "  /* Definition of color scheme common for light and dark mode */\n",
       "  --sklearn-color-text: #000;\n",
       "  --sklearn-color-text-muted: #666;\n",
       "  --sklearn-color-line: gray;\n",
       "  /* Definition of color scheme for unfitted estimators */\n",
       "  --sklearn-color-unfitted-level-0: #fff5e6;\n",
       "  --sklearn-color-unfitted-level-1: #f6e4d2;\n",
       "  --sklearn-color-unfitted-level-2: #ffe0b3;\n",
       "  --sklearn-color-unfitted-level-3: chocolate;\n",
       "  /* Definition of color scheme for fitted estimators */\n",
       "  --sklearn-color-fitted-level-0: #f0f8ff;\n",
       "  --sklearn-color-fitted-level-1: #d4ebff;\n",
       "  --sklearn-color-fitted-level-2: #b3dbfd;\n",
       "  --sklearn-color-fitted-level-3: cornflowerblue;\n",
       "\n",
       "  /* Specific color for light theme */\n",
       "  --sklearn-color-text-on-default-background: var(--sg-text-color, var(--theme-code-foreground, var(--jp-content-font-color1, black)));\n",
       "  --sklearn-color-background: var(--sg-background-color, var(--theme-background, var(--jp-layout-color0, white)));\n",
       "  --sklearn-color-border-box: var(--sg-text-color, var(--theme-code-foreground, var(--jp-content-font-color1, black)));\n",
       "  --sklearn-color-icon: #696969;\n",
       "\n",
       "  @media (prefers-color-scheme: dark) {\n",
       "    /* Redefinition of color scheme for dark theme */\n",
       "    --sklearn-color-text-on-default-background: var(--sg-text-color, var(--theme-code-foreground, var(--jp-content-font-color1, white)));\n",
       "    --sklearn-color-background: var(--sg-background-color, var(--theme-background, var(--jp-layout-color0, #111)));\n",
       "    --sklearn-color-border-box: var(--sg-text-color, var(--theme-code-foreground, var(--jp-content-font-color1, white)));\n",
       "    --sklearn-color-icon: #878787;\n",
       "  }\n",
       "}\n",
       "\n",
       "#sk-container-id-1 {\n",
       "  color: var(--sklearn-color-text);\n",
       "}\n",
       "\n",
       "#sk-container-id-1 pre {\n",
       "  padding: 0;\n",
       "}\n",
       "\n",
       "#sk-container-id-1 input.sk-hidden--visually {\n",
       "  border: 0;\n",
       "  clip: rect(1px 1px 1px 1px);\n",
       "  clip: rect(1px, 1px, 1px, 1px);\n",
       "  height: 1px;\n",
       "  margin: -1px;\n",
       "  overflow: hidden;\n",
       "  padding: 0;\n",
       "  position: absolute;\n",
       "  width: 1px;\n",
       "}\n",
       "\n",
       "#sk-container-id-1 div.sk-dashed-wrapped {\n",
       "  border: 1px dashed var(--sklearn-color-line);\n",
       "  margin: 0 0.4em 0.5em 0.4em;\n",
       "  box-sizing: border-box;\n",
       "  padding-bottom: 0.4em;\n",
       "  background-color: var(--sklearn-color-background);\n",
       "}\n",
       "\n",
       "#sk-container-id-1 div.sk-container {\n",
       "  /* jupyter's `normalize.less` sets `[hidden] { display: none; }`\n",
       "     but bootstrap.min.css set `[hidden] { display: none !important; }`\n",
       "     so we also need the `!important` here to be able to override the\n",
       "     default hidden behavior on the sphinx rendered scikit-learn.org.\n",
       "     See: https://github.com/scikit-learn/scikit-learn/issues/21755 */\n",
       "  display: inline-block !important;\n",
       "  position: relative;\n",
       "}\n",
       "\n",
       "#sk-container-id-1 div.sk-text-repr-fallback {\n",
       "  display: none;\n",
       "}\n",
       "\n",
       "div.sk-parallel-item,\n",
       "div.sk-serial,\n",
       "div.sk-item {\n",
       "  /* draw centered vertical line to link estimators */\n",
       "  background-image: linear-gradient(var(--sklearn-color-text-on-default-background), var(--sklearn-color-text-on-default-background));\n",
       "  background-size: 2px 100%;\n",
       "  background-repeat: no-repeat;\n",
       "  background-position: center center;\n",
       "}\n",
       "\n",
       "/* Parallel-specific style estimator block */\n",
       "\n",
       "#sk-container-id-1 div.sk-parallel-item::after {\n",
       "  content: \"\";\n",
       "  width: 100%;\n",
       "  border-bottom: 2px solid var(--sklearn-color-text-on-default-background);\n",
       "  flex-grow: 1;\n",
       "}\n",
       "\n",
       "#sk-container-id-1 div.sk-parallel {\n",
       "  display: flex;\n",
       "  align-items: stretch;\n",
       "  justify-content: center;\n",
       "  background-color: var(--sklearn-color-background);\n",
       "  position: relative;\n",
       "}\n",
       "\n",
       "#sk-container-id-1 div.sk-parallel-item {\n",
       "  display: flex;\n",
       "  flex-direction: column;\n",
       "}\n",
       "\n",
       "#sk-container-id-1 div.sk-parallel-item:first-child::after {\n",
       "  align-self: flex-end;\n",
       "  width: 50%;\n",
       "}\n",
       "\n",
       "#sk-container-id-1 div.sk-parallel-item:last-child::after {\n",
       "  align-self: flex-start;\n",
       "  width: 50%;\n",
       "}\n",
       "\n",
       "#sk-container-id-1 div.sk-parallel-item:only-child::after {\n",
       "  width: 0;\n",
       "}\n",
       "\n",
       "/* Serial-specific style estimator block */\n",
       "\n",
       "#sk-container-id-1 div.sk-serial {\n",
       "  display: flex;\n",
       "  flex-direction: column;\n",
       "  align-items: center;\n",
       "  background-color: var(--sklearn-color-background);\n",
       "  padding-right: 1em;\n",
       "  padding-left: 1em;\n",
       "}\n",
       "\n",
       "\n",
       "/* Toggleable style: style used for estimator/Pipeline/ColumnTransformer box that is\n",
       "clickable and can be expanded/collapsed.\n",
       "- Pipeline and ColumnTransformer use this feature and define the default style\n",
       "- Estimators will overwrite some part of the style using the `sk-estimator` class\n",
       "*/\n",
       "\n",
       "/* Pipeline and ColumnTransformer style (default) */\n",
       "\n",
       "#sk-container-id-1 div.sk-toggleable {\n",
       "  /* Default theme specific background. It is overwritten whether we have a\n",
       "  specific estimator or a Pipeline/ColumnTransformer */\n",
       "  background-color: var(--sklearn-color-background);\n",
       "}\n",
       "\n",
       "/* Toggleable label */\n",
       "#sk-container-id-1 label.sk-toggleable__label {\n",
       "  cursor: pointer;\n",
       "  display: flex;\n",
       "  width: 100%;\n",
       "  margin-bottom: 0;\n",
       "  padding: 0.5em;\n",
       "  box-sizing: border-box;\n",
       "  text-align: center;\n",
       "  align-items: start;\n",
       "  justify-content: space-between;\n",
       "  gap: 0.5em;\n",
       "}\n",
       "\n",
       "#sk-container-id-1 label.sk-toggleable__label .caption {\n",
       "  font-size: 0.6rem;\n",
       "  font-weight: lighter;\n",
       "  color: var(--sklearn-color-text-muted);\n",
       "}\n",
       "\n",
       "#sk-container-id-1 label.sk-toggleable__label-arrow:before {\n",
       "  /* Arrow on the left of the label */\n",
       "  content: \"▸\";\n",
       "  float: left;\n",
       "  margin-right: 0.25em;\n",
       "  color: var(--sklearn-color-icon);\n",
       "}\n",
       "\n",
       "#sk-container-id-1 label.sk-toggleable__label-arrow:hover:before {\n",
       "  color: var(--sklearn-color-text);\n",
       "}\n",
       "\n",
       "/* Toggleable content - dropdown */\n",
       "\n",
       "#sk-container-id-1 div.sk-toggleable__content {\n",
       "  max-height: 0;\n",
       "  max-width: 0;\n",
       "  overflow: hidden;\n",
       "  text-align: left;\n",
       "  /* unfitted */\n",
       "  background-color: var(--sklearn-color-unfitted-level-0);\n",
       "}\n",
       "\n",
       "#sk-container-id-1 div.sk-toggleable__content.fitted {\n",
       "  /* fitted */\n",
       "  background-color: var(--sklearn-color-fitted-level-0);\n",
       "}\n",
       "\n",
       "#sk-container-id-1 div.sk-toggleable__content pre {\n",
       "  margin: 0.2em;\n",
       "  border-radius: 0.25em;\n",
       "  color: var(--sklearn-color-text);\n",
       "  /* unfitted */\n",
       "  background-color: var(--sklearn-color-unfitted-level-0);\n",
       "}\n",
       "\n",
       "#sk-container-id-1 div.sk-toggleable__content.fitted pre {\n",
       "  /* unfitted */\n",
       "  background-color: var(--sklearn-color-fitted-level-0);\n",
       "}\n",
       "\n",
       "#sk-container-id-1 input.sk-toggleable__control:checked~div.sk-toggleable__content {\n",
       "  /* Expand drop-down */\n",
       "  max-height: 200px;\n",
       "  max-width: 100%;\n",
       "  overflow: auto;\n",
       "}\n",
       "\n",
       "#sk-container-id-1 input.sk-toggleable__control:checked~label.sk-toggleable__label-arrow:before {\n",
       "  content: \"▾\";\n",
       "}\n",
       "\n",
       "/* Pipeline/ColumnTransformer-specific style */\n",
       "\n",
       "#sk-container-id-1 div.sk-label input.sk-toggleable__control:checked~label.sk-toggleable__label {\n",
       "  color: var(--sklearn-color-text);\n",
       "  background-color: var(--sklearn-color-unfitted-level-2);\n",
       "}\n",
       "\n",
       "#sk-container-id-1 div.sk-label.fitted input.sk-toggleable__control:checked~label.sk-toggleable__label {\n",
       "  background-color: var(--sklearn-color-fitted-level-2);\n",
       "}\n",
       "\n",
       "/* Estimator-specific style */\n",
       "\n",
       "/* Colorize estimator box */\n",
       "#sk-container-id-1 div.sk-estimator input.sk-toggleable__control:checked~label.sk-toggleable__label {\n",
       "  /* unfitted */\n",
       "  background-color: var(--sklearn-color-unfitted-level-2);\n",
       "}\n",
       "\n",
       "#sk-container-id-1 div.sk-estimator.fitted input.sk-toggleable__control:checked~label.sk-toggleable__label {\n",
       "  /* fitted */\n",
       "  background-color: var(--sklearn-color-fitted-level-2);\n",
       "}\n",
       "\n",
       "#sk-container-id-1 div.sk-label label.sk-toggleable__label,\n",
       "#sk-container-id-1 div.sk-label label {\n",
       "  /* The background is the default theme color */\n",
       "  color: var(--sklearn-color-text-on-default-background);\n",
       "}\n",
       "\n",
       "/* On hover, darken the color of the background */\n",
       "#sk-container-id-1 div.sk-label:hover label.sk-toggleable__label {\n",
       "  color: var(--sklearn-color-text);\n",
       "  background-color: var(--sklearn-color-unfitted-level-2);\n",
       "}\n",
       "\n",
       "/* Label box, darken color on hover, fitted */\n",
       "#sk-container-id-1 div.sk-label.fitted:hover label.sk-toggleable__label.fitted {\n",
       "  color: var(--sklearn-color-text);\n",
       "  background-color: var(--sklearn-color-fitted-level-2);\n",
       "}\n",
       "\n",
       "/* Estimator label */\n",
       "\n",
       "#sk-container-id-1 div.sk-label label {\n",
       "  font-family: monospace;\n",
       "  font-weight: bold;\n",
       "  display: inline-block;\n",
       "  line-height: 1.2em;\n",
       "}\n",
       "\n",
       "#sk-container-id-1 div.sk-label-container {\n",
       "  text-align: center;\n",
       "}\n",
       "\n",
       "/* Estimator-specific */\n",
       "#sk-container-id-1 div.sk-estimator {\n",
       "  font-family: monospace;\n",
       "  border: 1px dotted var(--sklearn-color-border-box);\n",
       "  border-radius: 0.25em;\n",
       "  box-sizing: border-box;\n",
       "  margin-bottom: 0.5em;\n",
       "  /* unfitted */\n",
       "  background-color: var(--sklearn-color-unfitted-level-0);\n",
       "}\n",
       "\n",
       "#sk-container-id-1 div.sk-estimator.fitted {\n",
       "  /* fitted */\n",
       "  background-color: var(--sklearn-color-fitted-level-0);\n",
       "}\n",
       "\n",
       "/* on hover */\n",
       "#sk-container-id-1 div.sk-estimator:hover {\n",
       "  /* unfitted */\n",
       "  background-color: var(--sklearn-color-unfitted-level-2);\n",
       "}\n",
       "\n",
       "#sk-container-id-1 div.sk-estimator.fitted:hover {\n",
       "  /* fitted */\n",
       "  background-color: var(--sklearn-color-fitted-level-2);\n",
       "}\n",
       "\n",
       "/* Specification for estimator info (e.g. \"i\" and \"?\") */\n",
       "\n",
       "/* Common style for \"i\" and \"?\" */\n",
       "\n",
       ".sk-estimator-doc-link,\n",
       "a:link.sk-estimator-doc-link,\n",
       "a:visited.sk-estimator-doc-link {\n",
       "  float: right;\n",
       "  font-size: smaller;\n",
       "  line-height: 1em;\n",
       "  font-family: monospace;\n",
       "  background-color: var(--sklearn-color-background);\n",
       "  border-radius: 1em;\n",
       "  height: 1em;\n",
       "  width: 1em;\n",
       "  text-decoration: none !important;\n",
       "  margin-left: 0.5em;\n",
       "  text-align: center;\n",
       "  /* unfitted */\n",
       "  border: var(--sklearn-color-unfitted-level-1) 1pt solid;\n",
       "  color: var(--sklearn-color-unfitted-level-1);\n",
       "}\n",
       "\n",
       ".sk-estimator-doc-link.fitted,\n",
       "a:link.sk-estimator-doc-link.fitted,\n",
       "a:visited.sk-estimator-doc-link.fitted {\n",
       "  /* fitted */\n",
       "  border: var(--sklearn-color-fitted-level-1) 1pt solid;\n",
       "  color: var(--sklearn-color-fitted-level-1);\n",
       "}\n",
       "\n",
       "/* On hover */\n",
       "div.sk-estimator:hover .sk-estimator-doc-link:hover,\n",
       ".sk-estimator-doc-link:hover,\n",
       "div.sk-label-container:hover .sk-estimator-doc-link:hover,\n",
       ".sk-estimator-doc-link:hover {\n",
       "  /* unfitted */\n",
       "  background-color: var(--sklearn-color-unfitted-level-3);\n",
       "  color: var(--sklearn-color-background);\n",
       "  text-decoration: none;\n",
       "}\n",
       "\n",
       "div.sk-estimator.fitted:hover .sk-estimator-doc-link.fitted:hover,\n",
       ".sk-estimator-doc-link.fitted:hover,\n",
       "div.sk-label-container:hover .sk-estimator-doc-link.fitted:hover,\n",
       ".sk-estimator-doc-link.fitted:hover {\n",
       "  /* fitted */\n",
       "  background-color: var(--sklearn-color-fitted-level-3);\n",
       "  color: var(--sklearn-color-background);\n",
       "  text-decoration: none;\n",
       "}\n",
       "\n",
       "/* Span, style for the box shown on hovering the info icon */\n",
       ".sk-estimator-doc-link span {\n",
       "  display: none;\n",
       "  z-index: 9999;\n",
       "  position: relative;\n",
       "  font-weight: normal;\n",
       "  right: .2ex;\n",
       "  padding: .5ex;\n",
       "  margin: .5ex;\n",
       "  width: min-content;\n",
       "  min-width: 20ex;\n",
       "  max-width: 50ex;\n",
       "  color: var(--sklearn-color-text);\n",
       "  box-shadow: 2pt 2pt 4pt #999;\n",
       "  /* unfitted */\n",
       "  background: var(--sklearn-color-unfitted-level-0);\n",
       "  border: .5pt solid var(--sklearn-color-unfitted-level-3);\n",
       "}\n",
       "\n",
       ".sk-estimator-doc-link.fitted span {\n",
       "  /* fitted */\n",
       "  background: var(--sklearn-color-fitted-level-0);\n",
       "  border: var(--sklearn-color-fitted-level-3);\n",
       "}\n",
       "\n",
       ".sk-estimator-doc-link:hover span {\n",
       "  display: block;\n",
       "}\n",
       "\n",
       "/* \"?\"-specific style due to the `<a>` HTML tag */\n",
       "\n",
       "#sk-container-id-1 a.estimator_doc_link {\n",
       "  float: right;\n",
       "  font-size: 1rem;\n",
       "  line-height: 1em;\n",
       "  font-family: monospace;\n",
       "  background-color: var(--sklearn-color-background);\n",
       "  border-radius: 1rem;\n",
       "  height: 1rem;\n",
       "  width: 1rem;\n",
       "  text-decoration: none;\n",
       "  /* unfitted */\n",
       "  color: var(--sklearn-color-unfitted-level-1);\n",
       "  border: var(--sklearn-color-unfitted-level-1) 1pt solid;\n",
       "}\n",
       "\n",
       "#sk-container-id-1 a.estimator_doc_link.fitted {\n",
       "  /* fitted */\n",
       "  border: var(--sklearn-color-fitted-level-1) 1pt solid;\n",
       "  color: var(--sklearn-color-fitted-level-1);\n",
       "}\n",
       "\n",
       "/* On hover */\n",
       "#sk-container-id-1 a.estimator_doc_link:hover {\n",
       "  /* unfitted */\n",
       "  background-color: var(--sklearn-color-unfitted-level-3);\n",
       "  color: var(--sklearn-color-background);\n",
       "  text-decoration: none;\n",
       "}\n",
       "\n",
       "#sk-container-id-1 a.estimator_doc_link.fitted:hover {\n",
       "  /* fitted */\n",
       "  background-color: var(--sklearn-color-fitted-level-3);\n",
       "}\n",
       "</style><div id=\"sk-container-id-1\" class=\"sk-top-container\"><div class=\"sk-text-repr-fallback\"><pre>Pipeline(steps=[(&#x27;tfidf&#x27;,\n",
       "                 TfidfVectorizer(max_df=0.95, min_df=2, ngram_range=(1, 2))),\n",
       "                (&#x27;logistic_classifier&#x27;,\n",
       "                 MultiOutputClassifier(estimator=LogisticRegression(class_weight=&#x27;balanced&#x27;,\n",
       "                                                                    solver=&#x27;liblinear&#x27;)))])</pre><b>In a Jupyter environment, please rerun this cell to show the HTML representation or trust the notebook. <br />On GitHub, the HTML representation is unable to render, please try loading this page with nbviewer.org.</b></div><div class=\"sk-container\" hidden><div class=\"sk-item sk-dashed-wrapped\"><div class=\"sk-label-container\"><div class=\"sk-label fitted sk-toggleable\"><input class=\"sk-toggleable__control sk-hidden--visually\" id=\"sk-estimator-id-1\" type=\"checkbox\" ><label for=\"sk-estimator-id-1\" class=\"sk-toggleable__label fitted sk-toggleable__label-arrow\"><div><div>Pipeline</div></div><div><a class=\"sk-estimator-doc-link fitted\" rel=\"noreferrer\" target=\"_blank\" href=\"https://scikit-learn.org/1.6/modules/generated/sklearn.pipeline.Pipeline.html\">?<span>Documentation for Pipeline</span></a><span class=\"sk-estimator-doc-link fitted\">i<span>Fitted</span></span></div></label><div class=\"sk-toggleable__content fitted\"><pre>Pipeline(steps=[(&#x27;tfidf&#x27;,\n",
       "                 TfidfVectorizer(max_df=0.95, min_df=2, ngram_range=(1, 2))),\n",
       "                (&#x27;logistic_classifier&#x27;,\n",
       "                 MultiOutputClassifier(estimator=LogisticRegression(class_weight=&#x27;balanced&#x27;,\n",
       "                                                                    solver=&#x27;liblinear&#x27;)))])</pre></div> </div></div><div class=\"sk-serial\"><div class=\"sk-item\"><div class=\"sk-estimator fitted sk-toggleable\"><input class=\"sk-toggleable__control sk-hidden--visually\" id=\"sk-estimator-id-2\" type=\"checkbox\" ><label for=\"sk-estimator-id-2\" class=\"sk-toggleable__label fitted sk-toggleable__label-arrow\"><div><div>TfidfVectorizer</div></div><div><a class=\"sk-estimator-doc-link fitted\" rel=\"noreferrer\" target=\"_blank\" href=\"https://scikit-learn.org/1.6/modules/generated/sklearn.feature_extraction.text.TfidfVectorizer.html\">?<span>Documentation for TfidfVectorizer</span></a></div></label><div class=\"sk-toggleable__content fitted\"><pre>TfidfVectorizer(max_df=0.95, min_df=2, ngram_range=(1, 2))</pre></div> </div></div><div class=\"sk-item sk-dashed-wrapped\"><div class=\"sk-label-container\"><div class=\"sk-label fitted sk-toggleable\"><input class=\"sk-toggleable__control sk-hidden--visually\" id=\"sk-estimator-id-3\" type=\"checkbox\" ><label for=\"sk-estimator-id-3\" class=\"sk-toggleable__label fitted sk-toggleable__label-arrow\"><div><div>logistic_classifier: MultiOutputClassifier</div></div><div><a class=\"sk-estimator-doc-link fitted\" rel=\"noreferrer\" target=\"_blank\" href=\"https://scikit-learn.org/1.6/modules/generated/sklearn.multioutput.MultiOutputClassifier.html\">?<span>Documentation for logistic_classifier: MultiOutputClassifier</span></a></div></label><div class=\"sk-toggleable__content fitted\"><pre>MultiOutputClassifier(estimator=LogisticRegression(class_weight=&#x27;balanced&#x27;,\n",
       "                                                   solver=&#x27;liblinear&#x27;))</pre></div> </div></div><div class=\"sk-parallel\"><div class=\"sk-parallel-item\"><div class=\"sk-item\"><div class=\"sk-label-container\"><div class=\"sk-label fitted sk-toggleable\"><input class=\"sk-toggleable__control sk-hidden--visually\" id=\"sk-estimator-id-4\" type=\"checkbox\" ><label for=\"sk-estimator-id-4\" class=\"sk-toggleable__label fitted sk-toggleable__label-arrow\"><div><div>estimator: LogisticRegression</div></div></label><div class=\"sk-toggleable__content fitted\"><pre>LogisticRegression(class_weight=&#x27;balanced&#x27;, solver=&#x27;liblinear&#x27;)</pre></div> </div></div><div class=\"sk-serial\"><div class=\"sk-item\"><div class=\"sk-estimator fitted sk-toggleable\"><input class=\"sk-toggleable__control sk-hidden--visually\" id=\"sk-estimator-id-5\" type=\"checkbox\" ><label for=\"sk-estimator-id-5\" class=\"sk-toggleable__label fitted sk-toggleable__label-arrow\"><div><div>LogisticRegression</div></div><div><a class=\"sk-estimator-doc-link fitted\" rel=\"noreferrer\" target=\"_blank\" href=\"https://scikit-learn.org/1.6/modules/generated/sklearn.linear_model.LogisticRegression.html\">?<span>Documentation for LogisticRegression</span></a></div></label><div class=\"sk-toggleable__content fitted\"><pre>LogisticRegression(class_weight=&#x27;balanced&#x27;, solver=&#x27;liblinear&#x27;)</pre></div> </div></div></div></div></div></div></div></div></div></div></div>"
      ],
      "text/plain": [
       "Pipeline(steps=[('tfidf',\n",
       "                 TfidfVectorizer(max_df=0.95, min_df=2, ngram_range=(1, 2))),\n",
       "                ('logistic_classifier',\n",
       "                 MultiOutputClassifier(estimator=LogisticRegression(class_weight='balanced',\n",
       "                                                                    solver='liblinear')))])"
      ]
     },
     "execution_count": 19,
     "metadata": {},
     "output_type": "execute_result"
    }
   ],
   "source": [
    "pipeline_logistic.fit(X_train, y_train)"
   ]
  },
  {
   "cell_type": "code",
   "execution_count": 20,
   "id": "bc3a4756",
   "metadata": {},
   "outputs": [],
   "source": [
    "y_pred = pipeline_logistic.predict(X_test)"
   ]
  },
  {
   "cell_type": "code",
   "execution_count": 21,
   "id": "9590de27",
   "metadata": {},
   "outputs": [
    {
     "name": "stdout",
     "output_type": "stream",
     "text": [
      "              precision    recall  f1-score   support\n",
      "\n",
      "           0       0.97      0.92      0.94       334\n",
      "           1       0.87      0.93      0.90       360\n",
      "\n",
      "   micro avg       0.91      0.93      0.92       694\n",
      "   macro avg       0.92      0.93      0.92       694\n",
      "weighted avg       0.92      0.93      0.92       694\n",
      " samples avg       0.66      0.67      0.66       694\n",
      "\n"
     ]
    },
    {
     "name": "stderr",
     "output_type": "stream",
     "text": [
      "d:\\School\\4thYear\\2ndSemester\\NLP\\Comment-Sentiment-Analysis\\.venv\\lib\\site-packages\\sklearn\\metrics\\_classification.py:1565: UndefinedMetricWarning: Precision is ill-defined and being set to 0.0 in samples with no predicted labels. Use `zero_division` parameter to control this behavior.\n",
      "  _warn_prf(average, modifier, f\"{metric.capitalize()} is\", len(result))\n",
      "d:\\School\\4thYear\\2ndSemester\\NLP\\Comment-Sentiment-Analysis\\.venv\\lib\\site-packages\\sklearn\\metrics\\_classification.py:1565: UndefinedMetricWarning: Recall is ill-defined and being set to 0.0 in samples with no true labels. Use `zero_division` parameter to control this behavior.\n",
      "  _warn_prf(average, modifier, f\"{metric.capitalize()} is\", len(result))\n",
      "d:\\School\\4thYear\\2ndSemester\\NLP\\Comment-Sentiment-Analysis\\.venv\\lib\\site-packages\\sklearn\\metrics\\_classification.py:1565: UndefinedMetricWarning: F-score is ill-defined and being set to 0.0 in samples with no true nor predicted labels. Use `zero_division` parameter to control this behavior.\n",
      "  _warn_prf(average, modifier, f\"{metric.capitalize()} is\", len(result))\n"
     ]
    }
   ],
   "source": [
    "# Đánh giá mô hình\n",
    "print(classification_report(y_test, y_pred))"
   ]
  },
  {
   "cell_type": "code",
   "execution_count": 22,
   "id": "55c401bc",
   "metadata": {},
   "outputs": [
    {
     "data": {
      "image/png": "[encoded data removed]",
      "text/plain": [
       "<Figure size 1500x500 with 4 Axes>"
      ]
     },
     "metadata": {},
     "output_type": "display_data"
    }
   ],
   "source": [
    "draw_confusion_matrix(pipeline_logistic, X_test, y_test)"
   ]
  },
  {
   "cell_type": "code",
   "execution_count": 23,
   "id": "c0415618",
   "metadata": {},
   "outputs": [
    {
     "name": "stdout",
     "output_type": "stream",
     "text": [
      "Comment: 'mua được tuần trả lại mất bao_nhiêu phần_trăm'\n",
      "Predicted labels (positive, negative): [0 0]\n",
      "Probabilities:\n",
      "  P(positive=1): 0.0869\n",
      "  P(negative=1): 0.2262\n"
     ]
    }
   ],
   "source": [
    "predict_new_comment(pipeline_logistic, [\"mua được tuần trả lại mất bao_nhiêu phần_trăm\"])"
   ]
  },
  {
   "cell_type": "code",
   "execution_count": 24,
   "id": "d2cc69e2",
   "metadata": {},
   "outputs": [
    {
     "name": "stdout",
     "output_type": "stream",
     "text": [
      "Comment: 'pin không dùng mà vẫn tụt'\n",
      "Predicted labels (positive, negative): [0 1]\n",
      "Probabilities:\n",
      "  P(positive=1): 0.2012\n",
      "  P(negative=1): 0.8290\n"
     ]
    }
   ],
   "source": [
    "predict_new_comment(pipeline_logistic, [\"pin không dùng mà vẫn tụt\"])"
   ]
  },
  {
   "cell_type": "code",
   "execution_count": 25,
   "id": "6b372145",
   "metadata": {},
   "outputs": [
    {
     "name": "stdout",
     "output_type": "stream",
     "text": [
      "Comment: 'thế_giới di_động cường_lực honor tám không'\n",
      "Predicted labels (positive, negative): [0 0]\n",
      "Probabilities:\n",
      "  P(positive=1): 0.2963\n",
      "  P(negative=1): 0.1972\n"
     ]
    }
   ],
   "source": [
    "predict_new_comment(pipeline_logistic, [\"thế_giới di_động cường_lực honor tám không\"])"
   ]
  },
  {
   "cell_type": "code",
   "execution_count": 26,
   "id": "9a76be5c",
   "metadata": {},
   "outputs": [
    {
     "data": {
      "text/plain": [
       "['./models/logistic.pkl']"
      ]
     },
     "execution_count": 26,
     "metadata": {},
     "output_type": "execute_result"
    }
   ],
   "source": [
    "joblib.dump(pipeline_logistic, './models/logistic.pkl')"
   ]
  },
  {
   "cell_type": "markdown",
   "id": "616c6fdf",
   "metadata": {},
   "source": [
    "### Thử nghiệm với mô hình SVC"
   ]
  },
  {
   "cell_type": "code",
   "execution_count": 27,
   "id": "0c14f561",
   "metadata": {},
   "outputs": [],
   "source": [
    "from sklearn.svm import SVC"
   ]
  },
  {
   "cell_type": "code",
   "execution_count": 28,
   "id": "985086ec",
   "metadata": {},
   "outputs": [],
   "source": [
    "svc_classifier = MultiOutputClassifier(SVC(kernel='linear', C=1, probability=True,))"
   ]
  },
  {
   "cell_type": "code",
   "execution_count": 29,
   "id": "16507755",
   "metadata": {},
   "outputs": [],
   "source": [
    "pipeline_svc = Pipeline([\n",
    "    ('tfidf', tfidf),\n",
    "    ('svc_classifier', svc_classifier)\n",
    "])"
   ]
  },
  {
   "cell_type": "code",
   "execution_count": 30,
   "id": "c6d7cc6e",
   "metadata": {},
   "outputs": [
    {
     "data": {
      "text/html": [
       "<style>#sk-container-id-2 {\n",
       "  /* Definition of color scheme common for light and dark mode */\n",
       "  --sklearn-color-text: #000;\n",
       "  --sklearn-color-text-muted: #666;\n",
       "  --sklearn-color-line: gray;\n",
       "  /* Definition of color scheme for unfitted estimators */\n",
       "  --sklearn-color-unfitted-level-0: #fff5e6;\n",
       "  --sklearn-color-unfitted-level-1: #f6e4d2;\n",
       "  --sklearn-color-unfitted-level-2: #ffe0b3;\n",
       "  --sklearn-color-unfitted-level-3: chocolate;\n",
       "  /* Definition of color scheme for fitted estimators */\n",
       "  --sklearn-color-fitted-level-0: #f0f8ff;\n",
       "  --sklearn-color-fitted-level-1: #d4ebff;\n",
       "  --sklearn-color-fitted-level-2: #b3dbfd;\n",
       "  --sklearn-color-fitted-level-3: cornflowerblue;\n",
       "\n",
       "  /* Specific color for light theme */\n",
       "  --sklearn-color-text-on-default-background: var(--sg-text-color, var(--theme-code-foreground, var(--jp-content-font-color1, black)));\n",
       "  --sklearn-color-background: var(--sg-background-color, var(--theme-background, var(--jp-layout-color0, white)));\n",
       "  --sklearn-color-border-box: var(--sg-text-color, var(--theme-code-foreground, var(--jp-content-font-color1, black)));\n",
       "  --sklearn-color-icon: #696969;\n",
       "\n",
       "  @media (prefers-color-scheme: dark) {\n",
       "    /* Redefinition of color scheme for dark theme */\n",
       "    --sklearn-color-text-on-default-background: var(--sg-text-color, var(--theme-code-foreground, var(--jp-content-font-color1, white)));\n",
       "    --sklearn-color-background: var(--sg-background-color, var(--theme-background, var(--jp-layout-color0, #111)));\n",
       "    --sklearn-color-border-box: var(--sg-text-color, var(--theme-code-foreground, var(--jp-content-font-color1, white)));\n",
       "    --sklearn-color-icon: #878787;\n",
       "  }\n",
       "}\n",
       "\n",
       "#sk-container-id-2 {\n",
       "  color: var(--sklearn-color-text);\n",
       "}\n",
       "\n",
       "#sk-container-id-2 pre {\n",
       "  padding: 0;\n",
       "}\n",
       "\n",
       "#sk-container-id-2 input.sk-hidden--visually {\n",
       "  border: 0;\n",
       "  clip: rect(1px 1px 1px 1px);\n",
       "  clip: rect(1px, 1px, 1px, 1px);\n",
       "  height: 1px;\n",
       "  margin: -1px;\n",
       "  overflow: hidden;\n",
       "  padding: 0;\n",
       "  position: absolute;\n",
       "  width: 1px;\n",
       "}\n",
       "\n",
       "#sk-container-id-2 div.sk-dashed-wrapped {\n",
       "  border: 1px dashed var(--sklearn-color-line);\n",
       "  margin: 0 0.4em 0.5em 0.4em;\n",
       "  box-sizing: border-box;\n",
       "  padding-bottom: 0.4em;\n",
       "  background-color: var(--sklearn-color-background);\n",
       "}\n",
       "\n",
       "#sk-container-id-2 div.sk-container {\n",
       "  /* jupyter's `normalize.less` sets `[hidden] { display: none; }`\n",
       "     but bootstrap.min.css set `[hidden] { display: none !important; }`\n",
       "     so we also need the `!important` here to be able to override the\n",
       "     default hidden behavior on the sphinx rendered scikit-learn.org.\n",
       "     See: https://github.com/scikit-learn/scikit-learn/issues/21755 */\n",
       "  display: inline-block !important;\n",
       "  position: relative;\n",
       "}\n",
       "\n",
       "#sk-container-id-2 div.sk-text-repr-fallback {\n",
       "  display: none;\n",
       "}\n",
       "\n",
       "div.sk-parallel-item,\n",
       "div.sk-serial,\n",
       "div.sk-item {\n",
       "  /* draw centered vertical line to link estimators */\n",
       "  background-image: linear-gradient(var(--sklearn-color-text-on-default-background), var(--sklearn-color-text-on-default-background));\n",
       "  background-size: 2px 100%;\n",
       "  background-repeat: no-repeat;\n",
       "  background-position: center center;\n",
       "}\n",
       "\n",
       "/* Parallel-specific style estimator block */\n",
       "\n",
       "#sk-container-id-2 div.sk-parallel-item::after {\n",
       "  content: \"\";\n",
       "  width: 100%;\n",
       "  border-bottom: 2px solid var(--sklearn-color-text-on-default-background);\n",
       "  flex-grow: 1;\n",
       "}\n",
       "\n",
       "#sk-container-id-2 div.sk-parallel {\n",
       "  display: flex;\n",
       "  align-items: stretch;\n",
       "  justify-content: center;\n",
       "  background-color: var(--sklearn-color-background);\n",
       "  position: relative;\n",
       "}\n",
       "\n",
       "#sk-container-id-2 div.sk-parallel-item {\n",
       "  display: flex;\n",
       "  flex-direction: column;\n",
       "}\n",
       "\n",
       "#sk-container-id-2 div.sk-parallel-item:first-child::after {\n",
       "  align-self: flex-end;\n",
       "  width: 50%;\n",
       "}\n",
       "\n",
       "#sk-container-id-2 div.sk-parallel-item:last-child::after {\n",
       "  align-self: flex-start;\n",
       "  width: 50%;\n",
       "}\n",
       "\n",
       "#sk-container-id-2 div.sk-parallel-item:only-child::after {\n",
       "  width: 0;\n",
       "}\n",
       "\n",
       "/* Serial-specific style estimator block */\n",
       "\n",
       "#sk-container-id-2 div.sk-serial {\n",
       "  display: flex;\n",
       "  flex-direction: column;\n",
       "  align-items: center;\n",
       "  background-color: var(--sklearn-color-background);\n",
       "  padding-right: 1em;\n",
       "  padding-left: 1em;\n",
       "}\n",
       "\n",
       "\n",
       "/* Toggleable style: style used for estimator/Pipeline/ColumnTransformer box that is\n",
       "clickable and can be expanded/collapsed.\n",
       "- Pipeline and ColumnTransformer use this feature and define the default style\n",
       "- Estimators will overwrite some part of the style using the `sk-estimator` class\n",
       "*/\n",
       "\n",
       "/* Pipeline and ColumnTransformer style (default) */\n",
       "\n",
       "#sk-container-id-2 div.sk-toggleable {\n",
       "  /* Default theme specific background. It is overwritten whether we have a\n",
       "  specific estimator or a Pipeline/ColumnTransformer */\n",
       "  background-color: var(--sklearn-color-background);\n",
       "}\n",
       "\n",
       "/* Toggleable label */\n",
       "#sk-container-id-2 label.sk-toggleable__label {\n",
       "  cursor: pointer;\n",
       "  display: flex;\n",
       "  width: 100%;\n",
       "  margin-bottom: 0;\n",
       "  padding: 0.5em;\n",
       "  box-sizing: border-box;\n",
       "  text-align: center;\n",
       "  align-items: start;\n",
       "  justify-content: space-between;\n",
       "  gap: 0.5em;\n",
       "}\n",
       "\n",
       "#sk-container-id-2 label.sk-toggleable__label .caption {\n",
       "  font-size: 0.6rem;\n",
       "  font-weight: lighter;\n",
       "  color: var(--sklearn-color-text-muted);\n",
       "}\n",
       "\n",
       "#sk-container-id-2 label.sk-toggleable__label-arrow:before {\n",
       "  /* Arrow on the left of the label */\n",
       "  content: \"▸\";\n",
       "  float: left;\n",
       "  margin-right: 0.25em;\n",
       "  color: var(--sklearn-color-icon);\n",
       "}\n",
       "\n",
       "#sk-container-id-2 label.sk-toggleable__label-arrow:hover:before {\n",
       "  color: var(--sklearn-color-text);\n",
       "}\n",
       "\n",
       "/* Toggleable content - dropdown */\n",
       "\n",
       "#sk-container-id-2 div.sk-toggleable__content {\n",
       "  max-height: 0;\n",
       "  max-width: 0;\n",
       "  overflow: hidden;\n",
       "  text-align: left;\n",
       "  /* unfitted */\n",
       "  background-color: var(--sklearn-color-unfitted-level-0);\n",
       "}\n",
       "\n",
       "#sk-container-id-2 div.sk-toggleable__content.fitted {\n",
       "  /* fitted */\n",
       "  background-color: var(--sklearn-color-fitted-level-0);\n",
       "}\n",
       "\n",
       "#sk-container-id-2 div.sk-toggleable__content pre {\n",
       "  margin: 0.2em;\n",
       "  border-radius: 0.25em;\n",
       "  color: var(--sklearn-color-text);\n",
       "  /* unfitted */\n",
       "  background-color: var(--sklearn-color-unfitted-level-0);\n",
       "}\n",
       "\n",
       "#sk-container-id-2 div.sk-toggleable__content.fitted pre {\n",
       "  /* unfitted */\n",
       "  background-color: var(--sklearn-color-fitted-level-0);\n",
       "}\n",
       "\n",
       "#sk-container-id-2 input.sk-toggleable__control:checked~div.sk-toggleable__content {\n",
       "  /* Expand drop-down */\n",
       "  max-height: 200px;\n",
       "  max-width: 100%;\n",
       "  overflow: auto;\n",
       "}\n",
       "\n",
       "#sk-container-id-2 input.sk-toggleable__control:checked~label.sk-toggleable__label-arrow:before {\n",
       "  content: \"▾\";\n",
       "}\n",
       "\n",
       "/* Pipeline/ColumnTransformer-specific style */\n",
       "\n",
       "#sk-container-id-2 div.sk-label input.sk-toggleable__control:checked~label.sk-toggleable__label {\n",
       "  color: var(--sklearn-color-text);\n",
       "  background-color: var(--sklearn-color-unfitted-level-2);\n",
       "}\n",
       "\n",
       "#sk-container-id-2 div.sk-label.fitted input.sk-toggleable__control:checked~label.sk-toggleable__label {\n",
       "  background-color: var(--sklearn-color-fitted-level-2);\n",
       "}\n",
       "\n",
       "/* Estimator-specific style */\n",
       "\n",
       "/* Colorize estimator box */\n",
       "#sk-container-id-2 div.sk-estimator input.sk-toggleable__control:checked~label.sk-toggleable__label {\n",
       "  /* unfitted */\n",
       "  background-color: var(--sklearn-color-unfitted-level-2);\n",
       "}\n",
       "\n",
       "#sk-container-id-2 div.sk-estimator.fitted input.sk-toggleable__control:checked~label.sk-toggleable__label {\n",
       "  /* fitted */\n",
       "  background-color: var(--sklearn-color-fitted-level-2);\n",
       "}\n",
       "\n",
       "#sk-container-id-2 div.sk-label label.sk-toggleable__label,\n",
       "#sk-container-id-2 div.sk-label label {\n",
       "  /* The background is the default theme color */\n",
       "  color: var(--sklearn-color-text-on-default-background);\n",
       "}\n",
       "\n",
       "/* On hover, darken the color of the background */\n",
       "#sk-container-id-2 div.sk-label:hover label.sk-toggleable__label {\n",
       "  color: var(--sklearn-color-text);\n",
       "  background-color: var(--sklearn-color-unfitted-level-2);\n",
       "}\n",
       "\n",
       "/* Label box, darken color on hover, fitted */\n",
       "#sk-container-id-2 div.sk-label.fitted:hover label.sk-toggleable__label.fitted {\n",
       "  color: var(--sklearn-color-text);\n",
       "  background-color: var(--sklearn-color-fitted-level-2);\n",
       "}\n",
       "\n",
       "/* Estimator label */\n",
       "\n",
       "#sk-container-id-2 div.sk-label label {\n",
       "  font-family: monospace;\n",
       "  font-weight: bold;\n",
       "  display: inline-block;\n",
       "  line-height: 1.2em;\n",
       "}\n",
       "\n",
       "#sk-container-id-2 div.sk-label-container {\n",
       "  text-align: center;\n",
       "}\n",
       "\n",
       "/* Estimator-specific */\n",
       "#sk-container-id-2 div.sk-estimator {\n",
       "  font-family: monospace;\n",
       "  border: 1px dotted var(--sklearn-color-border-box);\n",
       "  border-radius: 0.25em;\n",
       "  box-sizing: border-box;\n",
       "  margin-bottom: 0.5em;\n",
       "  /* unfitted */\n",
       "  background-color: var(--sklearn-color-unfitted-level-0);\n",
       "}\n",
       "\n",
       "#sk-container-id-2 div.sk-estimator.fitted {\n",
       "  /* fitted */\n",
       "  background-color: var(--sklearn-color-fitted-level-0);\n",
       "}\n",
       "\n",
       "/* on hover */\n",
       "#sk-container-id-2 div.sk-estimator:hover {\n",
       "  /* unfitted */\n",
       "  background-color: var(--sklearn-color-unfitted-level-2);\n",
       "}\n",
       "\n",
       "#sk-container-id-2 div.sk-estimator.fitted:hover {\n",
       "  /* fitted */\n",
       "  background-color: var(--sklearn-color-fitted-level-2);\n",
       "}\n",
       "\n",
       "/* Specification for estimator info (e.g. \"i\" and \"?\") */\n",
       "\n",
       "/* Common style for \"i\" and \"?\" */\n",
       "\n",
       ".sk-estimator-doc-link,\n",
       "a:link.sk-estimator-doc-link,\n",
       "a:visited.sk-estimator-doc-link {\n",
       "  float: right;\n",
       "  font-size: smaller;\n",
       "  line-height: 1em;\n",
       "  font-family: monospace;\n",
       "  background-color: var(--sklearn-color-background);\n",
       "  border-radius: 1em;\n",
       "  height: 1em;\n",
       "  width: 1em;\n",
       "  text-decoration: none !important;\n",
       "  margin-left: 0.5em;\n",
       "  text-align: center;\n",
       "  /* unfitted */\n",
       "  border: var(--sklearn-color-unfitted-level-1) 1pt solid;\n",
       "  color: var(--sklearn-color-unfitted-level-1);\n",
       "}\n",
       "\n",
       ".sk-estimator-doc-link.fitted,\n",
       "a:link.sk-estimator-doc-link.fitted,\n",
       "a:visited.sk-estimator-doc-link.fitted {\n",
       "  /* fitted */\n",
       "  border: var(--sklearn-color-fitted-level-1) 1pt solid;\n",
       "  color: var(--sklearn-color-fitted-level-1);\n",
       "}\n",
       "\n",
       "/* On hover */\n",
       "div.sk-estimator:hover .sk-estimator-doc-link:hover,\n",
       ".sk-estimator-doc-link:hover,\n",
       "div.sk-label-container:hover .sk-estimator-doc-link:hover,\n",
       ".sk-estimator-doc-link:hover {\n",
       "  /* unfitted */\n",
       "  background-color: var(--sklearn-color-unfitted-level-3);\n",
       "  color: var(--sklearn-color-background);\n",
       "  text-decoration: none;\n",
       "}\n",
       "\n",
       "div.sk-estimator.fitted:hover .sk-estimator-doc-link.fitted:hover,\n",
       ".sk-estimator-doc-link.fitted:hover,\n",
       "div.sk-label-container:hover .sk-estimator-doc-link.fitted:hover,\n",
       ".sk-estimator-doc-link.fitted:hover {\n",
       "  /* fitted */\n",
       "  background-color: var(--sklearn-color-fitted-level-3);\n",
       "  color: var(--sklearn-color-background);\n",
       "  text-decoration: none;\n",
       "}\n",
       "\n",
       "/* Span, style for the box shown on hovering the info icon */\n",
       ".sk-estimator-doc-link span {\n",
       "  display: none;\n",
       "  z-index: 9999;\n",
       "  position: relative;\n",
       "  font-weight: normal;\n",
       "  right: .2ex;\n",
       "  padding: .5ex;\n",
       "  margin: .5ex;\n",
       "  width: min-content;\n",
       "  min-width: 20ex;\n",
       "  max-width: 50ex;\n",
       "  color: var(--sklearn-color-text);\n",
       "  box-shadow: 2pt 2pt 4pt #999;\n",
       "  /* unfitted */\n",
       "  background: var(--sklearn-color-unfitted-level-0);\n",
       "  border: .5pt solid var(--sklearn-color-unfitted-level-3);\n",
       "}\n",
       "\n",
       ".sk-estimator-doc-link.fitted span {\n",
       "  /* fitted */\n",
       "  background: var(--sklearn-color-fitted-level-0);\n",
       "  border: var(--sklearn-color-fitted-level-3);\n",
       "}\n",
       "\n",
       ".sk-estimator-doc-link:hover span {\n",
       "  display: block;\n",
       "}\n",
       "\n",
       "/* \"?\"-specific style due to the `<a>` HTML tag */\n",
       "\n",
       "#sk-container-id-2 a.estimator_doc_link {\n",
       "  float: right;\n",
       "  font-size: 1rem;\n",
       "  line-height: 1em;\n",
       "  font-family: monospace;\n",
       "  background-color: var(--sklearn-color-background);\n",
       "  border-radius: 1rem;\n",
       "  height: 1rem;\n",
       "  width: 1rem;\n",
       "  text-decoration: none;\n",
       "  /* unfitted */\n",
       "  color: var(--sklearn-color-unfitted-level-1);\n",
       "  border: var(--sklearn-color-unfitted-level-1) 1pt solid;\n",
       "}\n",
       "\n",
       "#sk-container-id-2 a.estimator_doc_link.fitted {\n",
       "  /* fitted */\n",
       "  border: var(--sklearn-color-fitted-level-1) 1pt solid;\n",
       "  color: var(--sklearn-color-fitted-level-1);\n",
       "}\n",
       "\n",
       "/* On hover */\n",
       "#sk-container-id-2 a.estimator_doc_link:hover {\n",
       "  /* unfitted */\n",
       "  background-color: var(--sklearn-color-unfitted-level-3);\n",
       "  color: var(--sklearn-color-background);\n",
       "  text-decoration: none;\n",
       "}\n",
       "\n",
       "#sk-container-id-2 a.estimator_doc_link.fitted:hover {\n",
       "  /* fitted */\n",
       "  background-color: var(--sklearn-color-fitted-level-3);\n",
       "}\n",
       "</style><div id=\"sk-container-id-2\" class=\"sk-top-container\"><div class=\"sk-text-repr-fallback\"><pre>Pipeline(steps=[(&#x27;tfidf&#x27;,\n",
       "                 TfidfVectorizer(max_df=0.95, min_df=2, ngram_range=(1, 2))),\n",
       "                (&#x27;svc_classifier&#x27;,\n",
       "                 MultiOutputClassifier(estimator=SVC(C=1, kernel=&#x27;linear&#x27;,\n",
       "                                                     probability=True)))])</pre><b>In a Jupyter environment, please rerun this cell to show the HTML representation or trust the notebook. <br />On GitHub, the HTML representation is unable to render, please try loading this page with nbviewer.org.</b></div><div class=\"sk-container\" hidden><div class=\"sk-item sk-dashed-wrapped\"><div class=\"sk-label-container\"><div class=\"sk-label fitted sk-toggleable\"><input class=\"sk-toggleable__control sk-hidden--visually\" id=\"sk-estimator-id-6\" type=\"checkbox\" ><label for=\"sk-estimator-id-6\" class=\"sk-toggleable__label fitted sk-toggleable__label-arrow\"><div><div>Pipeline</div></div><div><a class=\"sk-estimator-doc-link fitted\" rel=\"noreferrer\" target=\"_blank\" href=\"https://scikit-learn.org/1.6/modules/generated/sklearn.pipeline.Pipeline.html\">?<span>Documentation for Pipeline</span></a><span class=\"sk-estimator-doc-link fitted\">i<span>Fitted</span></span></div></label><div class=\"sk-toggleable__content fitted\"><pre>Pipeline(steps=[(&#x27;tfidf&#x27;,\n",
       "                 TfidfVectorizer(max_df=0.95, min_df=2, ngram_range=(1, 2))),\n",
       "                (&#x27;svc_classifier&#x27;,\n",
       "                 MultiOutputClassifier(estimator=SVC(C=1, kernel=&#x27;linear&#x27;,\n",
       "                                                     probability=True)))])</pre></div> </div></div><div class=\"sk-serial\"><div class=\"sk-item\"><div class=\"sk-estimator fitted sk-toggleable\"><input class=\"sk-toggleable__control sk-hidden--visually\" id=\"sk-estimator-id-7\" type=\"checkbox\" ><label for=\"sk-estimator-id-7\" class=\"sk-toggleable__label fitted sk-toggleable__label-arrow\"><div><div>TfidfVectorizer</div></div><div><a class=\"sk-estimator-doc-link fitted\" rel=\"noreferrer\" target=\"_blank\" href=\"https://scikit-learn.org/1.6/modules/generated/sklearn.feature_extraction.text.TfidfVectorizer.html\">?<span>Documentation for TfidfVectorizer</span></a></div></label><div class=\"sk-toggleable__content fitted\"><pre>TfidfVectorizer(max_df=0.95, min_df=2, ngram_range=(1, 2))</pre></div> </div></div><div class=\"sk-item sk-dashed-wrapped\"><div class=\"sk-label-container\"><div class=\"sk-label fitted sk-toggleable\"><input class=\"sk-toggleable__control sk-hidden--visually\" id=\"sk-estimator-id-8\" type=\"checkbox\" ><label for=\"sk-estimator-id-8\" class=\"sk-toggleable__label fitted sk-toggleable__label-arrow\"><div><div>svc_classifier: MultiOutputClassifier</div></div><div><a class=\"sk-estimator-doc-link fitted\" rel=\"noreferrer\" target=\"_blank\" href=\"https://scikit-learn.org/1.6/modules/generated/sklearn.multioutput.MultiOutputClassifier.html\">?<span>Documentation for svc_classifier: MultiOutputClassifier</span></a></div></label><div class=\"sk-toggleable__content fitted\"><pre>MultiOutputClassifier(estimator=SVC(C=1, kernel=&#x27;linear&#x27;, probability=True))</pre></div> </div></div><div class=\"sk-parallel\"><div class=\"sk-parallel-item\"><div class=\"sk-item\"><div class=\"sk-label-container\"><div class=\"sk-label fitted sk-toggleable\"><input class=\"sk-toggleable__control sk-hidden--visually\" id=\"sk-estimator-id-9\" type=\"checkbox\" ><label for=\"sk-estimator-id-9\" class=\"sk-toggleable__label fitted sk-toggleable__label-arrow\"><div><div>estimator: SVC</div></div></label><div class=\"sk-toggleable__content fitted\"><pre>SVC(C=1, kernel=&#x27;linear&#x27;, probability=True)</pre></div> </div></div><div class=\"sk-serial\"><div class=\"sk-item\"><div class=\"sk-estimator fitted sk-toggleable\"><input class=\"sk-toggleable__control sk-hidden--visually\" id=\"sk-estimator-id-10\" type=\"checkbox\" ><label for=\"sk-estimator-id-10\" class=\"sk-toggleable__label fitted sk-toggleable__label-arrow\"><div><div>SVC</div></div><div><a class=\"sk-estimator-doc-link fitted\" rel=\"noreferrer\" target=\"_blank\" href=\"https://scikit-learn.org/1.6/modules/generated/sklearn.svm.SVC.html\">?<span>Documentation for SVC</span></a></div></label><div class=\"sk-toggleable__content fitted\"><pre>SVC(C=1, kernel=&#x27;linear&#x27;, probability=True)</pre></div> </div></div></div></div></div></div></div></div></div></div></div>"
      ],
      "text/plain": [
       "Pipeline(steps=[('tfidf',\n",
       "                 TfidfVectorizer(max_df=0.95, min_df=2, ngram_range=(1, 2))),\n",
       "                ('svc_classifier',\n",
       "                 MultiOutputClassifier(estimator=SVC(C=1, kernel='linear',\n",
       "                                                     probability=True)))])"
      ]
     },
     "execution_count": 30,
     "metadata": {},
     "output_type": "execute_result"
    }
   ],
   "source": [
    "pipeline_svc.fit(X_train, y_train)"
   ]
  },
  {
   "cell_type": "code",
   "execution_count": 31,
   "id": "69f88812",
   "metadata": {},
   "outputs": [
    {
     "name": "stdout",
     "output_type": "stream",
     "text": [
      "              precision    recall  f1-score   support\n",
      "\n",
      "           0       0.96      0.94      0.95       334\n",
      "           1       0.89      0.94      0.92       360\n",
      "\n",
      "   micro avg       0.93      0.94      0.93       694\n",
      "   macro avg       0.93      0.94      0.94       694\n",
      "weighted avg       0.93      0.94      0.93       694\n",
      " samples avg       0.67      0.69      0.68       694\n",
      "\n"
     ]
    },
    {
     "name": "stderr",
     "output_type": "stream",
     "text": [
      "d:\\School\\4thYear\\2ndSemester\\NLP\\Comment-Sentiment-Analysis\\.venv\\lib\\site-packages\\sklearn\\metrics\\_classification.py:1565: UndefinedMetricWarning: Precision is ill-defined and being set to 0.0 in samples with no predicted labels. Use `zero_division` parameter to control this behavior.\n",
      "  _warn_prf(average, modifier, f\"{metric.capitalize()} is\", len(result))\n",
      "d:\\School\\4thYear\\2ndSemester\\NLP\\Comment-Sentiment-Analysis\\.venv\\lib\\site-packages\\sklearn\\metrics\\_classification.py:1565: UndefinedMetricWarning: Recall is ill-defined and being set to 0.0 in samples with no true labels. Use `zero_division` parameter to control this behavior.\n",
      "  _warn_prf(average, modifier, f\"{metric.capitalize()} is\", len(result))\n",
      "d:\\School\\4thYear\\2ndSemester\\NLP\\Comment-Sentiment-Analysis\\.venv\\lib\\site-packages\\sklearn\\metrics\\_classification.py:1565: UndefinedMetricWarning: F-score is ill-defined and being set to 0.0 in samples with no true nor predicted labels. Use `zero_division` parameter to control this behavior.\n",
      "  _warn_prf(average, modifier, f\"{metric.capitalize()} is\", len(result))\n"
     ]
    }
   ],
   "source": [
    "y_pred = pipeline_svc.predict(X_test)\n",
    "print(classification_report(y_test, y_pred))"
   ]
  },
  {
   "cell_type": "code",
   "execution_count": 32,
   "id": "8aa49435",
   "metadata": {},
   "outputs": [
    {
     "data": {
      "image/png": "[encoded data removed]",
      "text/plain": [
       "<Figure size 1500x500 with 4 Axes>"
      ]
     },
     "metadata": {},
     "output_type": "display_data"
    }
   ],
   "source": [
    "draw_confusion_matrix(pipeline_svc, X_test, y_test)"
   ]
  },
  {
   "cell_type": "code",
   "execution_count": 33,
   "id": "2997c1a4",
   "metadata": {},
   "outputs": [
    {
     "data": {
      "text/plain": [
       "['./models/SVC.pkl']"
      ]
     },
     "execution_count": 33,
     "metadata": {},
     "output_type": "execute_result"
    }
   ],
   "source": [
    "joblib.dump(pipeline_svc, './models/SVC.pkl')"
   ]
  },
  {
   "cell_type": "code",
   "execution_count": 70,
   "id": "ba4b9d14",
   "metadata": {},
   "outputs": [
    {
     "name": "stdout",
     "output_type": "stream",
     "text": [
      "Comment: 'giá đắt'\n",
      "Predicted labels (positive, negative): [0 1]\n",
      "Probabilities:\n",
      "  P(positive=1): 0.2224\n",
      "  P(negative=1): 0.6981\n"
     ]
    }
   ],
   "source": [
    "predict_new_comment(pipeline_svc, [\"giá đắt\"])"
   ]
  },
  {
   "cell_type": "code",
   "execution_count": 66,
   "id": "b01b17e0",
   "metadata": {},
   "outputs": [
    {
     "name": "stdout",
     "output_type": "stream",
     "text": [
      "Comment: 'nhân_viên khó chịu khi tư vấn cho khách'\n",
      "Predicted labels (positive, negative): [0 1]\n",
      "Probabilities:\n",
      "  P(positive=1): 0.0373\n",
      "  P(negative=1): 0.9725\n"
     ]
    }
   ],
   "source": [
    "predict_new_comment(pipeline_svc, [\"nhân_viên khó chịu khi tư vấn cho khách\"])"
   ]
  },
  {
   "cell_type": "code",
   "execution_count": 36,
   "id": "6b6227fe",
   "metadata": {},
   "outputs": [
    {
     "name": "stdout",
     "output_type": "stream",
     "text": [
      "Comment: 'đẹp lắm máy đẹp thank shop'\n",
      "Predicted labels (positive, negative): [1 0]\n",
      "Probabilities:\n",
      "  P(positive=1): 1.0000\n",
      "  P(negative=1): 0.0233\n"
     ]
    }
   ],
   "source": [
    "predict_new_comment(pipeline_svc, [\"đẹp lắm máy đẹp thank shop\"])"
   ]
  },
  {
   "cell_type": "code",
   "execution_count": 37,
   "id": "2bc9da93",
   "metadata": {},
   "outputs": [
    {
     "name": "stdout",
     "output_type": "stream",
     "text": [
      "Comment: 'pin không dùng mà vẫn tụt'\n",
      "Predicted labels (positive, negative): [0 1]\n",
      "Probabilities:\n",
      "  P(positive=1): 0.0248\n",
      "  P(negative=1): 0.9665\n"
     ]
    }
   ],
   "source": [
    "predict_new_comment(pipeline_svc, [\"pin không dùng mà vẫn tụt\"])"
   ]
  },
  {
   "cell_type": "code",
   "execution_count": 38,
   "id": "09c928ee",
   "metadata": {},
   "outputs": [
    {
     "name": "stdout",
     "output_type": "stream",
     "text": [
      "Comment: 'tại_sao iphone mới mua dùng lại bị nóng máy'\n",
      "Predicted labels (positive, negative): [0 1]\n",
      "Probabilities:\n",
      "  P(positive=1): 0.0117\n",
      "  P(negative=1): 0.9950\n"
     ]
    }
   ],
   "source": [
    "predict_new_comment(pipeline_svc, [\"tại_sao iphone mới mua dùng lại bị nóng máy\"])"
   ]
  },
  {
   "cell_type": "code",
   "execution_count": 40,
   "id": "26f00397",
   "metadata": {},
   "outputs": [
    {
     "name": "stdout",
     "output_type": "stream",
     "text": [
      "Comment: 'thế_giới di_động cường_lực honor tám không'\n",
      "Predicted labels (positive, negative): [0 0]\n",
      "Probabilities:\n",
      "  P(positive=1): 0.0316\n",
      "  P(negative=1): 0.0176\n"
     ]
    }
   ],
   "source": [
    "predict_new_comment(pipeline_svc, [\"thế_giới di_động cường_lực honor tám không\"])"
   ]
  },
  {
   "cell_type": "code",
   "execution_count": 41,
   "id": "a05d5f14",
   "metadata": {},
   "outputs": [
    {
     "name": "stdout",
     "output_type": "stream",
     "text": [
      "Comment: 'mua được tuần trả lại mất bao_nhiêu phần_trăm'\n",
      "Predicted labels (positive, negative): [0 0]\n",
      "Probabilities:\n",
      "  P(positive=1): 0.0065\n",
      "  P(negative=1): 0.0109\n"
     ]
    }
   ],
   "source": [
    "predict_new_comment(pipeline_svc, [\"mua được tuần trả lại mất bao_nhiêu phần_trăm\"])"
   ]
  },
  {
   "cell_type": "code",
   "execution_count": 42,
   "id": "19c3fd67",
   "metadata": {},
   "outputs": [
    {
     "name": "stdout",
     "output_type": "stream",
     "text": [
      "Comment: 'tốt nhưng_mà đêm tuột'\n",
      "Predicted labels (positive, negative): [1 1]\n",
      "Probabilities:\n",
      "  P(positive=1): 0.9862\n",
      "  P(negative=1): 0.8700\n"
     ]
    }
   ],
   "source": [
    "predict_new_comment(pipeline_svc, [\"tốt nhưng_mà đêm tuột\"])"
   ]
  },
  {
   "cell_type": "code",
   "execution_count": 43,
   "id": "84c28df1",
   "metadata": {},
   "outputs": [
    {
     "name": "stdout",
     "output_type": "stream",
     "text": [
      "Comment: 'hỏi cài vấn_đề máy được không'\n",
      "Predicted labels (positive, negative): [0 0]\n",
      "Probabilities:\n",
      "  P(positive=1): 0.0229\n",
      "  P(negative=1): 0.0180\n"
     ]
    }
   ],
   "source": [
    "predict_new_comment(pipeline_svc, [\"hỏi cài vấn_đề máy được không\"])"
   ]
  },
  {
   "cell_type": "code",
   "execution_count": 44,
   "id": "c66cbf8a",
   "metadata": {},
   "outputs": [
    {
     "name": "stdout",
     "output_type": "stream",
     "text": [
      "Comment: 'điện_thoại xài siêu tốt'\n",
      "Predicted labels (positive, negative): [1 0]\n",
      "Probabilities:\n",
      "  P(positive=1): 0.9929\n",
      "  P(negative=1): 0.0223\n"
     ]
    }
   ],
   "source": [
    "predict_new_comment(pipeline_svc, [\"điện_thoại xài siêu tốt\"])"
   ]
  },
  {
   "cell_type": "code",
   "execution_count": 45,
   "id": "f962f614",
   "metadata": {},
   "outputs": [
    {
     "name": "stdout",
     "output_type": "stream",
     "text": [
      "Comment: 'máy dùng rất ngon mượt rất đẹp không hài_lòng lắm nhân_viên bóc siu mà chưa đồng_ý cửa khách làm nghi_ngờ máy dùng máy thấy lớp bọc mới bóc không không nhận máy'\n",
      "Predicted labels (positive, negative): [1 1]\n",
      "Probabilities:\n",
      "  P(positive=1): 0.9862\n",
      "  P(negative=1): 0.7917\n"
     ]
    }
   ],
   "source": [
    "predict_new_comment(pipeline_svc, [\"máy dùng rất ngon mượt rất đẹp không hài_lòng lắm nhân_viên bóc siu mà chưa đồng_ý cửa khách làm nghi_ngờ máy dùng máy thấy lớp bọc mới bóc không không nhận máy\"])"
   ]
  },
  {
   "cell_type": "code",
   "execution_count": 68,
   "id": "a74cecdc",
   "metadata": {},
   "outputs": [
    {
     "name": "stdout",
     "output_type": "stream",
     "text": [
      "Comment: 'tạm ổn nhưng pin hôm mua xài hai hôm tụt xuống còn lại tất_cả ổn'\n",
      "Predicted labels (positive, negative): [1 1]\n",
      "Probabilities:\n",
      "  P(positive=1): 0.9862\n",
      "  P(negative=1): 0.9874\n"
     ]
    }
   ],
   "source": [
    "predict_new_comment(pipeline_svc, [\"tạm ổn nhưng pin hôm mua xài hai hôm tụt xuống còn lại tất_cả ổn\"])"
   ]
  },
  {
   "cell_type": "code",
   "execution_count": 47,
   "id": "42928cd8",
   "metadata": {},
   "outputs": [
    {
     "name": "stdout",
     "output_type": "stream",
     "text": [
      "Comment: 'hỏi dán màn_hình chưa'\n",
      "Predicted labels (positive, negative): [0 0]\n",
      "Probabilities:\n",
      "  P(positive=1): 0.0136\n",
      "  P(negative=1): 0.0543\n"
     ]
    }
   ],
   "source": [
    "predict_new_comment(pipeline_svc, [\"hỏi dán màn_hình chưa\"])"
   ]
  },
  {
   "cell_type": "code",
   "execution_count": 48,
   "id": "0de8639b",
   "metadata": {},
   "outputs": [
    {
     "name": "stdout",
     "output_type": "stream",
     "text": [
      "Comment: 'mới dùng tháng mong thế_giới di_động hướng_dẫn cách dùng hai sim iphone 12 dùng sim vật_lý muốn dùng thẻ sim tiện công_việc'\n",
      "Predicted labels (positive, negative): [0 0]\n",
      "Probabilities:\n",
      "  P(positive=1): 0.3038\n",
      "  P(negative=1): 0.3059\n"
     ]
    }
   ],
   "source": [
    "predict_new_comment(pipeline_logistic, [\"mới dùng tháng mong thế_giới di_động hướng_dẫn cách dùng hai sim iphone 12 dùng sim vật_lý muốn dùng thẻ sim tiện công_việc\"])"
   ]
  },
  {
   "cell_type": "code",
   "execution_count": 49,
   "id": "8f086fcf",
   "metadata": {},
   "outputs": [
    {
     "name": "stdout",
     "output_type": "stream",
     "text": [
      "Comment: 'góp dòng hỏi thanh_toán khoản góp tháng bằng thẻ visa cửa_hàng được không'\n",
      "Predicted labels (positive, negative): [0 0]\n",
      "Probabilities:\n",
      "  P(positive=1): 0.1057\n",
      "  P(negative=1): 0.2626\n"
     ]
    }
   ],
   "source": [
    "predict_new_comment(pipeline_logistic, [\"góp dòng hỏi thanh_toán khoản góp tháng bằng thẻ visa cửa_hàng được không\"])"
   ]
  },
  {
   "cell_type": "code",
   "execution_count": 50,
   "id": "6572db66",
   "metadata": {},
   "outputs": [
    {
     "name": "stdout",
     "output_type": "stream",
     "text": [
      "Comment: 'phát_hiện trong camera bụi được hỗ_trợ gì không'\n",
      "Predicted labels (positive, negative): [0 0]\n",
      "Probabilities:\n",
      "  P(positive=1): 0.1007\n",
      "  P(negative=1): 0.3968\n"
     ]
    }
   ],
   "source": [
    "predict_new_comment(pipeline_logistic, [\"phát_hiện trong camera bụi được hỗ_trợ gì không\"])"
   ]
  },
  {
   "cell_type": "code",
   "execution_count": 51,
   "id": "df1a71ca",
   "metadata": {},
   "outputs": [
    {
     "name": "stdout",
     "output_type": "stream",
     "text": [
      "Comment: 'sao pin tối sáng bị tụt tầm'\n",
      "Predicted labels (positive, negative): [0 1]\n",
      "Probabilities:\n",
      "  P(positive=1): 0.1972\n",
      "  P(negative=1): 0.7608\n"
     ]
    }
   ],
   "source": [
    "predict_new_comment(pipeline_logistic, [\"sao pin tối sáng bị tụt tầm\"])"
   ]
  },
  {
   "cell_type": "code",
   "execution_count": 52,
   "id": "2ad8126d",
   "metadata": {},
   "outputs": [
    {
     "name": "stdout",
     "output_type": "stream",
     "text": [
      "Comment: 'giao hàng đúng hạn đóng_gói cẩn_thận'\n",
      "Predicted labels (positive, negative): [0 0]\n",
      "Probabilities:\n",
      "  P(positive=1): 0.4202\n",
      "  P(negative=1): 0.2639\n"
     ]
    }
   ],
   "source": [
    "predict_new_comment(pipeline_logistic, [\"giao hàng đúng hạn đóng_gói cẩn_thận\"])"
   ]
  },
  {
   "cell_type": "code",
   "execution_count": 53,
   "id": "298ca9e8",
   "metadata": {},
   "outputs": [
    {
     "name": "stdout",
     "output_type": "stream",
     "text": [
      "Comment: 'camera chụp hình đẹp'\n",
      "Predicted labels (positive, negative): [1 0]\n",
      "Probabilities:\n",
      "  P(positive=1): 0.7319\n",
      "  P(negative=1): 0.4716\n"
     ]
    }
   ],
   "source": [
    "predict_new_comment(pipeline_logistic, [\"camera chụp hình đẹp\"])"
   ]
  },
  {
   "cell_type": "markdown",
   "id": "ffbe5446",
   "metadata": {},
   "source": [
    "### Demo"
   ]
  },
  {
   "cell_type": "code",
   "execution_count": 2,
   "id": "a5763551",
   "metadata": {},
   "outputs": [],
   "source": [
    "# Load best model\n",
    "best_pipeline = joblib.load('./models/SVC.pkl')"
   ]
  },
  {
   "cell_type": "code",
   "execution_count": 54,
   "id": "f979ce57",
   "metadata": {},
   "outputs": [],
   "source": [
    "import sys\n",
    "sys.path.insert(0, \"../../\")"
   ]
  },
  {
   "cell_type": "code",
   "execution_count": 55,
   "id": "39eb5465",
   "metadata": {},
   "outputs": [
    {
     "name": "stdout",
     "output_type": "stream",
     "text": [
      "Current file path: D:\\School\\4thYear\\2ndSemester\\NLP\\Comment-Sentiment-Analysis\n",
      "Thu mục gốc: D:\\School\\4thYear\\2ndSemester\\NLP\\Comment-Sentiment-Analysis\n",
      "Using model path: D:\\School\\4thYear\\2ndSemester\\NLP\\Comment-Sentiment-Analysis\\attribute_extractor\\vncorenlp\n"
     ]
    }
   ],
   "source": [
    "from src.shared.text_preprocessing import VietnamesePreprocessingWithoutSpellCheck"
   ]
  },
  {
   "cell_type": "code",
   "execution_count": 56,
   "id": "54c4a4a6",
   "metadata": {},
   "outputs": [],
   "source": [
    "without_spellcheck_preprocessor = VietnamesePreprocessingWithoutSpellCheck()"
   ]
  },
  {
   "cell_type": "code",
   "execution_count": 58,
   "id": "0ac47689",
   "metadata": {},
   "outputs": [
    {
     "name": "stdout",
     "output_type": "stream",
     "text": [
      "==================================\n",
      "Comment gốc: nhân viên khó chịu\n",
      "Comment: 'nhân_viên khó_chịu'\n",
      "Predicted labels (positive, negative): [0 1]\n",
      "Probabilities:\n",
      "  P(positive=1): 0.1135\n",
      "  P(negative=1): 0.9880\n",
      "==================================\n",
      "Comment gốc: giá cao nhưng máy dùng ổn\n",
      "Comment: 'giá cao nhưng máy dùng ổn'\n",
      "Predicted labels (positive, negative): [1 1]\n",
      "Probabilities:\n",
      "  P(positive=1): 1.0000\n",
      "  P(negative=1): 0.9869\n",
      "==================================\n",
      "Comment gốc: có đang khuyến mãi không vậy shop\n",
      "Comment: 'khuyến_mãi không shop'\n",
      "Predicted labels (positive, negative): [0 0]\n",
      "Probabilities:\n",
      "  P(positive=1): 0.0192\n",
      "  P(negative=1): 0.0387\n",
      "==================================\n",
      "Comment gốc: chán\n",
      "Comment: 'chán'\n",
      "Predicted labels (positive, negative): [0 1]\n",
      "Probabilities:\n",
      "  P(positive=1): 0.0069\n",
      "  P(negative=1): 0.9837\n",
      "==================================\n",
      "Comment gốc: làm ăn chán\n",
      "Comment: 'làm_ăn chán'\n",
      "Predicted labels (positive, negative): [0 1]\n",
      "Probabilities:\n",
      "  P(positive=1): 0.0028\n",
      "  P(negative=1): 0.9882\n",
      "==================================\n",
      "Comment gốc: giao hàng cẩn thận\n",
      "Comment: 'giao hàng cẩn_thận'\n",
      "Predicted labels (positive, negative): [1 0]\n",
      "Probabilities:\n",
      "  P(positive=1): 0.5829\n",
      "  P(negative=1): 0.0537\n",
      "==================================\n",
      "Comment gốc: giao hàng nhanh\n",
      "Comment: 'giao hàng nhanh'\n",
      "Predicted labels (positive, negative): [1 0]\n",
      "Probabilities:\n",
      "  P(positive=1): 0.6436\n",
      "  P(negative=1): 0.0653\n",
      "==================================\n",
      "Comment gốc: nhân viên nhiệt tình, tư vấn tốt\n",
      "Comment: 'nhân_viên nhiệt_tình tư_vấn tốt'\n",
      "Predicted labels (positive, negative): [1 0]\n",
      "Probabilities:\n",
      "  P(positive=1): 1.0000\n",
      "  P(negative=1): 0.0107\n",
      "==================================\n",
      "Comment gốc: nhân viên sao tôi thấy khó chịu làm sao ý\n",
      "Comment: 'nhân_viên sao thấy khó_chịu làm_sao'\n",
      "Predicted labels (positive, negative): [0 1]\n",
      "Probabilities:\n",
      "  P(positive=1): 0.0601\n",
      "  P(negative=1): 0.6491\n",
      "==================================\n",
      "Comment gốc: máy mới mua mà pin tụt nhanh quá\n",
      "Comment: 'máy mới mua mà pin tụt nhanh quá'\n",
      "Predicted labels (positive, negative): [0 1]\n",
      "Probabilities:\n",
      "  P(positive=1): 0.0020\n",
      "  P(negative=1): 1.0000\n",
      "==================================\n",
      "Comment gốc: không hiểu nữa\n",
      "Comment: 'không'\n",
      "Predicted labels (positive, negative): [0 0]\n",
      "Probabilities:\n",
      "  P(positive=1): 0.0000\n",
      "  P(negative=1): 0.3099\n",
      "==================================\n",
      "Comment gốc: không tốt\n",
      "Comment: 'không tốt'\n",
      "Predicted labels (positive, negative): [1 0]\n",
      "Probabilities:\n",
      "  P(positive=1): 0.6191\n",
      "  P(negative=1): 0.1525\n",
      "==================================\n",
      "Comment gốc: không\n",
      "Comment: 'không'\n",
      "Predicted labels (positive, negative): [0 0]\n",
      "Probabilities:\n",
      "  P(positive=1): 0.0000\n",
      "  P(negative=1): 0.3099\n",
      "==================================\n",
      "Comment gốc: bình thường\n",
      "Comment: 'bình_thường'\n",
      "Predicted labels (positive, negative): [0 0]\n",
      "Probabilities:\n",
      "  P(positive=1): 0.0248\n",
      "  P(negative=1): 0.0276\n",
      "==================================\n",
      "Comment gốc: sản phẩm tạm ổn\n",
      "Comment: 'sản_phẩm tạm ổn'\n",
      "Predicted labels (positive, negative): [1 0]\n",
      "Probabilities:\n",
      "  P(positive=1): 0.9948\n",
      "  P(negative=1): 0.0111\n",
      "==================================\n",
      "Comment gốc: sản phẩm ổn\n",
      "Comment: 'sản_phẩm ổn'\n",
      "Predicted labels (positive, negative): [1 0]\n",
      "Probabilities:\n",
      "  P(positive=1): 1.0000\n",
      "  P(negative=1): 0.0039\n",
      "==================================\n",
      "Comment gốc: giá cao quá\n",
      "Comment: 'giá cao quá'\n",
      "Predicted labels (positive, negative): [1 1]\n",
      "Probabilities:\n",
      "  P(positive=1): 0.7425\n",
      "  P(negative=1): 0.9941\n",
      "==================================\n",
      "Comment gốc: giá cao hơn so với thị trường nhiều quá\n",
      "Comment: 'giá cao hơn so thị_trường nhiều quá'\n",
      "Predicted labels (positive, negative): [0 1]\n",
      "Probabilities:\n",
      "  P(positive=1): 0.1674\n",
      "  P(negative=1): 0.9796\n",
      "==================================\n",
      "Comment gốc: pin dùng lâu\n",
      "Comment: 'pin dùng lâu'\n",
      "Predicted labels (positive, negative): [1 0]\n",
      "Probabilities:\n",
      "  P(positive=1): 0.9623\n",
      "  P(negative=1): 0.0914\n",
      "==================================\n",
      "Comment gốc: pin dùng lâu nhưng nhanh nóng máy\n",
      "Comment: 'pin dùng lâu nhưng nhanh nóng máy'\n",
      "Predicted labels (positive, negative): [1 1]\n",
      "Probabilities:\n",
      "  P(positive=1): 0.9853\n",
      "  P(negative=1): 0.9861\n",
      "==================================\n",
      "Comment gốc: giao hàng cẩn thận\n",
      "Comment: 'giao hàng cẩn_thận'\n",
      "Predicted labels (positive, negative): [1 0]\n",
      "Probabilities:\n",
      "  P(positive=1): 0.5829\n",
      "  P(negative=1): 0.0537\n",
      "==================================\n",
      "Comment gốc: giao hàng tốt\n",
      "Comment: 'giao hàng tốt'\n",
      "Predicted labels (positive, negative): [1 0]\n",
      "Probabilities:\n",
      "  P(positive=1): 0.9892\n",
      "  P(negative=1): 0.0063\n",
      "==================================\n",
      "Comment gốc: nhân viên giao hàng cẩn thận\n",
      "Comment: 'nhân_viên giao hàng cẩn_thận'\n",
      "Predicted labels (positive, negative): [1 0]\n",
      "Probabilities:\n",
      "  P(positive=1): 0.7810\n",
      "  P(negative=1): 0.1336\n",
      "==================================\n",
      "Comment gốc: cẩn thận\n",
      "Comment: 'cẩn_thận'\n",
      "Predicted labels (positive, negative): [0 0]\n",
      "Probabilities:\n",
      "  P(positive=1): 0.1817\n",
      "  P(negative=1): 0.2185\n",
      "==================================\n",
      "Comment gốc: quá khó hiểu về cách làm ăn của TGDĐ\n",
      "Comment: 'quá khó cách làm_ăn thế_giới di_động'\n",
      "Predicted labels (positive, negative): [0 1]\n",
      "Probabilities:\n",
      "  P(positive=1): 0.2783\n",
      "  P(negative=1): 0.8956\n",
      "==================================\n",
      "Comment gốc: khong bao gio toi quay lai day nưa\n",
      "Comment: 'không bao gio toi quay lai day nưa'\n",
      "Predicted labels (positive, negative): [0 0]\n",
      "Probabilities:\n",
      "  P(positive=1): 0.0154\n",
      "  P(negative=1): 0.0252\n",
      "==================================\n",
      "Comment gốc: không bao giờ tôi quay lại đây\n",
      "Comment: 'không bao_giờ quay lại'\n",
      "Predicted labels (positive, negative): [0 0]\n",
      "Probabilities:\n",
      "  P(positive=1): 0.0132\n",
      "  P(negative=1): 0.4233\n",
      "==================================\n",
      "Comment gốc: không bao giờ quay lại đây nữa\n",
      "Comment: 'không bao_giờ quay lại'\n",
      "Predicted labels (positive, negative): [0 0]\n",
      "Probabilities:\n",
      "  P(positive=1): 0.0132\n",
      "  P(negative=1): 0.4233\n",
      "Thoát chương trình.\n"
     ]
    }
   ],
   "source": [
    "# Nhập input liên tục từ người dùng cho đến khi người dùng nhập \"exit\"\n",
    "while True:\n",
    "    user_input = input(\"Nhập một comment hoặc 'exit' để thoát: \")\n",
    "    \n",
    "    if user_input.lower() == 'exit':\n",
    "        print(\"Thoát chương trình.\")\n",
    "        break\n",
    "    \n",
    "    print(\"==================================\")\n",
    "    print(\"Comment gốc:\", user_input)\n",
    "    proceeded_input = without_spellcheck_preprocessor(user_input)\n",
    "    predict_new_comment(pipeline_svc, proceeded_input)"
   ]
  }
 ],
 "metadata": {
  "kernelspec": {
   "display_name": ".venv",
   "language": "python",
   "name": "python3"
  },
  "language_info": {
   "codemirror_mode": {
    "name": "ipython",
    "version": 3
   },
   "file_extension": ".py",
   "mimetype": "text/x-python",
   "name": "python",
   "nbconvert_exporter": "python",
   "pygments_lexer": "ipython3",
   "version": "3.10.6"
  }
 },
 "nbformat": 4,
 "nbformat_minor": 5
}
