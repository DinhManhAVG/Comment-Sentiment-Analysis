{
 "cells": [
  {
   "cell_type": "code",
   "execution_count": 1,
   "id": "bae2c38d",
   "metadata": {},
   "outputs": [],
   "source": [
    "import numpy as np\n",
    "import tensorflow as tf\n",
    "import pickle\n",
    "import os\n",
    "from tensorflow.keras.preprocessing.sequence import pad_sequences"
   ]
  },
  {
   "cell_type": "markdown",
   "id": "ffbe5446",
   "metadata": {},
   "source": [
    "### Demo"
   ]
  },
  {
   "cell_type": "code",
   "execution_count": 2,
   "id": "8a83e3d7",
   "metadata": {},
   "outputs": [],
   "source": [
    "GRU_MODEL_PATH = 'GRU_W2V_best.keras'\n",
    "TOKENIZER_PATH = 'tokenizer.pickle'\n",
    "MAX_SEQUENCE_LENGTH = 150"
   ]
  },
  {
   "cell_type": "code",
   "execution_count": 3,
   "id": "a5763551",
   "metadata": {},
   "outputs": [
    {
     "name": "stdout",
     "output_type": "stream",
     "text": [
      "Deep Learning model loaded successfully.\n"
     ]
    },
    {
     "data": {
      "text/html": [
       "<pre style=\"white-space:pre;overflow-x:auto;line-height:normal;font-family:Menlo,'DejaVu Sans Mono',consolas,'Courier New',monospace\"><span style=\"font-weight: bold\">Model: \"sequential_1\"</span>\n",
       "</pre>\n"
      ],
      "text/plain": [
       "\u001b[1mModel: \"sequential_1\"\u001b[0m\n"
      ]
     },
     "metadata": {},
     "output_type": "display_data"
    },
    {
     "data": {
      "text/html": [
       "<pre style=\"white-space:pre;overflow-x:auto;line-height:normal;font-family:Menlo,'DejaVu Sans Mono',consolas,'Courier New',monospace\">┏━━━━━━━━━━━━━━━━━━━━━━━━━━━━━━━━━┳━━━━━━━━━━━━━━━━━━━━━━━━┳━━━━━━━━━━━━━━━┓\n",
       "┃<span style=\"font-weight: bold\"> Layer (type)                    </span>┃<span style=\"font-weight: bold\"> Output Shape           </span>┃<span style=\"font-weight: bold\">       Param # </span>┃\n",
       "┡━━━━━━━━━━━━━━━━━━━━━━━━━━━━━━━━━╇━━━━━━━━━━━━━━━━━━━━━━━━╇━━━━━━━━━━━━━━━┩\n",
       "│ embedding_1 (<span style=\"color: #0087ff; text-decoration-color: #0087ff\">Embedding</span>)         │ (<span style=\"color: #00d7ff; text-decoration-color: #00d7ff\">None</span>, <span style=\"color: #00af00; text-decoration-color: #00af00\">150</span>, <span style=\"color: #00af00; text-decoration-color: #00af00\">100</span>)       │       <span style=\"color: #00af00; text-decoration-color: #00af00\">287,500</span> │\n",
       "├─────────────────────────────────┼────────────────────────┼───────────────┤\n",
       "│ bidirectional_2 (<span style=\"color: #0087ff; text-decoration-color: #0087ff\">Bidirectional</span>) │ (<span style=\"color: #00d7ff; text-decoration-color: #00d7ff\">None</span>, <span style=\"color: #00af00; text-decoration-color: #00af00\">150</span>, <span style=\"color: #00af00; text-decoration-color: #00af00\">128</span>)       │        <span style=\"color: #00af00; text-decoration-color: #00af00\">63,744</span> │\n",
       "├─────────────────────────────────┼────────────────────────┼───────────────┤\n",
       "│ bidirectional_3 (<span style=\"color: #0087ff; text-decoration-color: #0087ff\">Bidirectional</span>) │ (<span style=\"color: #00d7ff; text-decoration-color: #00d7ff\">None</span>, <span style=\"color: #00af00; text-decoration-color: #00af00\">64</span>)             │        <span style=\"color: #00af00; text-decoration-color: #00af00\">31,104</span> │\n",
       "├─────────────────────────────────┼────────────────────────┼───────────────┤\n",
       "│ dropout_2 (<span style=\"color: #0087ff; text-decoration-color: #0087ff\">Dropout</span>)             │ (<span style=\"color: #00d7ff; text-decoration-color: #00d7ff\">None</span>, <span style=\"color: #00af00; text-decoration-color: #00af00\">64</span>)             │             <span style=\"color: #00af00; text-decoration-color: #00af00\">0</span> │\n",
       "├─────────────────────────────────┼────────────────────────┼───────────────┤\n",
       "│ dense_2 (<span style=\"color: #0087ff; text-decoration-color: #0087ff\">Dense</span>)                 │ (<span style=\"color: #00d7ff; text-decoration-color: #00d7ff\">None</span>, <span style=\"color: #00af00; text-decoration-color: #00af00\">32</span>)             │         <span style=\"color: #00af00; text-decoration-color: #00af00\">2,080</span> │\n",
       "├─────────────────────────────────┼────────────────────────┼───────────────┤\n",
       "│ dropout_3 (<span style=\"color: #0087ff; text-decoration-color: #0087ff\">Dropout</span>)             │ (<span style=\"color: #00d7ff; text-decoration-color: #00d7ff\">None</span>, <span style=\"color: #00af00; text-decoration-color: #00af00\">32</span>)             │             <span style=\"color: #00af00; text-decoration-color: #00af00\">0</span> │\n",
       "├─────────────────────────────────┼────────────────────────┼───────────────┤\n",
       "│ dense_3 (<span style=\"color: #0087ff; text-decoration-color: #0087ff\">Dense</span>)                 │ (<span style=\"color: #00d7ff; text-decoration-color: #00d7ff\">None</span>, <span style=\"color: #00af00; text-decoration-color: #00af00\">2</span>)              │            <span style=\"color: #00af00; text-decoration-color: #00af00\">66</span> │\n",
       "└─────────────────────────────────┴────────────────────────┴───────────────┘\n",
       "</pre>\n"
      ],
      "text/plain": [
       "┏━━━━━━━━━━━━━━━━━━━━━━━━━━━━━━━━━┳━━━━━━━━━━━━━━━━━━━━━━━━┳━━━━━━━━━━━━━━━┓\n",
       "┃\u001b[1m \u001b[0m\u001b[1mLayer (type)                   \u001b[0m\u001b[1m \u001b[0m┃\u001b[1m \u001b[0m\u001b[1mOutput Shape          \u001b[0m\u001b[1m \u001b[0m┃\u001b[1m \u001b[0m\u001b[1m      Param #\u001b[0m\u001b[1m \u001b[0m┃\n",
       "┡━━━━━━━━━━━━━━━━━━━━━━━━━━━━━━━━━╇━━━━━━━━━━━━━━━━━━━━━━━━╇━━━━━━━━━━━━━━━┩\n",
       "│ embedding_1 (\u001b[38;5;33mEmbedding\u001b[0m)         │ (\u001b[38;5;45mNone\u001b[0m, \u001b[38;5;34m150\u001b[0m, \u001b[38;5;34m100\u001b[0m)       │       \u001b[38;5;34m287,500\u001b[0m │\n",
       "├─────────────────────────────────┼────────────────────────┼───────────────┤\n",
       "│ bidirectional_2 (\u001b[38;5;33mBidirectional\u001b[0m) │ (\u001b[38;5;45mNone\u001b[0m, \u001b[38;5;34m150\u001b[0m, \u001b[38;5;34m128\u001b[0m)       │        \u001b[38;5;34m63,744\u001b[0m │\n",
       "├─────────────────────────────────┼────────────────────────┼───────────────┤\n",
       "│ bidirectional_3 (\u001b[38;5;33mBidirectional\u001b[0m) │ (\u001b[38;5;45mNone\u001b[0m, \u001b[38;5;34m64\u001b[0m)             │        \u001b[38;5;34m31,104\u001b[0m │\n",
       "├─────────────────────────────────┼────────────────────────┼───────────────┤\n",
       "│ dropout_2 (\u001b[38;5;33mDropout\u001b[0m)             │ (\u001b[38;5;45mNone\u001b[0m, \u001b[38;5;34m64\u001b[0m)             │             \u001b[38;5;34m0\u001b[0m │\n",
       "├─────────────────────────────────┼────────────────────────┼───────────────┤\n",
       "│ dense_2 (\u001b[38;5;33mDense\u001b[0m)                 │ (\u001b[38;5;45mNone\u001b[0m, \u001b[38;5;34m32\u001b[0m)             │         \u001b[38;5;34m2,080\u001b[0m │\n",
       "├─────────────────────────────────┼────────────────────────┼───────────────┤\n",
       "│ dropout_3 (\u001b[38;5;33mDropout\u001b[0m)             │ (\u001b[38;5;45mNone\u001b[0m, \u001b[38;5;34m32\u001b[0m)             │             \u001b[38;5;34m0\u001b[0m │\n",
       "├─────────────────────────────────┼────────────────────────┼───────────────┤\n",
       "│ dense_3 (\u001b[38;5;33mDense\u001b[0m)                 │ (\u001b[38;5;45mNone\u001b[0m, \u001b[38;5;34m2\u001b[0m)              │            \u001b[38;5;34m66\u001b[0m │\n",
       "└─────────────────────────────────┴────────────────────────┴───────────────┘\n"
      ]
     },
     "metadata": {},
     "output_type": "display_data"
    },
    {
     "data": {
      "text/html": [
       "<pre style=\"white-space:pre;overflow-x:auto;line-height:normal;font-family:Menlo,'DejaVu Sans Mono',consolas,'Courier New',monospace\"><span style=\"font-weight: bold\"> Total params: </span><span style=\"color: #00af00; text-decoration-color: #00af00\">578,484</span> (2.21 MB)\n",
       "</pre>\n"
      ],
      "text/plain": [
       "\u001b[1m Total params: \u001b[0m\u001b[38;5;34m578,484\u001b[0m (2.21 MB)\n"
      ]
     },
     "metadata": {},
     "output_type": "display_data"
    },
    {
     "data": {
      "text/html": [
       "<pre style=\"white-space:pre;overflow-x:auto;line-height:normal;font-family:Menlo,'DejaVu Sans Mono',consolas,'Courier New',monospace\"><span style=\"font-weight: bold\"> Trainable params: </span><span style=\"color: #00af00; text-decoration-color: #00af00\">96,994</span> (378.88 KB)\n",
       "</pre>\n"
      ],
      "text/plain": [
       "\u001b[1m Trainable params: \u001b[0m\u001b[38;5;34m96,994\u001b[0m (378.88 KB)\n"
      ]
     },
     "metadata": {},
     "output_type": "display_data"
    },
    {
     "data": {
      "text/html": [
       "<pre style=\"white-space:pre;overflow-x:auto;line-height:normal;font-family:Menlo,'DejaVu Sans Mono',consolas,'Courier New',monospace\"><span style=\"font-weight: bold\"> Non-trainable params: </span><span style=\"color: #00af00; text-decoration-color: #00af00\">287,500</span> (1.10 MB)\n",
       "</pre>\n"
      ],
      "text/plain": [
       "\u001b[1m Non-trainable params: \u001b[0m\u001b[38;5;34m287,500\u001b[0m (1.10 MB)\n"
      ]
     },
     "metadata": {},
     "output_type": "display_data"
    },
    {
     "data": {
      "text/html": [
       "<pre style=\"white-space:pre;overflow-x:auto;line-height:normal;font-family:Menlo,'DejaVu Sans Mono',consolas,'Courier New',monospace\"><span style=\"font-weight: bold\"> Optimizer params: </span><span style=\"color: #00af00; text-decoration-color: #00af00\">193,990</span> (757.78 KB)\n",
       "</pre>\n"
      ],
      "text/plain": [
       "\u001b[1m Optimizer params: \u001b[0m\u001b[38;5;34m193,990\u001b[0m (757.78 KB)\n"
      ]
     },
     "metadata": {},
     "output_type": "display_data"
    }
   ],
   "source": [
    "try:\n",
    "    gru_model = tf.keras.models.load_model(GRU_MODEL_PATH)\n",
    "    print(\"Deep Learning model loaded successfully.\")\n",
    "    gru_model.summary() # In ra cấu trúc model để kiểm tra\n",
    "except Exception as e:\n",
    "    print(f\"Error loading Deep Learning model: {e}\")\n",
    "    print(\"Please ensure the model file exists and is compatible.\")"
   ]
  },
  {
   "cell_type": "code",
   "execution_count": 4,
   "id": "021c2d32",
   "metadata": {},
   "outputs": [],
   "source": [
    "# Load the tokenizer from TOKENIZER_PATH\n",
    "with open(TOKENIZER_PATH, 'rb') as handle:\n",
    "    tokenizer = pickle.load(handle)"
   ]
  },
  {
   "cell_type": "code",
   "execution_count": 5,
   "id": "f979ce57",
   "metadata": {},
   "outputs": [],
   "source": [
    "import sys\n",
    "sys.path.insert(0, \"../../\")"
   ]
  },
  {
   "cell_type": "code",
   "execution_count": 6,
   "id": "39eb5465",
   "metadata": {},
   "outputs": [
    {
     "name": "stdout",
     "output_type": "stream",
     "text": [
      "Current file path: D:\\Documents\\Ki_8\\NLP\\Comment-Sentiment-Analysis\n",
      "Thu mục gốc: D:\\Documents\\Ki_8\\NLP\\Comment-Sentiment-Analysis\n",
      "Using model path: D:\\Documents\\Ki_8\\NLP\\Comment-Sentiment-Analysis\\attribute_extractor\\vncorenlp\n"
     ]
    }
   ],
   "source": [
    "from src.shared.text_preprocessing import VietnamesePreprocessingWithoutSpellCheck"
   ]
  },
  {
   "cell_type": "code",
   "execution_count": 7,
   "id": "54c4a4a6",
   "metadata": {},
   "outputs": [],
   "source": [
    "without_spellcheck_preprocessor = VietnamesePreprocessingWithoutSpellCheck()"
   ]
  },
  {
   "cell_type": "code",
   "execution_count": 8,
   "id": "560edcec",
   "metadata": {},
   "outputs": [],
   "source": [
    "def predict_sentiment(text, model, tokenizer, max_length):\n",
    "    # clean_text = text # Tạm thời bỏ qua làm sạch phức tạp\n",
    "    sequence = tokenizer.texts_to_sequences([text])\n",
    "    padded_sequence = pad_sequences(sequence, maxlen=max_length, padding='post', truncating='post')\n",
    "    prediction = model.predict(padded_sequence, verbose=0) # Thêm verbose=0\n",
    "    labels = (prediction > 0.5).astype(int)[0]\n",
    "    print(f\"Predicted labels (positive, negative): {labels}\")\n",
    "    print(f\"Probabilities:\")\n",
    "    print(f\"P(positive=1): {prediction[0][0]}\")\n",
    "    print(f\"P(negative=1): {prediction[0][1]}\")\n",
    "    predicted_dict = {\"positive\": int(labels[0]), \"negative\": int(labels[1])}\n",
    "    return predicted_dict, prediction[0]"
   ]
  },
  {
   "cell_type": "code",
   "execution_count": null,
   "id": "0ac47689",
   "metadata": {},
   "outputs": [
    {
     "name": "stdout",
     "output_type": "stream",
     "text": [
      "==================================\n",
      "Comment gốc: xin chào\n",
      "Comment: chào\n",
      "Predicted labels (positive, negative): [1 0]\n",
      "Probabilities:\n",
      "P(positive=1): 0.996173083782196\n",
      "P(negative=1): 0.00766832334920764\n",
      "==================================\n",
      "Comment gốc: sản phẩm tốt\n",
      "Comment: sản_phẩm tốt\n",
      "Predicted labels (positive, negative): [1 0]\n",
      "Probabilities:\n",
      "P(positive=1): 0.997830331325531\n",
      "P(negative=1): 0.000977963674813509\n",
      "==================================\n",
      "Comment gốc: pin nhanh nóng quá\n",
      "Comment: pin nhanh nóng quá\n",
      "Predicted labels (positive, negative): [0 1]\n",
      "Probabilities:\n",
      "P(positive=1): 0.02740609273314476\n",
      "P(negative=1): 0.9339203834533691\n",
      "==================================\n",
      "Comment gốc: máy mượt, chiến game mạnh\n",
      "Comment: máy mượt chiến game mạnh\n",
      "Predicted labels (positive, negative): [1 0]\n",
      "Probabilities:\n",
      "P(positive=1): 0.9158605337142944\n",
      "P(negative=1): 0.18729235231876373\n",
      "==================================\n",
      "Comment gốc: tháng này bên hãng có khuyến mãi gì không\n",
      "Comment: tháng bên hãng khuyến_mãi gì không\n",
      "Predicted labels (positive, negative): [0 0]\n",
      "Probabilities:\n",
      "P(positive=1): 0.0010322934249415994\n",
      "P(negative=1): 0.04406847432255745\n",
      "==================================\n",
      "Comment gốc: nhân viên khó chịu sao ấy\n",
      "Comment: nhân_viên khó_chịu sao\n",
      "Predicted labels (positive, negative): [0 1]\n",
      "Probabilities:\n",
      "P(positive=1): 0.028419451788067818\n",
      "P(negative=1): 0.7816427946090698\n",
      "==================================\n",
      "Comment gốc: nhân viên tận tâm\n",
      "Comment: nhân_viên tận_tâm\n",
      "Predicted labels (positive, negative): [1 0]\n",
      "Probabilities:\n",
      "P(positive=1): 0.9734908938407898\n",
      "P(negative=1): 0.02028108946979046\n",
      "==================================\n",
      "Comment gốc: nhân viên nhiệt tình\n",
      "Comment: nhân_viên nhiệt_tình\n",
      "Predicted labels (positive, negative): [1 0]\n",
      "Probabilities:\n",
      "P(positive=1): 0.8999449610710144\n",
      "P(negative=1): 0.13545829057693481\n",
      "==================================\n",
      "Comment gốc: sản phẩm tốt, có điều chơi game lâu thì nó sẽ nhanh nóng máy\n",
      "Comment: sản_phẩm tốt có_điều chơi game lâu nhanh nóng máy\n",
      "Predicted labels (positive, negative): [1 1]\n",
      "Probabilities:\n",
      "P(positive=1): 0.9918273687362671\n",
      "P(negative=1): 0.6634894609451294\n",
      "==================================\n",
      "Comment gốc: máy nóng quá\n",
      "Comment: máy nóng quá\n",
      "Predicted labels (positive, negative): [0 1]\n",
      "Probabilities:\n",
      "P(positive=1): 0.037496089935302734\n",
      "P(negative=1): 0.7668231129646301\n",
      "==================================\n",
      "Comment gốc: tốt nhưng nóng máy\n",
      "Comment: tốt nhưng nóng máy\n",
      "Predicted labels (positive, negative): [1 0]\n",
      "Probabilities:\n",
      "P(positive=1): 0.9823853969573975\n",
      "P(negative=1): 0.13406793773174286\n",
      "==================================\n",
      "Comment gốc: chơi game lâu\n",
      "Comment: chơi game lâu\n",
      "Predicted labels (positive, negative): [1 0]\n",
      "Probabilities:\n",
      "P(positive=1): 0.9162993431091309\n",
      "P(negative=1): 0.039081402122974396\n"
     ]
    }
   ],
   "source": [
    "# Nhập input liên tục từ người dùng cho đến khi người dùng nhập \"exit\"\n",
    "while True:\n",
    "    user_input = input(\"Nhập một comment hoặc 'exit' để thoát: \")\n",
    "    \n",
    "    if user_input.lower() == 'exit':\n",
    "        print(\"Thoát chương trình.\")\n",
    "        break\n",
    "    \n",
    "    print(\"==================================\")\n",
    "    print(\"Comment gốc:\", user_input)\n",
    "    proceeded_input = without_spellcheck_preprocessor(user_input)\n",
    "    print(\"Comment:\", proceeded_input)\n",
    "    pred_labels, pred_probs = predict_sentiment(proceeded_input, gru_model, tokenizer, MAX_SEQUENCE_LENGTH)"
   ]
  },
  {
   "cell_type": "code",
   "execution_count": 10,
   "id": "f03122a7",
   "metadata": {},
   "outputs": [
    {
     "name": "stdout",
     "output_type": "stream",
     "text": [
      "==================================\n",
      "Comment gốc: tự search mạng đi\n",
      "Comment: search mạng đi\n",
      "Predicted labels (positive, negative): [0 0]\n",
      "Probabilities:\n",
      "P(positive=1): 0.014776567928493023\n",
      "P(negative=1): 0.05129661038517952\n",
      "==================================\n",
      "Comment gốc: bạn ngu quá\n",
      "Comment: ngu quá\n",
      "Predicted labels (positive, negative): [0 1]\n",
      "Probabilities:\n",
      "P(positive=1): 0.04069363325834274\n",
      "P(negative=1): 0.7852215766906738\n",
      "==================================\n",
      "Comment gốc: ok\n",
      "Comment: ổn\n",
      "Predicted labels (positive, negative): [1 0]\n",
      "Probabilities:\n",
      "P(positive=1): 0.8647451400756836\n",
      "P(negative=1): 0.15054906904697418\n",
      "==================================\n",
      "Comment gốc: fuck\n",
      "Comment: fuck\n",
      "Predicted labels (positive, negative): [1 0]\n",
      "Probabilities:\n",
      "P(positive=1): 0.8647451400756836\n",
      "P(negative=1): 0.15054906904697418\n",
      "==================================\n",
      "Comment gốc: ok\n",
      "Comment: ổn\n",
      "Predicted labels (positive, negative): [1 0]\n",
      "Probabilities:\n",
      "P(positive=1): 0.8647451400756836\n",
      "P(negative=1): 0.15054906904697418\n",
      "==================================\n",
      "Comment gốc: bạn chán ghê\n",
      "Comment: chán ghê\n",
      "Predicted labels (positive, negative): [1 0]\n",
      "Probabilities:\n",
      "P(positive=1): 0.8255239129066467\n",
      "P(negative=1): 0.06884933263063431\n",
      "==================================\n",
      "Comment gốc: ok\n",
      "Comment: ổn\n",
      "Predicted labels (positive, negative): [1 0]\n",
      "Probabilities:\n",
      "P(positive=1): 0.8647451400756836\n",
      "P(negative=1): 0.15054906904697418\n",
      "Thoát chương trình.\n"
     ]
    }
   ],
   "source": [
    "# Nhập input liên tục từ người dùng cho đến khi người dùng nhập \"exit\"\n",
    "while True:\n",
    "    user_input = input(\"Nhập một comment hoặc 'exit' để thoát: \")\n",
    "    \n",
    "    if user_input.lower() == 'exit':\n",
    "        print(\"Thoát chương trình.\")\n",
    "        break\n",
    "    \n",
    "    print(\"==================================\")\n",
    "    print(\"Comment gốc:\", user_input)\n",
    "    proceeded_input = without_spellcheck_preprocessor(user_input)\n",
    "    print(\"Comment:\", proceeded_input)\n",
    "    pred_labels, pred_probs = predict_sentiment(user_input, gru_model, tokenizer, MAX_SEQUENCE_LENGTH)"
   ]
  }
 ],
 "metadata": {
  "kernelspec": {
   "display_name": "myenv",
   "language": "python",
   "name": "python3"
  },
  "language_info": {
   "codemirror_mode": {
    "name": "ipython",
    "version": 3
   },
   "file_extension": ".py",
   "mimetype": "text/x-python",
   "name": "python",
   "nbconvert_exporter": "python",
   "pygments_lexer": "ipython3",
   "version": "3.10.6"
  }
 },
 "nbformat": 4,
 "nbformat_minor": 5
}
