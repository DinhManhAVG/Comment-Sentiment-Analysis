{
 "cells": [
  {
   "cell_type": "code",
   "execution_count": 13,
   "id": "fbaafb3b",
   "metadata": {},
   "outputs": [],
   "source": [
    "import pandas as pd\n",
    "import matplotlib.pyplot as plt\n",
    "import os"
   ]
  },
  {
   "cell_type": "code",
   "execution_count": 3,
   "id": "050ee38f",
   "metadata": {},
   "outputs": [],
   "source": [
    "train_df = pd.concat([\n",
    "    pd.read_csv(\"labeled_phone_ratings_sure.csv\"),\n",
    "    pd.read_csv(\"labelling_data_part1.csv\"),\n",
    "    pd.read_csv(\"labelling_data_part2.csv\"),\n",
    "])\n"
   ]
  },
  {
   "cell_type": "code",
   "execution_count": 4,
   "id": "087f4080",
   "metadata": {},
   "outputs": [
    {
     "data": {
      "text/plain": [
       "(2281, 7)"
      ]
     },
     "execution_count": 4,
     "metadata": {},
     "output_type": "execute_result"
    }
   ],
   "source": [
    "train_df.shape"
   ]
  },
  {
   "cell_type": "code",
   "execution_count": 5,
   "id": "f4bdd693",
   "metadata": {},
   "outputs": [
    {
     "data": {
      "text/html": [
       "<div>\n",
       "<style scoped>\n",
       "    .dataframe tbody tr th:only-of-type {\n",
       "        vertical-align: middle;\n",
       "    }\n",
       "\n",
       "    .dataframe tbody tr th {\n",
       "        vertical-align: top;\n",
       "    }\n",
       "\n",
       "    .dataframe thead th {\n",
       "        text-align: right;\n",
       "    }\n",
       "</style>\n",
       "<table border=\"1\" class=\"dataframe\">\n",
       "  <thead>\n",
       "    <tr style=\"text-align: right;\">\n",
       "      <th></th>\n",
       "      <th>product_id</th>\n",
       "      <th>comment</th>\n",
       "      <th>comment_clean_stage1</th>\n",
       "      <th>comment_clean_stage2</th>\n",
       "      <th>rating</th>\n",
       "      <th>positive</th>\n",
       "      <th>negative</th>\n",
       "    </tr>\n",
       "  </thead>\n",
       "  <tbody>\n",
       "    <tr>\n",
       "      <th>0</th>\n",
       "      <td>honor-x8b</td>\n",
       "      <td>Đừng mua, ko có linh kiện.</td>\n",
       "      <td>đừng mua, không có linh kiện.</td>\n",
       "      <td>đừng mua không linh_kiện</td>\n",
       "      <td>1</td>\n",
       "      <td>0</td>\n",
       "      <td>1</td>\n",
       "    </tr>\n",
       "    <tr>\n",
       "      <th>1</th>\n",
       "      <td>honor-x8b</td>\n",
       "      <td>Mua online bên này báo ngoài ip ra thì hàng ko...</td>\n",
       "      <td>mua online bên này báo ngoài iphone ra thì hàn...</td>\n",
       "      <td>mua online bên báo iphone hàng không full box ...</td>\n",
       "      <td>2</td>\n",
       "      <td>0</td>\n",
       "      <td>1</td>\n",
       "    </tr>\n",
       "    <tr>\n",
       "      <th>2</th>\n",
       "      <td>honor-x8b</td>\n",
       "      <td>Mạng yếu hay mất sóng, đổi máy khác được không</td>\n",
       "      <td>mạng yếu hay mất sóng, đổi máy khác được không?</td>\n",
       "      <td>mạng yếu hay mất sóng đổi máy được không</td>\n",
       "      <td>1</td>\n",
       "      <td>0</td>\n",
       "      <td>1</td>\n",
       "    </tr>\n",
       "    <tr>\n",
       "      <th>3</th>\n",
       "      <td>iphone-12</td>\n",
       "      <td>Mua máy lướt được 2 hôm đã lỗi loa ngoài, lúc ...</td>\n",
       "      <td>mua máy lướt được hai hôm đã lỗi loa ngoài, lú...</td>\n",
       "      <td>mua máy lướt được hai hôm lỗi loa lúc bán nhân...</td>\n",
       "      <td>1</td>\n",
       "      <td>0</td>\n",
       "      <td>1</td>\n",
       "    </tr>\n",
       "    <tr>\n",
       "      <th>4</th>\n",
       "      <td>iphone-12</td>\n",
       "      <td>Mới mua mà dễ nóng quá. Khi sạc và nhất là bật...</td>\n",
       "      <td>mới mua mà dễ nóng quá. khi sạc và nhất là bật...</td>\n",
       "      <td>mới mua mà dễ nóng quá sạc nhất_là bật máy_ảnh...</td>\n",
       "      <td>2</td>\n",
       "      <td>0</td>\n",
       "      <td>1</td>\n",
       "    </tr>\n",
       "  </tbody>\n",
       "</table>\n",
       "</div>"
      ],
      "text/plain": [
       "  product_id                                            comment  \\\n",
       "0  honor-x8b                         Đừng mua, ko có linh kiện.   \n",
       "1  honor-x8b  Mua online bên này báo ngoài ip ra thì hàng ko...   \n",
       "2  honor-x8b     Mạng yếu hay mất sóng, đổi máy khác được không   \n",
       "3  iphone-12  Mua máy lướt được 2 hôm đã lỗi loa ngoài, lúc ...   \n",
       "4  iphone-12  Mới mua mà dễ nóng quá. Khi sạc và nhất là bật...   \n",
       "\n",
       "                                comment_clean_stage1  \\\n",
       "0                      đừng mua, không có linh kiện.   \n",
       "1  mua online bên này báo ngoài iphone ra thì hàn...   \n",
       "2    mạng yếu hay mất sóng, đổi máy khác được không?   \n",
       "3  mua máy lướt được hai hôm đã lỗi loa ngoài, lú...   \n",
       "4  mới mua mà dễ nóng quá. khi sạc và nhất là bật...   \n",
       "\n",
       "                                comment_clean_stage2  rating  positive  \\\n",
       "0                           đừng mua không linh_kiện       1         0   \n",
       "1  mua online bên báo iphone hàng không full box ...       2         0   \n",
       "2           mạng yếu hay mất sóng đổi máy được không       1         0   \n",
       "3  mua máy lướt được hai hôm lỗi loa lúc bán nhân...       1         0   \n",
       "4  mới mua mà dễ nóng quá sạc nhất_là bật máy_ảnh...       2         0   \n",
       "\n",
       "   negative  \n",
       "0         1  \n",
       "1         1  \n",
       "2         1  \n",
       "3         1  \n",
       "4         1  "
      ]
     },
     "execution_count": 5,
     "metadata": {},
     "output_type": "execute_result"
    }
   ],
   "source": [
    "train_df.head()"
   ]
  },
  {
   "cell_type": "code",
   "execution_count": 12,
   "id": "ffb9862c",
   "metadata": {},
   "outputs": [
    {
     "data": {
      "image/png": "[encoded data removed]",
      "text/plain": [
       "<Figure size 800x600 with 1 Axes>"
      ]
     },
     "metadata": {},
     "output_type": "display_data"
    }
   ],
   "source": [
    "# Nhóm theo (positive, negative) và đếm số lượng\n",
    "counts = train_df.groupby(['positive', 'negative']).size().reset_index(name='count')\n",
    "\n",
    "# Tạo nhãn để hiển thị trên trục x\n",
    "counts['label'] = counts.apply(lambda row: f\"Positive:{row['positive']}, Negative:{row['negative']}\", axis=1)\n",
    "\n",
    "# Vẽ biểu đồ\n",
    "plt.figure(figsize=(8, 6))\n",
    "bars = plt.bar(counts['label'], counts['count'], color='skyblue')\n",
    "\n",
    "# Thêm số lượng trên đầu mỗi cột\n",
    "for bar in bars:\n",
    "    yval = bar.get_height()\n",
    "    plt.text(bar.get_x() + bar.get_width()/2, yval + 0.5, int(yval), ha='center', va='bottom', fontsize=10)\n",
    "\n",
    "# Thiết lập trục và tiêu đề\n",
    "plt.xlabel('Positive / Negative Label')\n",
    "plt.ylabel('Số mẫu')\n",
    "plt.title('Thống kê số mẫu theo nhãn positive và negative')\n",
    "plt.xticks(rotation=30)\n",
    "plt.tight_layout()\n",
    "plt.show()"
   ]
  },
  {
   "cell_type": "code",
   "execution_count": 14,
   "id": "91acf8ff",
   "metadata": {},
   "outputs": [],
   "source": [
    "os.mkdir(\"../training_data\")"
   ]
  },
  {
   "cell_type": "code",
   "execution_count": 16,
   "id": "19fe3b8f",
   "metadata": {},
   "outputs": [],
   "source": [
    "train_df.to_csv(\"../training_data/train_data.csv\", index=False)"
   ]
  }
 ],
 "metadata": {
  "kernelspec": {
   "display_name": ".venv",
   "language": "python",
   "name": "python3"
  },
  "language_info": {
   "codemirror_mode": {
    "name": "ipython",
    "version": 3
   },
   "file_extension": ".py",
   "mimetype": "text/x-python",
   "name": "python",
   "nbconvert_exporter": "python",
   "pygments_lexer": "ipython3",
   "version": "3.10.6"
  }
 },
 "nbformat": 4,
 "nbformat_minor": 5
}
