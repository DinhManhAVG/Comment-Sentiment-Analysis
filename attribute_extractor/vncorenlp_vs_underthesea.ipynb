{
 "cells": [
  {
   "cell_type": "code",
   "execution_count": 1,
   "id": "c26cc165",
   "metadata": {},
   "outputs": [],
   "source": [
    "from underthesea import word_tokenize"
   ]
  },
  {
   "cell_type": "code",
   "execution_count": 2,
   "id": "e7c27a34",
   "metadata": {},
   "outputs": [],
   "source": [
    "import py_vncorenlp"
   ]
  },
  {
   "cell_type": "code",
   "execution_count": null,
   "id": "129e0a7d",
   "metadata": {},
   "outputs": [
    {
     "name": "stdout",
     "output_type": "stream",
     "text": [
      "Using model path: d:\\School\\4thYear\\2ndSemester\\NLP\\Comment-Sentiment-Analysis\\attribute_extractor\\vncorenlp\n"
     ]
    }
   ],
   "source": [
    "import os\n",
    "\n",
    "\n",
    "ABSOLUTE_MODEL_PATH = os.path.abspath(\"../attribute_extractor/vncorenlp\")\n",
    "print(\"Using model path:\", ABSOLUTE_MODEL_PATH)\n",
    "\n",
    "# Khởi tạo model từ thư mục local\n",
    "vncorenlp_model = py_vncorenlp.VnCoreNLP(save_dir=ABSOLUTE_MODEL_PATH, max_heap_size=\"-Xmx2g\")"
   ]
  },
  {
   "cell_type": "code",
   "execution_count": 9,
   "id": "beff650d",
   "metadata": {},
   "outputs": [
    {
     "name": "stdout",
     "output_type": "stream",
     "text": [
      "Điện_thoại này chụp hình rất đẹp và pin cũng khá tốt .\n"
     ]
    }
   ],
   "source": [
    "# Câu ví dụ\n",
    "sentence = \"Điện thoại này chụp hình rất đẹp và pin cũng khá tốt.\"\n",
    "\n",
    "# Tokenize\n",
    "tokens = word_tokenize(sentence, format=\"text\")  # Trả về chuỗi với các từ cách nhau bởi dấu cách\n",
    "\n",
    "print(tokens)"
   ]
  },
  {
   "cell_type": "code",
   "execution_count": 10,
   "id": "f3b972c9",
   "metadata": {},
   "outputs": [],
   "source": [
    "def vncorenlp_tokenize_text(x: str) -> list:\n",
    "    \"\"\"Tokenize the text into words.\"\"\"\n",
    "    print(\"Original text:\", x)\n",
    "    print(\"Tokenize by underthesea:\", word_tokenize(x, format=\"text\"))\n",
    "    print(\"Tokenize by vncorenlp:\", \" \".join(vncorenlp_model.word_segment(x)))"
   ]
  },
  {
   "cell_type": "code",
   "execution_count": null,
   "id": "468726a0",
   "metadata": {},
   "outputs": [
    {
     "name": "stdout",
     "output_type": "stream",
     "text": [
      "Original text: Máy này chạy hệ điều hành android 11 rất mượt\n",
      "Tokenize by underthesea: Máy này chạy_hệ điều_hành android 11 rất mượt\n",
      "Tokenize by vncorenlp: Máy này chạy hệ_điều_hành android 11 rất mượt\n"
     ]
    }
   ],
   "source": []
  },
  {
   "cell_type": "code",
   "execution_count": 24,
   "id": "b81a0cba",
   "metadata": {},
   "outputs": [
    {
     "name": "stdout",
     "output_type": "stream",
     "text": [
      "Original text: máy này chạy nhanh nóng pin quá\n",
      "Tokenize by underthesea: máy này chạy nhanh nóng_pin quá\n",
      "Tokenize by vncorenlp: máy này chạy nhanh nóng pin quá\n"
     ]
    }
   ],
   "source": [
    "vncorenlp_tokenize_text(\"máy này chạy nhanh nóng pin quá\")"
   ]
  },
  {
   "cell_type": "code",
   "execution_count": 45,
   "id": "36048e68",
   "metadata": {},
   "outputs": [
    {
     "name": "stdout",
     "output_type": "stream",
     "text": [
      "Original text: Máy này chạy hệ điều hành android 11 rất mượt\n",
      "Tokenize by underthesea: Máy này chạy_hệ điều_hành android 11 rất mượt\n",
      "Tokenize by vncorenlp: Máy này chạy hệ_điều_hành android 11 rất mượt\n",
      "-----------------------\n",
      "Original text: điện thoại dùng pin hao nhanh quá\n",
      "Tokenize by underthesea: điện_thoại dùng pin_hao nhanh quá\n",
      "Tokenize by vncorenlp: điện_thoại dùng pin hao nhanh quá\n",
      "-----------------------\n",
      "Original text: Máy này chụp hình đẹp pin cũng khá tốt\n",
      "Tokenize by underthesea: Máy này chụp hình đẹp_pin cũng khá tốt\n",
      "Tokenize by vncorenlp: Máy này chụp hình đẹp pin cũng khá tốt\n"
     ]
    }
   ],
   "source": [
    "vncorenlp_tokenize_text(\"Máy này chạy hệ điều hành android 11 rất mượt\")\n",
    "print(\"-----------------------\")\n",
    "vncorenlp_tokenize_text(\"điện thoại dùng pin hao nhanh quá\")\n",
    "print(\"-----------------------\")\n",
    "vncorenlp_tokenize_text(\"Máy này chụp hình đẹp pin cũng khá tốt\")"
   ]
  }
 ],
 "metadata": {
  "kernelspec": {
   "display_name": ".venv",
   "language": "python",
   "name": "python3"
  },
  "language_info": {
   "codemirror_mode": {
    "name": "ipython",
    "version": 3
   },
   "file_extension": ".py",
   "mimetype": "text/x-python",
   "name": "python",
   "nbconvert_exporter": "python",
   "pygments_lexer": "ipython3",
   "version": "3.10.6"
  }
 },
 "nbformat": 4,
 "nbformat_minor": 5
}
