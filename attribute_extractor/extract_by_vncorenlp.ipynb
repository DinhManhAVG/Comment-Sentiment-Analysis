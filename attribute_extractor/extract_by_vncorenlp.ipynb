{
 "cells": [
  {
   "cell_type": "code",
   "execution_count": 1,
   "id": "4a5694fc",
   "metadata": {},
   "outputs": [],
   "source": [
    "import py_vncorenlp"
   ]
  },
  {
   "cell_type": "code",
   "execution_count": 2,
   "id": "fea237b4",
   "metadata": {},
   "outputs": [
    {
     "name": "stdout",
     "output_type": "stream",
     "text": [
      "Using model path: d:\\School\\4thYear\\2ndSemester\\NLP\\Comment-Sentiment-Analysis\\attribute_extractor\\vncorenlp\n"
     ]
    }
   ],
   "source": [
    "import os\n",
    "\n",
    "ABSOLUTE_MODEL_PATH = os.path.abspath(\"vncorenlp\")\n",
    "print(\"Using model path:\", ABSOLUTE_MODEL_PATH)"
   ]
  },
  {
   "cell_type": "code",
   "execution_count": 3,
   "id": "1c95aac6",
   "metadata": {},
   "outputs": [],
   "source": [
    "# Khởi tạo model từ thư mục local\n",
    "model = py_vncorenlp.VnCoreNLP(save_dir=ABSOLUTE_MODEL_PATH, max_heap_size=\"-Xmx2g\")"
   ]
  },
  {
   "cell_type": "code",
   "execution_count": 8,
   "id": "bcd73e38",
   "metadata": {},
   "outputs": [],
   "source": [
    "example=\"bao lâu\""
   ]
  },
  {
   "cell_type": "code",
   "execution_count": 9,
   "id": "5d00700c",
   "metadata": {},
   "outputs": [
    {
     "data": {
      "text/plain": [
       "['bao_lâu']"
      ]
     },
     "execution_count": 9,
     "metadata": {},
     "output_type": "execute_result"
    }
   ],
   "source": [
    "model.word_segment(example)"
   ]
  },
  {
   "cell_type": "markdown",
   "id": "12607171",
   "metadata": {},
   "source": [
    "### Các chức năng mà model hỗ trợ"
   ]
  },
  {
   "cell_type": "code",
   "execution_count": 4,
   "id": "4803f9fb",
   "metadata": {},
   "outputs": [
    {
     "data": {
      "text/plain": [
       "['wseg', 'pos', 'ner', 'parse']"
      ]
     },
     "execution_count": 4,
     "metadata": {},
     "output_type": "execute_result"
    }
   ],
   "source": [
    "model.annotators"
   ]
  },
  {
   "cell_type": "code",
   "execution_count": 5,
   "id": "124180a4",
   "metadata": {},
   "outputs": [
    {
     "name": "stdout",
     "output_type": "stream",
     "text": [
      "1\tCũng\tR\tO\t2\tamod\n",
      "2\ttạm\tA\tO\t0\troot\n",
      "3\t.\tCH\tO\t2\tpunct\n",
      "\n",
      "1\tHàng\tN\tO\t3\tsub\n",
      "2\ttrưng_bày\tV\tO\t1\tnmod\n",
      "3\tcó\tV\tO\t0\troot\n",
      "4\tbị\tV\tO\t3\tvmod\n",
      "5\txước\tV\tO\t4\tvmod\n",
      "6\tmàn_hình\tN\tO\t5\tdob\n",
      "7\trồi\tR\tO\t5\tadv\n",
      "8\tnhưng\tC\tO\t3\tcoord\n",
      "9\tmọi\tL\tO\t10\tdet\n",
      "10\tthứ\tN\tO\t11\tsub\n",
      "11\tdùng\tV\tO\t8\tconj\n",
      "12\tổn\tA\tO\t11\tvmod\n",
      "13\t.\tCH\tO\t3\tpunct\n",
      "\n",
      "1\tPin\tNp\tO\t3\tsub\n",
      "2\thơi\tR\tO\t3\tamod\n",
      "3\tđuối\tA\tO\t0\troot\n",
      "4\t.\tCH\tO\t3\tpunct\n",
      "\n",
      "1\tTóm_lại\tX\tO\t3\tx\n",
      "2\tgiá\tN\tO\t3\tsub\n",
      "3\trẻ\tA\tO\t0\troot\n",
      "4\thơn\tA\tO\t3\tamod\n",
      "5\tmọi\tL\tO\t6\tdet\n",
      "6\tchỗ\tN\tO\t3\tamod\n",
      "7\t,\tCH\tO\t6\tpunct\n",
      "8\tmáy\tN\tO\t6\tnmod\n",
      "9\tzin\tV\tO\t8\tnmod\n",
      "10\tall\tN\tO\t8\tnmod\n",
      "11\t,\tCH\tO\t6\tpunct\n",
      "12\tchế_độ\tN\tO\t6\tnmod\n",
      "13\tbảo_hành\tV\tO\t12\tnmod\n",
      "14\tđổi\tV\tO\t13\tvmod\n",
      "15\ttrả\tV\tO\t14\tvmod\n",
      "16\tkém\tA\tO\t15\tvmod\n",
      "17\thơn\tA\tO\t16\tamod\n",
      "18\tchỗ\tN\tO\t15\tdob\n",
      "19\tkhác\tA\tO\t18\tnmod\n",
      "20\t.\tCH\tO\t3\tpunct\n",
      "\n",
      "1\tOK\tNb\tO\t0\troot\n",
      "\n"
     ]
    }
   ],
   "source": [
    "# Dùng thử\n",
    "text = \"Cũng tạm. Hàng trưng bày có bị xước màn hình rồi nhưng mọi thứ dùng ổn. Pin hơi đuối. Tóm lại giá rẻ hơn mọi chỗ, máy zin all, chế độ bảo hành đổi trả kém hơn chỗ khác. OK\"\n",
    "result = model.annotate_text(text)\n",
    "model.print_out(result)"
   ]
  },
  {
   "cell_type": "code",
   "execution_count": 6,
   "id": "3e86aeab",
   "metadata": {},
   "outputs": [
    {
     "data": {
      "text/plain": [
       "{0: [{'index': 1,\n",
       "   'wordForm': 'Cũng',\n",
       "   'posTag': 'R',\n",
       "   'nerLabel': 'O',\n",
       "   'head': 2,\n",
       "   'depLabel': 'amod'},\n",
       "  {'index': 2,\n",
       "   'wordForm': 'tạm',\n",
       "   'posTag': 'A',\n",
       "   'nerLabel': 'O',\n",
       "   'head': 0,\n",
       "   'depLabel': 'root'},\n",
       "  {'index': 3,\n",
       "   'wordForm': '.',\n",
       "   'posTag': 'CH',\n",
       "   'nerLabel': 'O',\n",
       "   'head': 2,\n",
       "   'depLabel': 'punct'}],\n",
       " 1: [{'index': 1,\n",
       "   'wordForm': 'Hàng',\n",
       "   'posTag': 'N',\n",
       "   'nerLabel': 'O',\n",
       "   'head': 3,\n",
       "   'depLabel': 'sub'},\n",
       "  {'index': 2,\n",
       "   'wordForm': 'trưng_bày',\n",
       "   'posTag': 'V',\n",
       "   'nerLabel': 'O',\n",
       "   'head': 1,\n",
       "   'depLabel': 'nmod'},\n",
       "  {'index': 3,\n",
       "   'wordForm': 'có',\n",
       "   'posTag': 'V',\n",
       "   'nerLabel': 'O',\n",
       "   'head': 0,\n",
       "   'depLabel': 'root'},\n",
       "  {'index': 4,\n",
       "   'wordForm': 'bị',\n",
       "   'posTag': 'V',\n",
       "   'nerLabel': 'O',\n",
       "   'head': 3,\n",
       "   'depLabel': 'vmod'},\n",
       "  {'index': 5,\n",
       "   'wordForm': 'xước',\n",
       "   'posTag': 'V',\n",
       "   'nerLabel': 'O',\n",
       "   'head': 4,\n",
       "   'depLabel': 'vmod'},\n",
       "  {'index': 6,\n",
       "   'wordForm': 'màn_hình',\n",
       "   'posTag': 'N',\n",
       "   'nerLabel': 'O',\n",
       "   'head': 5,\n",
       "   'depLabel': 'dob'},\n",
       "  {'index': 7,\n",
       "   'wordForm': 'rồi',\n",
       "   'posTag': 'R',\n",
       "   'nerLabel': 'O',\n",
       "   'head': 5,\n",
       "   'depLabel': 'adv'},\n",
       "  {'index': 8,\n",
       "   'wordForm': 'nhưng',\n",
       "   'posTag': 'C',\n",
       "   'nerLabel': 'O',\n",
       "   'head': 3,\n",
       "   'depLabel': 'coord'},\n",
       "  {'index': 9,\n",
       "   'wordForm': 'mọi',\n",
       "   'posTag': 'L',\n",
       "   'nerLabel': 'O',\n",
       "   'head': 10,\n",
       "   'depLabel': 'det'},\n",
       "  {'index': 10,\n",
       "   'wordForm': 'thứ',\n",
       "   'posTag': 'N',\n",
       "   'nerLabel': 'O',\n",
       "   'head': 11,\n",
       "   'depLabel': 'sub'},\n",
       "  {'index': 11,\n",
       "   'wordForm': 'dùng',\n",
       "   'posTag': 'V',\n",
       "   'nerLabel': 'O',\n",
       "   'head': 8,\n",
       "   'depLabel': 'conj'},\n",
       "  {'index': 12,\n",
       "   'wordForm': 'ổn',\n",
       "   'posTag': 'A',\n",
       "   'nerLabel': 'O',\n",
       "   'head': 11,\n",
       "   'depLabel': 'vmod'},\n",
       "  {'index': 13,\n",
       "   'wordForm': '.',\n",
       "   'posTag': 'CH',\n",
       "   'nerLabel': 'O',\n",
       "   'head': 3,\n",
       "   'depLabel': 'punct'}],\n",
       " 2: [{'index': 1,\n",
       "   'wordForm': 'Pin',\n",
       "   'posTag': 'Np',\n",
       "   'nerLabel': 'O',\n",
       "   'head': 3,\n",
       "   'depLabel': 'sub'},\n",
       "  {'index': 2,\n",
       "   'wordForm': 'hơi',\n",
       "   'posTag': 'R',\n",
       "   'nerLabel': 'O',\n",
       "   'head': 3,\n",
       "   'depLabel': 'amod'},\n",
       "  {'index': 3,\n",
       "   'wordForm': 'đuối',\n",
       "   'posTag': 'A',\n",
       "   'nerLabel': 'O',\n",
       "   'head': 0,\n",
       "   'depLabel': 'root'},\n",
       "  {'index': 4,\n",
       "   'wordForm': '.',\n",
       "   'posTag': 'CH',\n",
       "   'nerLabel': 'O',\n",
       "   'head': 3,\n",
       "   'depLabel': 'punct'}],\n",
       " 3: [{'index': 1,\n",
       "   'wordForm': 'Tóm_lại',\n",
       "   'posTag': 'X',\n",
       "   'nerLabel': 'O',\n",
       "   'head': 3,\n",
       "   'depLabel': 'x'},\n",
       "  {'index': 2,\n",
       "   'wordForm': 'giá',\n",
       "   'posTag': 'N',\n",
       "   'nerLabel': 'O',\n",
       "   'head': 3,\n",
       "   'depLabel': 'sub'},\n",
       "  {'index': 3,\n",
       "   'wordForm': 'rẻ',\n",
       "   'posTag': 'A',\n",
       "   'nerLabel': 'O',\n",
       "   'head': 0,\n",
       "   'depLabel': 'root'},\n",
       "  {'index': 4,\n",
       "   'wordForm': 'hơn',\n",
       "   'posTag': 'A',\n",
       "   'nerLabel': 'O',\n",
       "   'head': 3,\n",
       "   'depLabel': 'amod'},\n",
       "  {'index': 5,\n",
       "   'wordForm': 'mọi',\n",
       "   'posTag': 'L',\n",
       "   'nerLabel': 'O',\n",
       "   'head': 6,\n",
       "   'depLabel': 'det'},\n",
       "  {'index': 6,\n",
       "   'wordForm': 'chỗ',\n",
       "   'posTag': 'N',\n",
       "   'nerLabel': 'O',\n",
       "   'head': 3,\n",
       "   'depLabel': 'amod'},\n",
       "  {'index': 7,\n",
       "   'wordForm': ',',\n",
       "   'posTag': 'CH',\n",
       "   'nerLabel': 'O',\n",
       "   'head': 6,\n",
       "   'depLabel': 'punct'},\n",
       "  {'index': 8,\n",
       "   'wordForm': 'máy',\n",
       "   'posTag': 'N',\n",
       "   'nerLabel': 'O',\n",
       "   'head': 6,\n",
       "   'depLabel': 'nmod'},\n",
       "  {'index': 9,\n",
       "   'wordForm': 'zin',\n",
       "   'posTag': 'V',\n",
       "   'nerLabel': 'O',\n",
       "   'head': 8,\n",
       "   'depLabel': 'nmod'},\n",
       "  {'index': 10,\n",
       "   'wordForm': 'all',\n",
       "   'posTag': 'N',\n",
       "   'nerLabel': 'O',\n",
       "   'head': 8,\n",
       "   'depLabel': 'nmod'},\n",
       "  {'index': 11,\n",
       "   'wordForm': ',',\n",
       "   'posTag': 'CH',\n",
       "   'nerLabel': 'O',\n",
       "   'head': 6,\n",
       "   'depLabel': 'punct'},\n",
       "  {'index': 12,\n",
       "   'wordForm': 'chế_độ',\n",
       "   'posTag': 'N',\n",
       "   'nerLabel': 'O',\n",
       "   'head': 6,\n",
       "   'depLabel': 'nmod'},\n",
       "  {'index': 13,\n",
       "   'wordForm': 'bảo_hành',\n",
       "   'posTag': 'V',\n",
       "   'nerLabel': 'O',\n",
       "   'head': 12,\n",
       "   'depLabel': 'nmod'},\n",
       "  {'index': 14,\n",
       "   'wordForm': 'đổi',\n",
       "   'posTag': 'V',\n",
       "   'nerLabel': 'O',\n",
       "   'head': 13,\n",
       "   'depLabel': 'vmod'},\n",
       "  {'index': 15,\n",
       "   'wordForm': 'trả',\n",
       "   'posTag': 'V',\n",
       "   'nerLabel': 'O',\n",
       "   'head': 14,\n",
       "   'depLabel': 'vmod'},\n",
       "  {'index': 16,\n",
       "   'wordForm': 'kém',\n",
       "   'posTag': 'A',\n",
       "   'nerLabel': 'O',\n",
       "   'head': 15,\n",
       "   'depLabel': 'vmod'},\n",
       "  {'index': 17,\n",
       "   'wordForm': 'hơn',\n",
       "   'posTag': 'A',\n",
       "   'nerLabel': 'O',\n",
       "   'head': 16,\n",
       "   'depLabel': 'amod'},\n",
       "  {'index': 18,\n",
       "   'wordForm': 'chỗ',\n",
       "   'posTag': 'N',\n",
       "   'nerLabel': 'O',\n",
       "   'head': 15,\n",
       "   'depLabel': 'dob'},\n",
       "  {'index': 19,\n",
       "   'wordForm': 'khác',\n",
       "   'posTag': 'A',\n",
       "   'nerLabel': 'O',\n",
       "   'head': 18,\n",
       "   'depLabel': 'nmod'},\n",
       "  {'index': 20,\n",
       "   'wordForm': '.',\n",
       "   'posTag': 'CH',\n",
       "   'nerLabel': 'O',\n",
       "   'head': 3,\n",
       "   'depLabel': 'punct'}],\n",
       " 4: [{'index': 1,\n",
       "   'wordForm': 'OK',\n",
       "   'posTag': 'Nb',\n",
       "   'nerLabel': 'O',\n",
       "   'head': 0,\n",
       "   'depLabel': 'root'}]}"
      ]
     },
     "execution_count": 6,
     "metadata": {},
     "output_type": "execute_result"
    }
   ],
   "source": [
    "result"
   ]
  },
  {
   "cell_type": "markdown",
   "id": "ce4969d3",
   "metadata": {},
   "source": [
    "### Tính năng tokenize + segment"
   ]
  },
  {
   "cell_type": "code",
   "execution_count": 7,
   "id": "393810da",
   "metadata": {},
   "outputs": [
    {
     "data": {
      "text/plain": [
       "['Ông Nguyễn_Khắc_Chúc đang làm_việc tại Đại_học Quốc_gia Hà_Nội .',\n",
       " 'Bà Lan , vợ ông Chúc , cũng làm_việc tại đây .']"
      ]
     },
     "execution_count": 7,
     "metadata": {},
     "output_type": "execute_result"
    }
   ],
   "source": [
    "model.word_segment(\n",
    "    \"Ông Nguyễn Khắc Chúc  đang làm việc tại Đại học Quốc gia Hà Nội. Bà Lan, vợ ông Chúc, cũng làm việc tại đây.\"\n",
    ")"
   ]
  },
  {
   "cell_type": "markdown",
   "id": "b0b3298e",
   "metadata": {},
   "source": [
    "### Bài toán trích xuất đánh giá cho từng thuộc tính trong comment"
   ]
  },
  {
   "cell_type": "code",
   "execution_count": 10,
   "id": "2fb75e2d",
   "metadata": {},
   "outputs": [],
   "source": [
    "from typing import List, Dict, Any, Optional\n",
    "import json  # Để in đẹp hơn"
   ]
  },
  {
   "cell_type": "code",
   "execution_count": 12,
   "id": "c2d757c7",
   "metadata": {},
   "outputs": [],
   "source": [
    "def extract_attributes_from_dependency_v3(\n",
    "    parsed_sentence: List[Dict[str, Any]],\n",
    ") -> List[Dict[str, Any]]:\n",
    "    \"\"\"\n",
    "    Trích xuất các cặp (Danh từ, Thuộc tính) và các trạng từ bổ nghĩa\n",
    "    từ kết quả dependency parsing của VnCoreNLP (Version 3).\n",
    "\n",
    "    Xử lý các trường hợp:\n",
    "    1. Tính từ (A) là 'nmod' của Danh từ (N/P). (vd: nhân viên nhiệt tình)\n",
    "    2. Tính từ (A) là 'vmod' của Động từ (V), và tìm chủ ngữ (sub) của Động từ đó. (vd: pin sạc nhanh)\n",
    "    3. Thuộc tính (A, V đặc biệt) có chủ ngữ (sub) hoặc bổ ngữ trực tiếp (dob) là Danh từ (N/P). (vd: loa tạm, giá cao)\n",
    "\n",
    "    Tìm Trạng từ (R) bổ nghĩa cho thuộc tính (depLabel 'adv' hoặc 'amod').\n",
    "\n",
    "    Args:\n",
    "        parsed_sentence: List các dictionary, mỗi dict chứa thông tin 1 từ.\n",
    "\n",
    "    Returns:\n",
    "        Một list các dictionary, mỗi dict có dạng:\n",
    "        {\n",
    "            'noun': wordForm của danh từ được mô tả,\n",
    "            'noun_index': index của danh từ,\n",
    "            'attribute': wordForm của từ thuộc tính,\n",
    "            'attribute_index': index của từ thuộc tính,\n",
    "            'attribute_pos': posTag của từ thuộc tính,\n",
    "            'modifiers': list các wordForm của trạng từ bổ nghĩa cho thuộc tính\n",
    "        }\n",
    "    \"\"\"\n",
    "    if not parsed_sentence:\n",
    "        return []\n",
    "\n",
    "    word_dict = {word[\"index\"]: word for word in parsed_sentence}\n",
    "    extracted_pairs = []\n",
    "    processed_attribute_indices = set()  # Tránh xử lý lại cùng 1 thuộc tính\n",
    "\n",
    "    # --- Helper Functions ---\n",
    "    def find_modifiers(attr_node: Dict[str, Any]) -> List[str]:\n",
    "        \"\"\"Tìm các trạng từ (R) bổ nghĩa trực tiếp cho node thuộc tính (adv hoặc amod).\"\"\"\n",
    "        mods = []\n",
    "        attr_idx = attr_node.get(\"index\")\n",
    "        for word in word_dict.values():\n",
    "            if (\n",
    "                word.get(\"head\") == attr_idx\n",
    "                and word.get(\"posTag\") == \"R\"\n",
    "                and word.get(\"depLabel\") in (\"adv\", \"amod\")\n",
    "            ):\n",
    "                mods.append(word.get(\"wordForm\", \"\"))\n",
    "        return mods\n",
    "\n",
    "    def find_direct_subject_object_noun(\n",
    "        node: Dict[str, Any],\n",
    "    ) -> Optional[Dict[str, Any]]:\n",
    "        \"\"\"Tìm chủ ngữ (sub) hoặc bổ ngữ trực tiếp (dob) là N/P của node này.\"\"\"\n",
    "        node_idx = node.get(\"index\")\n",
    "        for word in word_dict.values():\n",
    "            if word.get(\"head\") == node_idx and word.get(\"posTag\", \"\").startswith(\n",
    "                (\"N\", \"P\")\n",
    "            ):\n",
    "                if word.get(\"depLabel\") in (\"sub\", \"dob\"):\n",
    "                    # Kiểm tra xem noun này có thuộc trường hợp nmod (đã xử lý ở ưu tiên 1)\n",
    "                    has_direct_adj_mod = False\n",
    "                    for w_check in word_dict.values():\n",
    "                        if (\n",
    "                            w_check.get(\"head\") == word.get(\"index\")\n",
    "                            and w_check.get(\"depLabel\") == \"nmod\"\n",
    "                            and w_check.get(\"posTag\") == \"A\"\n",
    "                        ):\n",
    "                            has_direct_adj_mod = True\n",
    "                            break\n",
    "                    if not has_direct_adj_mod:\n",
    "                        return word\n",
    "        return None\n",
    "\n",
    "    # --- Main Logic ---\n",
    "    # Duyệt qua từng từ để tìm các từ thuộc tính tiềm năng\n",
    "    for word in parsed_sentence:\n",
    "        word_idx = word.get(\"index\")\n",
    "        if word_idx in processed_attribute_indices:\n",
    "            continue\n",
    "\n",
    "        related_noun_node = None\n",
    "        attribute_node = None\n",
    "\n",
    "        # --- Ưu tiên 1: Tính từ (A) bổ nghĩa trực tiếp cho danh từ (nmod) ---\n",
    "        if word.get(\"posTag\") == \"A\" and word.get(\"depLabel\") == \"nmod\":\n",
    "            head_idx = word.get(\"head\")\n",
    "            if head_idx and head_idx in word_dict:\n",
    "                head_node = word_dict[head_idx]\n",
    "                if head_node.get(\"posTag\", \"\").startswith((\"N\", \"P\")):\n",
    "                    attribute_node = word\n",
    "                    related_noun_node = head_node\n",
    "                    processed_attribute_indices.add(word_idx)\n",
    "\n",
    "        # --- Ưu tiên 2: Tính từ (A) là 'vmod' của Động từ (V), tìm chủ ngữ (sub) của V đó ---\n",
    "        if (\n",
    "            not attribute_node\n",
    "            and word.get(\"posTag\") == \"A\"\n",
    "            and word.get(\"depLabel\") == \"vmod\"\n",
    "        ):\n",
    "            head_idx = word.get(\"head\")  # Index của Verb\n",
    "            if head_idx and head_idx in word_dict:\n",
    "                verb_node = word_dict[head_idx]\n",
    "                if verb_node.get(\"posTag\") == \"V\":\n",
    "                    # Tìm chủ ngữ (sub) của Verb này\n",
    "                    for potential_noun in word_dict.values():\n",
    "                        if (\n",
    "                            potential_noun.get(\"head\") == head_idx\n",
    "                            and potential_noun.get(\"depLabel\") == \"sub\"\n",
    "                            and potential_noun.get(\"posTag\", \"\").startswith((\"N\", \"P\"))\n",
    "                        ):\n",
    "                            attribute_node = word\n",
    "                            related_noun_node = potential_noun\n",
    "                            processed_attribute_indices.add(word_idx)\n",
    "                            break  # Tìm thấy chủ ngữ thì dừng\n",
    "\n",
    "        # --- Ưu tiên 3: Tìm các thuộc tính khác (A, V đặc biệt) và noun liên quan (sub/dob của chính nó) ---\n",
    "        if not attribute_node:\n",
    "            is_potential_attribute = False\n",
    "            if word.get(\"posTag\") == \"A\":  # Tính từ làm root hoặc predicate khác\n",
    "                is_potential_attribute = True\n",
    "            elif word.get(\"posTag\") == \"V\" and word.get(\"wordForm\") in (\n",
    "                \"bị\",\n",
    "                \"được\",\n",
    "                \"hài_lòng\",\n",
    "            ):  # Động từ trạng thái\n",
    "                is_potential_attribute = True\n",
    "\n",
    "            if is_potential_attribute:\n",
    "                # Tìm chủ ngữ (sub) hoặc bổ ngữ (dob) trực tiếp của thuộc tính này\n",
    "                noun_node = find_direct_subject_object_noun(word)\n",
    "                if noun_node:\n",
    "                    attribute_node = word\n",
    "                    related_noun_node = noun_node\n",
    "                    processed_attribute_indices.add(word_idx)\n",
    "\n",
    "        # Nếu tìm thấy cặp (noun, attribute)\n",
    "        if related_noun_node and attribute_node:\n",
    "            modifier_list = find_modifiers(attribute_node)\n",
    "            extracted_pairs.append(\n",
    "                {\n",
    "                    \"noun\": related_noun_node.get(\"wordForm\", \"\"),\n",
    "                    \"noun_index\": related_noun_node.get(\"index\"),\n",
    "                    \"attribute\": attribute_node.get(\"wordForm\", \"\"),\n",
    "                    \"attribute_index\": attribute_node.get(\"index\"),\n",
    "                    \"attribute_pos\": attribute_node.get(\"posTag\", \"\"),\n",
    "                    \"modifiers\": modifier_list,\n",
    "                }\n",
    "            )\n",
    "\n",
    "    # Lọc kết quả cuối cùng nếu cần (ví dụ: đảm bảo noun không trùng lặp quá nhiều)\n",
    "    final_results = extracted_pairs\n",
    "\n",
    "    return final_results"
   ]
  },
  {
   "cell_type": "code",
   "execution_count": 13,
   "id": "6133a145",
   "metadata": {},
   "outputs": [],
   "source": [
    "def extract_attributes_from_dependency_v4(\n",
    "    parsed_sentence: List[Dict[str, Any]],\n",
    ") -> List[Dict[str, Any]]:\n",
    "    \"\"\"\n",
    "    Trích xuất các cặp (Danh từ, Thuộc tính) và các trạng từ bổ nghĩa (Version 4).\n",
    "\n",
    "    Xử lý các trường hợp:\n",
    "    1. Tính từ (A) là 'nmod' của Danh từ (N/P). (vd: nhân viên nhiệt tình)\n",
    "    2. Tính từ (A) là 'vmod' của Động từ (V), và tìm chủ ngữ (sub) của Động từ đó. (vd: pin sạc nhanh)\n",
    "    3. (Mới) Tính từ (A) và Động từ (V_link) là siblings (cùng head), tìm chủ ngữ (sub) của V_link. (vd: pin dùng lâu - khi parse bị rời rạc)\n",
    "    4. Thuộc tính (A, V đặc biệt) có chủ ngữ (sub) hoặc bổ ngữ trực tiếp (dob) là Danh từ (N/P). (vd: loa tạm, giá cao)\n",
    "\n",
    "    Tìm Trạng từ (R) bổ nghĩa cho thuộc tính (depLabel 'adv' hoặc 'amod').\n",
    "    \"\"\"\n",
    "    if not parsed_sentence:\n",
    "        return []\n",
    "\n",
    "    word_dict = {word[\"index\"]: word for word in parsed_sentence}\n",
    "    extracted_pairs = []\n",
    "    processed_attribute_indices = set()  # Tránh xử lý lại cùng 1 thuộc tính\n",
    "    processed_noun_indices = set()  # Tránh noun bị gán nhiều thuộc tính không liên quan\n",
    "\n",
    "    # --- Helper Functions (giữ nguyên từ v3) ---\n",
    "    def find_modifiers(attr_node: Dict[str, Any]) -> List[str]:\n",
    "        mods = []\n",
    "        attr_idx = attr_node.get(\"index\")\n",
    "        for word in word_dict.values():\n",
    "            if (\n",
    "                word.get(\"head\") == attr_idx\n",
    "                and word.get(\"posTag\") == \"R\"\n",
    "                and word.get(\"depLabel\") in (\"adv\", \"amod\")\n",
    "            ):\n",
    "                mods.append(word.get(\"wordForm\", \"\"))\n",
    "        return mods\n",
    "\n",
    "    def find_direct_subject_object_noun(\n",
    "        node: Dict[str, Any],\n",
    "    ) -> Optional[Dict[str, Any]]:\n",
    "        node_idx = node.get(\"index\")\n",
    "        for word in word_dict.values():\n",
    "            if word.get(\"head\") == node_idx and word.get(\"posTag\", \"\").startswith(\n",
    "                (\"N\", \"P\")\n",
    "            ):\n",
    "                if word.get(\"depLabel\") in (\"sub\", \"dob\"):\n",
    "                    has_direct_adj_mod = False\n",
    "                    for w_check in word_dict.values():\n",
    "                        if (\n",
    "                            w_check.get(\"head\") == word.get(\"index\")\n",
    "                            and w_check.get(\"depLabel\") == \"nmod\"\n",
    "                            and w_check.get(\"posTag\") == \"A\"\n",
    "                        ):\n",
    "                            has_direct_adj_mod = True\n",
    "                            break\n",
    "                    if not has_direct_adj_mod:\n",
    "                        return word\n",
    "        return None\n",
    "\n",
    "    # --- End Helper Functions ---\n",
    "\n",
    "    # --- Main Logic ---\n",
    "    # Duyệt qua từng từ để tìm các từ thuộc tính tiềm năng\n",
    "    for word in parsed_sentence:\n",
    "        word_idx = word.get(\"index\")\n",
    "        if word_idx in processed_attribute_indices:\n",
    "            continue\n",
    "\n",
    "        related_noun_node = None\n",
    "        attribute_node = None\n",
    "\n",
    "        # --- Ưu tiên 1: Tính từ (A) bổ nghĩa trực tiếp cho danh từ (nmod) ---\n",
    "        if word.get(\"posTag\") == \"A\" and word.get(\"depLabel\") == \"nmod\":\n",
    "            head_idx = word.get(\"head\")\n",
    "            if head_idx and head_idx in word_dict:\n",
    "                head_node = word_dict[head_idx]\n",
    "                if (\n",
    "                    head_node.get(\"posTag\", \"\").startswith((\"N\", \"P\"))\n",
    "                    and head_idx not in processed_noun_indices\n",
    "                ):\n",
    "                    attribute_node = word\n",
    "                    related_noun_node = head_node\n",
    "                    processed_attribute_indices.add(word_idx)\n",
    "                    processed_noun_indices.add(\n",
    "                        head_idx\n",
    "                    )  # Đánh dấu noun đã có attribute trực tiếp\n",
    "\n",
    "        # --- Ưu tiên 2: Tính từ (A) là 'vmod' của Động từ (V), tìm chủ ngữ (sub) của V đó ---\n",
    "        if (\n",
    "            not attribute_node\n",
    "            and word.get(\"posTag\") == \"A\"\n",
    "            and word.get(\"depLabel\") == \"vmod\"\n",
    "        ):\n",
    "            head_idx = word.get(\"head\")  # Index của Verb\n",
    "            if head_idx and head_idx in word_dict:\n",
    "                verb_node = word_dict[head_idx]\n",
    "                if verb_node.get(\"posTag\") == \"V\":\n",
    "                    for potential_noun in word_dict.values():\n",
    "                        if (\n",
    "                            potential_noun.get(\"head\") == head_idx\n",
    "                            and potential_noun.get(\"depLabel\") == \"sub\"\n",
    "                            and potential_noun.get(\"posTag\", \"\").startswith((\"N\", \"P\"))\n",
    "                            and potential_noun.get(\"index\")\n",
    "                            not in processed_noun_indices\n",
    "                        ):\n",
    "                            attribute_node = word\n",
    "                            related_noun_node = potential_noun\n",
    "                            processed_attribute_indices.add(word_idx)\n",
    "                            processed_noun_indices.add(potential_noun.get(\"index\"))\n",
    "                            break\n",
    "\n",
    "        # --- Ưu tiên 2b (Mới): Tính từ (A) và Động từ (V_link) là siblings, tìm chủ ngữ (sub) của V_link ---\n",
    "        if (\n",
    "            not attribute_node and word.get(\"posTag\") == \"A\" and word.get(\"head\")\n",
    "        ):  # Chỉ xét A có head\n",
    "            attr_head_idx = word.get(\"head\")\n",
    "            # Tìm động từ V_link có cùng head với A\n",
    "            for potential_verb_idx, potential_verb_node in word_dict.items():\n",
    "                if (\n",
    "                    potential_verb_idx != word_idx\n",
    "                    and potential_verb_node.get(\"posTag\") == \"V\"\n",
    "                    and potential_verb_node.get(\"head\") == attr_head_idx\n",
    "                ):  # Cùng head\n",
    "                    # Tìm chủ ngữ (sub) của potential_verb_node\n",
    "                    for potential_noun in word_dict.values():\n",
    "                        if (\n",
    "                            potential_noun.get(\"head\") == potential_verb_idx\n",
    "                            and potential_noun.get(\"depLabel\") == \"sub\"\n",
    "                            and potential_noun.get(\"posTag\", \"\").startswith((\"N\", \"P\"))\n",
    "                            and potential_noun.get(\"index\")\n",
    "                            not in processed_noun_indices\n",
    "                        ):\n",
    "                            # Tìm thấy cấu trúc N -> V_link và A -> cùng head\n",
    "                            attribute_node = word\n",
    "                            related_noun_node = potential_noun\n",
    "                            processed_attribute_indices.add(word_idx)\n",
    "                            processed_noun_indices.add(potential_noun.get(\"index\"))\n",
    "                            break  # Dừng tìm noun\n",
    "                    if attribute_node:\n",
    "                        break  # Dừng tìm verb\n",
    "\n",
    "        # --- Ưu tiên 3: Tìm các thuộc tính khác (A, V đặc biệt) và noun liên quan (sub/dob của chính nó) ---\n",
    "        if not attribute_node:\n",
    "            is_potential_attribute = False\n",
    "            if word.get(\"posTag\") == \"A\":\n",
    "                is_potential_attribute = True\n",
    "            elif word.get(\"posTag\") == \"V\" and word.get(\"wordForm\") in (\n",
    "                \"bị\",\n",
    "                \"được\",\n",
    "                \"hài_lòng\",\n",
    "            ):\n",
    "                is_potential_attribute = True\n",
    "\n",
    "            if is_potential_attribute:\n",
    "                noun_node = find_direct_subject_object_noun(word)\n",
    "                if noun_node and noun_node.get(\"index\") not in processed_noun_indices:\n",
    "                    attribute_node = word\n",
    "                    related_noun_node = noun_node\n",
    "                    processed_attribute_indices.add(word_idx)\n",
    "                    processed_noun_indices.add(noun_node.get(\"index\"))\n",
    "\n",
    "        # Nếu tìm thấy cặp (noun, attribute)\n",
    "        if related_noun_node and attribute_node:\n",
    "            modifier_list = find_modifiers(attribute_node)\n",
    "            extracted_pairs.append(\n",
    "                {\n",
    "                    \"noun\": related_noun_node.get(\"wordForm\", \"\"),\n",
    "                    \"noun_index\": related_noun_node.get(\"index\"),\n",
    "                    \"attribute\": attribute_node.get(\"wordForm\", \"\"),\n",
    "                    \"attribute_index\": attribute_node.get(\"index\"),\n",
    "                    \"attribute_pos\": attribute_node.get(\"posTag\", \"\"),\n",
    "                    \"modifiers\": modifier_list,\n",
    "                }\n",
    "            )\n",
    "\n",
    "    final_results = extracted_pairs\n",
    "    return final_results"
   ]
  },
  {
   "cell_type": "code",
   "execution_count": 14,
   "id": "8c8e266d",
   "metadata": {},
   "outputs": [],
   "source": [
    "def extract_attributes_from_all_segments_of_sentence(sentence):\n",
    "    \"\"\"\n",
    "    Trích xuất các thuộc tính từ tất cả các phân đoạn của câu.\n",
    "    \"\"\"\n",
    "    all_attributes = []\n",
    "    parsed_sentence_data = model.annotate_text(sentence)\n",
    "    for i in range(len(parsed_sentence_data)):\n",
    "        sentence_data = parsed_sentence_data[i]\n",
    "        attributes = extract_attributes_from_dependency_v4(sentence_data)\n",
    "        if attributes:  # Chỉ thêm vào nếu có kết quả\n",
    "            all_attributes.extend(attributes)\n",
    "    return all_attributes"
   ]
  },
  {
   "cell_type": "code",
   "execution_count": 15,
   "id": "e0a4e812",
   "metadata": {},
   "outputs": [],
   "source": [
    "example1 = \"Loa cũng tạm, âm thanh nghe cũng được, giá hơi cao nha :)\"\n",
    "example2 = \"Được cái nhân viên nhiệt tình, giao hàng nhanh.\"\n",
    "example3 = \"Màn hình chụp đẹp, máy chạy mượt, pin dùng lâu\"\n",
    "example4 = \"Nhân viên ở đây rất nhiệt tình, tôi hài lòng với dịch vụ. Điện thoại giá cả hợp lý, chất lượng tốt.\"\n",
    "example5 = \"nhân viên thân thiện tư vấn nhiệt tình, cảm ơn nhân viên đmx Quảng Tùng\"\n",
    "example6 = \"sản phẩm sài ok lắm\"\n",
    "example7=\"điện thoại dùng mượt, chụp hình đẹp, pin dùng mãi chả thấy hết để sạc, rất hài lòng. Ai đang định mua thì chọn luôn không phải lăn tăn nhé\""
   ]
  },
  {
   "cell_type": "code",
   "execution_count": 16,
   "id": "c5f80e6c",
   "metadata": {},
   "outputs": [
    {
     "name": "stdout",
     "output_type": "stream",
     "text": [
      "Loa cũng tạm, âm thanh nghe cũng được, giá hơi cao nha :)\n",
      "\n",
      "---\n",
      "\n"
     ]
    },
    {
     "data": {
      "text/plain": [
       "[{'noun': 'Loa',\n",
       "  'noun_index': 1,\n",
       "  'attribute': 'tạm',\n",
       "  'attribute_index': 3,\n",
       "  'attribute_pos': 'A',\n",
       "  'modifiers': ['cũng']},\n",
       " {'noun': 'âm_thanh',\n",
       "  'noun_index': 5,\n",
       "  'attribute': 'được',\n",
       "  'attribute_index': 8,\n",
       "  'attribute_pos': 'V',\n",
       "  'modifiers': ['cũng']},\n",
       " {'noun': 'giá',\n",
       "  'noun_index': 10,\n",
       "  'attribute': 'cao',\n",
       "  'attribute_index': 12,\n",
       "  'attribute_pos': 'A',\n",
       "  'modifiers': ['hơi']}]"
      ]
     },
     "execution_count": 16,
     "metadata": {},
     "output_type": "execute_result"
    }
   ],
   "source": [
    "print(example1)\n",
    "print(\"\\n---\\n\")\n",
    "extract_attributes_from_all_segments_of_sentence(example1)"
   ]
  },
  {
   "cell_type": "code",
   "execution_count": 17,
   "id": "9a3eb9a6",
   "metadata": {},
   "outputs": [
    {
     "name": "stdout",
     "output_type": "stream",
     "text": [
      "Được cái nhân viên nhiệt tình, giao hàng nhanh.\n",
      "\n",
      "---\n",
      "\n"
     ]
    },
    {
     "data": {
      "text/plain": [
       "[{'noun': 'nhân_viên',\n",
       "  'noun_index': 2,\n",
       "  'attribute': 'nhiệt_tình',\n",
       "  'attribute_index': 3,\n",
       "  'attribute_pos': 'A',\n",
       "  'modifiers': []},\n",
       " {'noun': 'hàng',\n",
       "  'noun_index': 6,\n",
       "  'attribute': 'nhanh',\n",
       "  'attribute_index': 7,\n",
       "  'attribute_pos': 'A',\n",
       "  'modifiers': []}]"
      ]
     },
     "execution_count": 17,
     "metadata": {},
     "output_type": "execute_result"
    }
   ],
   "source": [
    "print(example2)\n",
    "print(\"\\n---\\n\")\n",
    "extract_attributes_from_all_segments_of_sentence(example2)"
   ]
  },
  {
   "cell_type": "code",
   "execution_count": 18,
   "id": "fdd68bef",
   "metadata": {},
   "outputs": [
    {
     "name": "stdout",
     "output_type": "stream",
     "text": [
      "Màn hình chụp đẹp, máy chạy mượt, pin dùng lâu\n",
      "\n",
      "---\n",
      "\n"
     ]
    },
    {
     "data": {
      "text/plain": [
       "[{'noun': 'Màn_hình',\n",
       "  'noun_index': 1,\n",
       "  'attribute': 'đẹp',\n",
       "  'attribute_index': 3,\n",
       "  'attribute_pos': 'A',\n",
       "  'modifiers': []},\n",
       " {'noun': 'máy',\n",
       "  'noun_index': 5,\n",
       "  'attribute': 'mượt',\n",
       "  'attribute_index': 7,\n",
       "  'attribute_pos': 'A',\n",
       "  'modifiers': []},\n",
       " {'noun': 'pin',\n",
       "  'noun_index': 9,\n",
       "  'attribute': 'lâu',\n",
       "  'attribute_index': 11,\n",
       "  'attribute_pos': 'A',\n",
       "  'modifiers': []}]"
      ]
     },
     "execution_count": 18,
     "metadata": {},
     "output_type": "execute_result"
    }
   ],
   "source": [
    "print(example3)\n",
    "print(\"\\n---\\n\")\n",
    "extract_attributes_from_all_segments_of_sentence(example3)"
   ]
  },
  {
   "cell_type": "code",
   "execution_count": 19,
   "id": "9d1e542d",
   "metadata": {},
   "outputs": [
    {
     "name": "stdout",
     "output_type": "stream",
     "text": [
      "Nhân viên ở đây rất nhiệt tình, tôi hài lòng với dịch vụ. Điện thoại giá cả hợp lý, chất lượng tốt.\n",
      "\n",
      "---\n",
      "\n"
     ]
    },
    {
     "data": {
      "text/plain": [
       "[{'noun': 'Nhân_viên',\n",
       "  'noun_index': 1,\n",
       "  'attribute': 'nhiệt_tình',\n",
       "  'attribute_index': 5,\n",
       "  'attribute_pos': 'A',\n",
       "  'modifiers': ['rất']},\n",
       " {'noun': 'tôi',\n",
       "  'noun_index': 7,\n",
       "  'attribute': 'hài_lòng',\n",
       "  'attribute_index': 8,\n",
       "  'attribute_pos': 'V',\n",
       "  'modifiers': []},\n",
       " {'noun': 'Điện_thoại',\n",
       "  'noun_index': 1,\n",
       "  'attribute': 'hợp_lý',\n",
       "  'attribute_index': 3,\n",
       "  'attribute_pos': 'A',\n",
       "  'modifiers': []},\n",
       " {'noun': 'chất_lượng',\n",
       "  'noun_index': 5,\n",
       "  'attribute': 'tốt',\n",
       "  'attribute_index': 6,\n",
       "  'attribute_pos': 'A',\n",
       "  'modifiers': []}]"
      ]
     },
     "execution_count": 19,
     "metadata": {},
     "output_type": "execute_result"
    }
   ],
   "source": [
    "print(example4)\n",
    "print(\"\\n---\\n\")\n",
    "extract_attributes_from_all_segments_of_sentence(example4)"
   ]
  },
  {
   "cell_type": "code",
   "execution_count": 20,
   "id": "ba362d18",
   "metadata": {},
   "outputs": [
    {
     "name": "stdout",
     "output_type": "stream",
     "text": [
      "nhân viên thân thiện tư vấn nhiệt tình, cảm ơn nhân viên đmx Quảng Tùng\n",
      "\n",
      "---\n",
      "\n"
     ]
    },
    {
     "data": {
      "text/plain": [
       "[{'noun': 'nhân_viên',\n",
       "  'noun_index': 1,\n",
       "  'attribute': 'thân_thiện',\n",
       "  'attribute_index': 2,\n",
       "  'attribute_pos': 'A',\n",
       "  'modifiers': []}]"
      ]
     },
     "execution_count": 20,
     "metadata": {},
     "output_type": "execute_result"
    }
   ],
   "source": [
    "print(example5)\n",
    "print(\"\\n---\\n\")\n",
    "extract_attributes_from_all_segments_of_sentence(example5)"
   ]
  },
  {
   "cell_type": "code",
   "execution_count": 21,
   "id": "3fd0a19c",
   "metadata": {},
   "outputs": [
    {
     "name": "stdout",
     "output_type": "stream",
     "text": [
      "sản phẩm sài ok lắm\n",
      "\n",
      "---\n",
      "\n"
     ]
    },
    {
     "data": {
      "text/plain": [
       "[{'noun': 'sản_phẩm',\n",
       "  'noun_index': 1,\n",
       "  'attribute': 'ok',\n",
       "  'attribute_index': 3,\n",
       "  'attribute_pos': 'A',\n",
       "  'modifiers': []}]"
      ]
     },
     "execution_count": 21,
     "metadata": {},
     "output_type": "execute_result"
    }
   ],
   "source": [
    "print(example6)\n",
    "print(\"\\n---\\n\")\n",
    "extract_attributes_from_all_segments_of_sentence(example6)"
   ]
  },
  {
   "cell_type": "code",
   "execution_count": 22,
   "id": "31c29669",
   "metadata": {},
   "outputs": [
    {
     "name": "stdout",
     "output_type": "stream",
     "text": [
      "điện thoại dùng mượt, chụp hình đẹp, pin dùng mãi chả thấy hết để sạc, rất hài lòng. Ai đang định mua thì chọn luôn không phải lăn tăn nhé\n",
      "\n",
      "---\n",
      "\n"
     ]
    },
    {
     "data": {
      "text/plain": [
       "[{'noun': 'điện_thoại',\n",
       "  'noun_index': 1,\n",
       "  'attribute': 'mượt',\n",
       "  'attribute_index': 3,\n",
       "  'attribute_pos': 'A',\n",
       "  'modifiers': []},\n",
       " {'noun': 'hình',\n",
       "  'noun_index': 6,\n",
       "  'attribute': 'đẹp',\n",
       "  'attribute_index': 7,\n",
       "  'attribute_pos': 'A',\n",
       "  'modifiers': []}]"
      ]
     },
     "execution_count": 22,
     "metadata": {},
     "output_type": "execute_result"
    }
   ],
   "source": [
    "print(example7)\n",
    "print(\"\\n---\\n\")\n",
    "extract_attributes_from_all_segments_of_sentence(example7)"
   ]
  },
  {
   "cell_type": "code",
   "execution_count": 23,
   "id": "824acb51",
   "metadata": {},
   "outputs": [
    {
     "name": "stdout",
     "output_type": "stream",
     "text": [
      "Nhân viên giao hàng nhiệt tình, sản phẩm chất lượng tốt, giá cả hợp lý.\n",
      "\n",
      "---\n",
      "\n"
     ]
    },
    {
     "data": {
      "text/plain": [
       "[{'noun': 'hàng',\n",
       "  'noun_index': 3,\n",
       "  'attribute': 'nhiệt_tình',\n",
       "  'attribute_index': 4,\n",
       "  'attribute_pos': 'A',\n",
       "  'modifiers': []},\n",
       " {'noun': 'sản_phẩm',\n",
       "  'noun_index': 6,\n",
       "  'attribute': 'tốt',\n",
       "  'attribute_index': 8,\n",
       "  'attribute_pos': 'A',\n",
       "  'modifiers': []},\n",
       " {'noun': 'giá_cả',\n",
       "  'noun_index': 10,\n",
       "  'attribute': 'hợp_lý',\n",
       "  'attribute_index': 11,\n",
       "  'attribute_pos': 'A',\n",
       "  'modifiers': []}]"
      ]
     },
     "execution_count": 23,
     "metadata": {},
     "output_type": "execute_result"
    }
   ],
   "source": [
    "example8 = \"Nhân viên giao hàng nhiệt tình, sản phẩm chất lượng tốt, giá cả hợp lý.\"\n",
    "print(example8)\n",
    "print(\"\\n---\\n\")\n",
    "extract_attributes_from_all_segments_of_sentence(example8)"
   ]
  }
 ],
 "metadata": {
  "kernelspec": {
   "display_name": ".venv",
   "language": "python",
   "name": "python3"
  },
  "language_info": {
   "codemirror_mode": {
    "name": "ipython",
    "version": 3
   },
   "file_extension": ".py",
   "mimetype": "text/x-python",
   "name": "python",
   "nbconvert_exporter": "python",
   "pygments_lexer": "ipython3",
   "version": "3.10.6"
  }
 },
 "nbformat": 4,
 "nbformat_minor": 5
}
